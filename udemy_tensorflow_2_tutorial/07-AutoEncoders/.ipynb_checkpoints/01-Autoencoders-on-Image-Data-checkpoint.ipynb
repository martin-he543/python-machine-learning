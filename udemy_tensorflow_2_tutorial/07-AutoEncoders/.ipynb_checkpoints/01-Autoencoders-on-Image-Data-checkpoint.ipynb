{
 "cells": [
  {
   "cell_type": "markdown",
   "metadata": {},
   "source": [
    "___\n",
    "\n",
    "<a href='http://www.pieriandata.com'><img src='../Pierian_Data_Logo.png'/></a>\n",
    "___\n",
    "<center><em>Copyright Pierian Data</em></center>\n",
    "<center><em>For more information, visit us at <a href='http://www.pieriandata.com'>www.pieriandata.com</a></em></center>\n",
    "\n",
    "\n",
    "# AutoEncoders on Image Data"
   ]
  },
  {
   "cell_type": "markdown",
   "metadata": {},
   "source": [
    "## The Data"
   ]
  },
  {
   "cell_type": "code",
   "execution_count": 1,
   "metadata": {},
   "outputs": [],
   "source": [
    "import pandas as pd\n",
    "import numpy as np\n",
    "import matplotlib.pyplot as plt"
   ]
  },
  {
   "cell_type": "code",
   "execution_count": 2,
   "metadata": {},
   "outputs": [],
   "source": [
    "from tensorflow.keras.datasets import mnist"
   ]
  },
  {
   "cell_type": "code",
   "execution_count": 3,
   "metadata": {},
   "outputs": [],
   "source": [
    "(X_train, y_train), (X_test, y_test) = mnist.load_data()"
   ]
  },
  {
   "cell_type": "code",
   "execution_count": 12,
   "metadata": {},
   "outputs": [
    {
     "data": {
      "text/plain": [
       "<matplotlib.image.AxesImage at 0x1ea21ab6888>"
      ]
     },
     "execution_count": 12,
     "metadata": {},
     "output_type": "execute_result"
    },
    {
     "data": {
      "image/png": "[encoded data removed]",
      "text/plain": [
       "<Figure size 432x288 with 1 Axes>"
      ]
     },
     "metadata": {
      "needs_background": "light"
     },
     "output_type": "display_data"
    }
   ],
   "source": [
    "plt.imshow(X_train[0])"
   ]
  },
  {
   "cell_type": "code",
   "execution_count": 8,
   "metadata": {},
   "outputs": [],
   "source": [
    "X_train = X_train/255\n",
    "X_test = X_test/255"
   ]
  },
  {
   "cell_type": "markdown",
   "metadata": {},
   "source": [
    "## Basic AutoEncoder"
   ]
  },
  {
   "cell_type": "code",
   "execution_count": 4,
   "metadata": {},
   "outputs": [],
   "source": [
    "from tensorflow.keras.models import Sequential\n",
    "from tensorflow.keras.layers import Dense,Flatten,Reshape\n",
    "from tensorflow.keras.optimizers import SGD"
   ]
  },
  {
   "cell_type": "code",
   "execution_count": 30,
   "metadata": {},
   "outputs": [
    {
     "data": {
      "text/plain": [
       "391.5"
      ]
     },
     "execution_count": 30,
     "metadata": {},
     "output_type": "execute_result"
    }
   ],
   "source": [
    "783/2"
   ]
  },
  {
   "cell_type": "code",
   "execution_count": 31,
   "metadata": {},
   "outputs": [],
   "source": [
    "encoder = Sequential()\n",
    "encoder.add(Flatten(input_shape=[28,28]))\n",
    "encoder.add(Dense(400,activation=\"relu\"))\n",
    "encoder.add(Dense(200,activation=\"relu\"))\n",
    "encoder.add(Dense(100,activation=\"relu\"))\n",
    "encoder.add(Dense(50,activation=\"relu\"))\n",
    "encoder.add(Dense(25,activation=\"relu\"))"
   ]
  },
  {
   "cell_type": "code",
   "execution_count": 32,
   "metadata": {},
   "outputs": [],
   "source": [
    "decoder = Sequential()\n",
    "decoder.add(Dense(50,input_shape=[25],activation='relu'))\n",
    "decoder.add(Dense(100,activation='relu'))\n",
    "decoder.add(Dense(200,activation='relu'))\n",
    "decoder.add(Dense(400,activation='relu'))\n",
    "decoder.add(Dense(28 * 28, activation=\"sigmoid\"))\n",
    "decoder.add(Reshape([28, 28]))"
   ]
  },
  {
   "cell_type": "code",
   "execution_count": 33,
   "metadata": {},
   "outputs": [],
   "source": [
    "autoencoder = Sequential([encoder, decoder])\n",
    "autoencoder.compile(loss=\"binary_crossentropy\",optimizer=SGD(lr=1.5),metrics=['accuracy'])"
   ]
  },
  {
   "cell_type": "code",
   "execution_count": 34,
   "metadata": {},
   "outputs": [
    {
     "name": "stdout",
     "output_type": "stream",
     "text": [
      "Train on 60000 samples, validate on 10000 samples\n",
      "Epoch 1/5\n",
      "60000/60000 [==============================] - 18s 293us/sample - loss: 0.2496 - accuracy: 0.7914 - val_loss: 0.2133 - val_accuracy: 0.7952\n",
      "Epoch 2/5\n",
      "60000/60000 [==============================] - 17s 279us/sample - loss: 0.1872 - accuracy: 0.7977 - val_loss: 0.1687 - val_accuracy: 0.8013\n",
      "Epoch 3/5\n",
      "60000/60000 [==============================] - 16s 274us/sample - loss: 0.1620 - accuracy: 0.8019 - val_loss: 0.1555 - val_accuracy: 0.8021\n",
      "Epoch 4/5\n",
      "60000/60000 [==============================] - 17s 277us/sample - loss: 0.1517 - accuracy: 0.8033 - val_loss: 0.1605 - val_accuracy: 0.7970\n",
      "Epoch 5/5\n",
      "60000/60000 [==============================] - 18s 305us/sample - loss: 0.1442 - accuracy: 0.8046 - val_loss: 0.1385 - val_accuracy: 0.8053\n"
     ]
    },
    {
     "data": {
      "text/plain": [
       "<tensorflow.python.keras.callbacks.History at 0x1ea3ea44c88>"
      ]
     },
     "execution_count": 34,
     "metadata": {},
     "output_type": "execute_result"
    }
   ],
   "source": [
    "autoencoder.fit(X_train, X_train, epochs=5,validation_data=[X_test, X_test])"
   ]
  },
  {
   "cell_type": "code",
   "execution_count": 35,
   "metadata": {},
   "outputs": [],
   "source": [
    "passed_images = autoencoder.predict(X_test[:10])"
   ]
  },
  {
   "cell_type": "code",
   "execution_count": 36,
   "metadata": {},
   "outputs": [
    {
     "data": {
      "text/plain": [
       "<matplotlib.image.AxesImage at 0x1ea40918d48>"
      ]
     },
     "execution_count": 36,
     "metadata": {},
     "output_type": "execute_result"
    },
    {
     "data": {
      "image/png": "[encoded data removed]",
      "text/plain": [
       "<Figure size 432x288 with 1 Axes>"
      ]
     },
     "metadata": {
      "needs_background": "light"
     },
     "output_type": "display_data"
    }
   ],
   "source": [
    "plt.imshow(passed_images[0])"
   ]
  },
  {
   "cell_type": "code",
   "execution_count": 37,
   "metadata": {},
   "outputs": [
    {
     "data": {
      "text/plain": [
       "<matplotlib.image.AxesImage at 0x1ea4097d9c8>"
      ]
     },
     "execution_count": 37,
     "metadata": {},
     "output_type": "execute_result"
    },
    {
     "data": {
      "image/png": "[encoded data removed]",
      "text/plain": [
       "<Figure size 432x288 with 1 Axes>"
      ]
     },
     "metadata": {
      "needs_background": "light"
     },
     "output_type": "display_data"
    }
   ],
   "source": [
    "plt.imshow(X_test[0])"
   ]
  },
  {
   "cell_type": "markdown",
   "metadata": {},
   "source": [
    "# AutoEncoders for Denoising Images"
   ]
  },
  {
   "cell_type": "code",
   "execution_count": 5,
   "metadata": {},
   "outputs": [],
   "source": [
    "from tensorflow.keras.layers import GaussianNoise"
   ]
  },
  {
   "cell_type": "code",
   "execution_count": 50,
   "metadata": {},
   "outputs": [],
   "source": [
    "sample = GaussianNoise(0.2)"
   ]
  },
  {
   "cell_type": "code",
   "execution_count": 51,
   "metadata": {},
   "outputs": [
    {
     "name": "stdout",
     "output_type": "stream",
     "text": [
      "WARNING:tensorflow:Layer gaussian_noise_7 is casting an input tensor from dtype float64 to the layer's dtype of float32, which is new behavior in TensorFlow 2.  The layer has dtype float32 because it's dtype defaults to floatx.\n",
      "\n",
      "If you intended to run this layer in float32, you can safely ignore this warning. If in doubt, this warning is likely only an issue if you are porting a TensorFlow 1.X model to TensorFlow 2.\n",
      "\n",
      "To change all layers to have dtype float64 by default, call `tf.keras.backend.set_floatx('float64')`. To change just this layer, pass dtype='float64' to the layer constructor. If you are the author of this layer, you can disable autocasting by passing autocast=False to the base Layer constructor.\n",
      "\n"
     ]
    }
   ],
   "source": [
    "noisey = sample(X_test[0:2],training=True)"
   ]
  },
  {
   "cell_type": "code",
   "execution_count": 52,
   "metadata": {},
   "outputs": [
    {
     "data": {
      "text/plain": [
       "<matplotlib.image.AxesImage at 0x1afeca36048>"
      ]
     },
     "execution_count": 52,
     "metadata": {},
     "output_type": "execute_result"
    },
    {
     "data": {
      "image/png": "[encoded data removed]",
      "text/plain": [
       "<Figure size 432x288 with 1 Axes>"
      ]
     },
     "metadata": {
      "needs_background": "light"
     },
     "output_type": "display_data"
    }
   ],
   "source": [
    "plt.imshow(X_test[0])"
   ]
  },
  {
   "cell_type": "code",
   "execution_count": 53,
   "metadata": {},
   "outputs": [
    {
     "data": {
      "text/plain": [
       "<matplotlib.image.AxesImage at 0x1afecedda88>"
      ]
     },
     "execution_count": 53,
     "metadata": {},
     "output_type": "execute_result"
    },
    {
     "data": {
      "image/png": "[encoded data removed]",
      "text/plain": [
       "<Figure size 432x288 with 1 Axes>"
      ]
     },
     "metadata": {
      "needs_background": "light"
     },
     "output_type": "display_data"
    }
   ],
   "source": [
    "plt.imshow(noisey[0])"
   ]
  },
  {
   "cell_type": "markdown",
   "metadata": {},
   "source": [
    "### Create  noise removal autoencoder and train it."
   ]
  },
  {
   "cell_type": "code",
   "execution_count": 37,
   "metadata": {},
   "outputs": [],
   "source": [
    "import tensorflow as tf\n",
    "import numpy as np"
   ]
  },
  {
   "cell_type": "code",
   "execution_count": 54,
   "metadata": {},
   "outputs": [],
   "source": [
    "# TO create the exact same noise as us (optional)\n",
    "tf.random.set_seed(101)\n",
    "np.random.seed(101)\n",
    "\n",
    "\n",
    "encoder = Sequential()\n",
    "encoder.add(Flatten(input_shape=[28,28]))\n",
    "# Add noise to images before going through autoencoder\n",
    "encoder.add(GaussianNoise(0.2))\n",
    "encoder.add(Dense(400,activation=\"relu\"))\n",
    "encoder.add(Dense(200,activation=\"relu\"))\n",
    "encoder.add(Dense(100,activation=\"relu\"))\n",
    "encoder.add(Dense(50,activation=\"relu\"))\n",
    "encoder.add(Dense(25,activation=\"relu\"))"
   ]
  },
  {
   "cell_type": "code",
   "execution_count": 55,
   "metadata": {},
   "outputs": [],
   "source": [
    "decoder = Sequential()\n",
    "decoder.add(Dense(50,input_shape=[25],activation='relu'))\n",
    "decoder.add(Dense(100,activation='relu'))\n",
    "decoder.add(Dense(200,activation='relu'))\n",
    "decoder.add(Dense(400,activation='relu'))\n",
    "decoder.add(Dense(28 * 28, activation=\"sigmoid\"))\n",
    "decoder.add(Reshape([28, 28]))"
   ]
  },
  {
   "cell_type": "code",
   "execution_count": 60,
   "metadata": {},
   "outputs": [],
   "source": [
    "noise_remover = Sequential([encoder, decoder])"
   ]
  },
  {
   "cell_type": "code",
   "execution_count": 61,
   "metadata": {},
   "outputs": [],
   "source": [
    "noise_remover.compile(loss=\"binary_crossentropy\", optimizer='adam',metrics=['accuracy'])"
   ]
  },
  {
   "cell_type": "code",
   "execution_count": 62,
   "metadata": {},
   "outputs": [
    {
     "name": "stdout",
     "output_type": "stream",
     "text": [
      "Train on 60000 samples, validate on 10000 samples\n",
      "Epoch 1/8\n",
      "60000/60000 [==============================] - 12s 202us/sample - loss: 0.1079 - accuracy: 0.8117 - val_loss: 0.1030 - val_accuracy: 0.8112\n",
      "Epoch 2/8\n",
      "60000/60000 [==============================] - 17s 284us/sample - loss: 0.1061 - accuracy: 0.8119 - val_loss: 0.1028 - val_accuracy: 0.8114\n",
      "Epoch 3/8\n",
      "60000/60000 [==============================] - 19s 313us/sample - loss: 0.1046 - accuracy: 0.8121 - val_loss: 0.1004 - val_accuracy: 0.8118\n",
      "Epoch 4/8\n",
      "60000/60000 [==============================] - 18s 301us/sample - loss: 0.1035 - accuracy: 0.8123 - val_loss: 0.0990 - val_accuracy: 0.8120\n",
      "Epoch 5/8\n",
      "60000/60000 [==============================] - 18s 298us/sample - loss: 0.1025 - accuracy: 0.8124 - val_loss: 0.0989 - val_accuracy: 0.8120\n",
      "Epoch 6/8\n",
      "60000/60000 [==============================] - 18s 296us/sample - loss: 0.1016 - accuracy: 0.8126 - val_loss: 0.0979 - val_accuracy: 0.8120\n",
      "Epoch 7/8\n",
      "60000/60000 [==============================] - 18s 303us/sample - loss: 0.1008 - accuracy: 0.8127 - val_loss: 0.0978 - val_accuracy: 0.8119\n",
      "Epoch 8/8\n",
      "60000/60000 [==============================] - 18s 300us/sample - loss: 0.1001 - accuracy: 0.8128 - val_loss: 0.0973 - val_accuracy: 0.8119\n"
     ]
    },
    {
     "data": {
      "text/plain": [
       "<tensorflow.python.keras.callbacks.History at 0x1aff1abee08>"
      ]
     },
     "execution_count": 62,
     "metadata": {},
     "output_type": "execute_result"
    }
   ],
   "source": [
    "noise_remover.fit(X_train, X_train, epochs=8,\n",
    "                           validation_data=[X_test, X_test])"
   ]
  },
  {
   "cell_type": "code",
   "execution_count": 72,
   "metadata": {},
   "outputs": [],
   "source": [
    "ten_noisey_images = sample(X_test[0:10],training=True)\n",
    "denoised = noise_remover(ten_noisey_images[0:10])"
   ]
  },
  {
   "cell_type": "code",
   "execution_count": 74,
   "metadata": {},
   "outputs": [
    {
     "name": "stdout",
     "output_type": "stream",
     "text": [
      "The Original\n"
     ]
    },
    {
     "data": {
      "image/png": "[encoded data removed]",
      "text/plain": [
       "<Figure size 432x288 with 1 Axes>"
      ]
     },
     "metadata": {
      "needs_background": "light"
     },
     "output_type": "display_data"
    },
    {
     "name": "stdout",
     "output_type": "stream",
     "text": [
      "The Noisey Version\n"
     ]
    },
    {
     "data": {
      "image/png": "[encoded data removed]",
      "text/plain": [
       "<Figure size 432x288 with 1 Axes>"
      ]
     },
     "metadata": {
      "needs_background": "light"
     },
     "output_type": "display_data"
    },
    {
     "name": "stdout",
     "output_type": "stream",
     "text": [
      "After going through denoiser\n"
     ]
    },
    {
     "data": {
      "image/png": "[encoded data removed]",
      "text/plain": [
       "<Figure size 432x288 with 1 Axes>"
      ]
     },
     "metadata": {
      "needs_background": "light"
     },
     "output_type": "display_data"
    }
   ],
   "source": [
    "n = 1\n",
    "print(\"The Original\")\n",
    "plt.imshow(X_test[n])\n",
    "plt.show()\n",
    "print(\"The Noisey Version\")\n",
    "plt.imshow(ten_noisey_images[n])\n",
    "plt.show()\n",
    "print(\"After going through denoiser\")\n",
    "plt.imshow(denoised[n])\n",
    "plt.show()"
   ]
  }
 ],
 "metadata": {
  "kernelspec": {
   "display_name": "Python 3",
   "language": "python",
   "name": "python3"
  },
  "language_info": {
   "codemirror_mode": {
    "name": "ipython",
    "version": 3
   },
   "file_extension": ".py",
   "mimetype": "text/x-python",
   "name": "python",
   "nbconvert_exporter": "python",
   "pygments_lexer": "ipython3",
   "version": "3.7.5"
  }
 },
 "nbformat": 4,
 "nbformat_minor": 2
}
