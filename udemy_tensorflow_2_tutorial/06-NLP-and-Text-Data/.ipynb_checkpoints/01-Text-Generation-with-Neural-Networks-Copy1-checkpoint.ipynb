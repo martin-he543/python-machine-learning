{
 "cells": [
  {
   "cell_type": "markdown",
   "metadata": {},
   "source": [
    "___\n",
    "\n",
    "<a href='http://www.pieriandata.com'> <img src='../Pierian_Data_Logo.png' /></a>\n",
    "___\n",
    "# Text Generation with Neural Networks\n",
    "\n",
    "In this notebook we will create a network that can generate text, here we show it being done character by character. Very awesome write up on this here: http://karpathy.github.io/2015/05/21/rnn-effectiveness/"
   ]
  },
  {
   "cell_type": "code",
   "execution_count": 1,
   "metadata": {},
   "outputs": [],
   "source": [
    "import numpy as np\n",
    "import pandas as pd\n",
    "import matplotlib.pyplot as plt\n",
    "import tensorflow as tf"
   ]
  },
  {
   "cell_type": "code",
   "execution_count": 2,
   "metadata": {},
   "outputs": [],
   "source": [
    "# IGNORE THE CONTENT OF THIS CELL\n",
    "import tensorflow as tf\n",
    "tf.compat.v1.disable_eager_execution()"
   ]
  },
  {
   "cell_type": "markdown",
   "metadata": {},
   "source": [
    "## Functions for Processing Text\n",
    "\n",
    "### Reading in files as a string text"
   ]
  },
  {
   "cell_type": "code",
   "execution_count": 3,
   "metadata": {},
   "outputs": [],
   "source": [
    "def read_file(filepath):\n",
    "    \n",
    "    with open(filepath) as f:\n",
    "        str_text = f.read()\n",
    "    \n",
    "    return str_text"
   ]
  },
  {
   "cell_type": "code",
   "execution_count": 4,
   "metadata": {},
   "outputs": [
    {
     "data": {
      "text/plain": [
       "'Call me Ishmael.  Some years ago--never mind how long\\nprecisely--having little or no money in my purse, and nothing\\nparticular to interest me on shore, I thought I would sail about a\\nlittle and see the watery part of the world.  It is a way I have of\\ndriving off the spleen and regulating the circulation.  Whenever I\\nfind myself growing grim about the mouth; whenever it is a damp,\\ndrizzly November in my soul; whenever I find myself involuntarily\\npausing before coffin warehouses, and bringing up the rear of every\\nfuneral I meet; and especially whenever my hypos get such an upper\\nhand of me, that it requires a strong moral principle to prevent me\\nfrom deliberately stepping into the street, and methodically knocking\\npeople\\'s hats off--then, I account it high time to get to sea as soon\\nas I can.  This is my substitute for pistol and ball.  With a\\nphilosophical flourish Cato throws himself upon his sword; I quietly\\ntake to the ship.  There is nothing surprising in this.  If they but\\nknew it, almost all men in their degree, some time or other, cherish\\nvery nearly the same feelings towards the ocean with me.\\n\\nThere now is your insular city of the Manhattoes, belted round by\\nwharves as Indian isles by coral reefs--commerce surrounds it with\\nher surf.  Right and left, the streets take you waterward.  Its\\nextreme downtown is the battery, where that noble mole is washed by\\nwaves, and cooled by breezes, which a few hours previous were out of\\nsight of land.  Look at the crowds of water-gazers there.\\n\\nCircumambulate the city of a dreamy Sabbath afternoon.  Go from\\nCorlears Hook to Coenties Slip, and from thence, by Whitehall,\\nnorthward.  What do you see?--Posted like silent sentinels all around\\nthe town, stand thousands upon thousands of mortal men fixed in ocean\\nreveries.  Some leaning against the spiles; some seated upon the\\npier-heads; some looking over the bulwarks of ships from China; some\\nhigh aloft in the rigging, as if striving to get a still better\\nseaward peep.  But these are all landsmen; of week days pent up in\\nlath and plaster--tied to counters, nailed to benches, clinched to\\ndesks.  How then is this?  Are the green fields gone?  What do they\\nhere?\\n\\nBut look! here come more crowds, pacing straight for the water, and\\nseemingly bound for a dive.  Strange!  Nothing will content them but\\nthe extremest limit of the land; loitering under the shady lee of\\nyonder warehouses will not suffice.  No.  They must get just as nigh\\nthe water as they possibly can without falling in.  And there they\\nstand--miles of them--leagues.  Inlanders all, they come from lanes\\nand alleys, streets and avenues--north, east, south, and west.  Yet\\nhere they all unite.  Tell me, does the magnetic virtue of the\\nneedles of the compasses of all those ships attract them thither?\\n\\nOnce more.  Say you are in the country; in some high land of lakes.\\nTake almost any path you please, and ten to one it carries you down\\nin a dale, and leaves you there by a pool in the stream.  There is\\nmagic in it.  Let the most absent-minded of men be plunged in his\\ndeepest reveries--stand that man on his legs, set his feet a-going,\\nand he will infallibly lead you to water, if water there be in all\\nthat region.  Should you ever be athirst in the great American\\ndesert, try this experiment, if your caravan happen to be supplied\\nwith a metaphysical professor.  Yes, as every one knows, meditation\\nand water are wedded for ever.\\n\\nBut here is an artist.  He desires to paint you the dreamiest,\\nshadiest, quietest, most enchanting bit of romantic landscape in all\\nthe valley of the Saco.  What is the chief element he employs?  There\\nstand his trees, each with a hollow trunk, as if a hermit and a\\ncrucifix were within; and here sleeps his meadow, and there sleep his\\ncattle; and up from yonder cottage goes a sleepy smoke.  Deep into\\ndistant woodlands winds a mazy way, reaching to overlapping spurs of\\nmountains bathed in their hill-side blue.  But though the picture\\nlies thus tranced, and though this pine-tree shakes down its sighs\\nlike leaves upon this shepherd\\'s head, yet all were vain, unless the\\nshepherd\\'s eye were fixed upon the magic stream before him.  Go visit\\nthe Prairies in June, when for scores on scores of miles you wade\\nknee-deep among Tiger-lilies--what is the one charm\\nwanting?--Water--there is not a drop of water there!  Were Niagara\\nbut a cataract of sand, would you travel your thousand miles to see\\nit?  Why did the poor poet of Tennessee, upon suddenly receiving two\\nhandfuls of silver, deliberate whether to buy him a coat, which he\\nsadly needed, or invest his money in a pedestrian trip to Rockaway\\nBeach?  Why is almost every robust healthy boy with a robust healthy\\nsoul in him, at some time or other crazy to go to sea?  Why upon your\\nfirst voyage as a passenger, did you yourself feel such a mystical\\nvibration, when first told that you and your ship were now out of\\nsight of land?  Why did the old Persians hold the sea holy?  Why did\\nthe Greeks give it a separate deity, and own brother of Jove?  Surely\\nall this is not without meaning.  And still deeper the meaning of\\nthat story of Narcissus, who because he could not grasp the\\ntormenting, mild image he saw in the fountain, plunged into it and\\nwas drowned.  But that same image, we ourselves see in all rivers and\\noceans.  It is the image of the ungraspable phantom of life; and this\\nis the key to it all.\\n\\nNow, when I say that I am in the habit of going to sea whenever I\\nbegin to grow hazy about the eyes, and begin to be over conscious of\\nmy lungs, I do not mean to have it inferred that I ever go to sea as\\na passenger.  For to go as a passenger you must needs have a purse,\\nand a purse is but a rag unless you have something in it.  Besides,\\npassengers get sea-sick--grow quarrelsome--don\\'t sleep of nights--do\\nnot enjoy themselves much, as a general thing;--no, I never go as a\\npassenger; nor, though I am something of a salt, do I ever go to sea\\nas a Commodore, or a Captain, or a Cook.  I abandon the glory and\\ndistinction of such offices to those who like them.  For my part, I\\nabominate all honourable respectable toils, trials, and tribulations\\nof every kind whatsoever.  It is quite as much as I can do to take\\ncare of myself, without taking care of ships, barques, brigs,\\nschooners, and what not.  And as for going as cook,--though I confess\\nthere is considerable glory in that, a cook being a sort of officer\\non ship-board--yet, somehow, I never fancied broiling fowls;--though\\nonce broiled, judiciously buttered, and judgmatically salted and\\npeppered, there is no one who will speak more respectfully, not to\\nsay reverentially, of a broiled fowl than I will.  It is out of the\\nidolatrous dotings of the old Egyptians upon broiled ibis and roasted\\nriver horse, that you see the mummies of those creatures in their\\nhuge bake-houses the pyramids.\\n\\nNo, when I go to sea, I go as a simple sailor, right before the mast,\\nplumb down into the forecastle, aloft there to the royal mast-head.\\nTrue, they rather order me about some, and make me jump from spar to\\nspar, like a grasshopper in a May meadow.  And at first, this sort of\\nthing is unpleasant enough.  It touches one\\'s sense of honour,\\nparticularly if you come of an old established family in the land,\\nthe Van Rensselaers, or Randolphs, or Hardicanutes.  And more than\\nall, if just previous to putting your hand into the tar-pot, you have\\nbeen lording it as a country schoolmaster, making the tallest boys\\nstand in awe of you.  The transition is a keen one, I assure you,\\nfrom a schoolmaster to a sailor, and requires a strong decoction of\\nSeneca and the Stoics to enable you to grin and bear it.  But even\\nthis wears off in time.\\n\\nWhat of it, if some old hunks of a sea-captain orders me to get a\\nbroom and sweep down the decks?  What does that indignity amount to,\\nweighed, I mean, in the scales of the New Testament?  Do you think\\nthe archangel Gabriel thinks anything the less of me, because I\\npromptly and respectfully obey that old hunks in that particular\\ninstance?  Who ain\\'t a slave?  Tell me that.  Well, then, however the\\nold sea-captains may order me about--however they may thump and punch\\nme about, I have the satisfaction of knowing that it is all right;\\nthat everybody else is one way or other served in much the same\\nway--either in a physical or metaphysical point of view, that is; and\\nso the universal thump is passed round, and all hands should rub each\\nother\\'s shoulder-blades, and be content.\\n\\nAgain, I always go to sea as a sailor, because they make a point of\\npaying me for my trouble, whereas they never pay passengers a single\\npenny that I ever heard of.  On the contrary, passengers themselves\\nmust pay.  And there is all the difference in the world between\\npaying and being paid.  The act of paying is perhaps the most\\nuncomfortable infliction that the two orchard thieves entailed upon\\nus.  But BEING PAID,--what will compare with it?  The urbane activity\\nwith which a man receives money is really marvellous, considering\\nthat we so earnestly believe money to be the root of all earthly\\nills, and that on no account can a monied man enter heaven.  Ah! how\\ncheerfully we consign ourselves to perdition!\\n\\nFinally, I always go to sea as a sailor, because of the wholesome\\nexercise and pure air of the fore-castle deck.  For as in this world,\\nhead winds are far more prevalent than winds from astern (that is, if\\nyou never violate the Pythagorean maxim), so for the most part the\\nCommodore on the quarter-deck gets his atmosphere at second hand from\\nthe sailors on the forecastle.  He thinks he breathes it first; but\\nnot so.  In much the same way do the commonalty lead their leaders in\\nmany other things, at the same time that the leaders little suspect\\nit.  But wherefore it was that after having repeatedly smelt the sea\\nas a merchant sailor, I should now take it into my head to go on a\\nwhaling voyage; this the invisible police officer of the Fates, who\\nhas the constant surveillance of me, and secretly dogs me, and\\ninfluences me in some unaccountable way--he can better answer than\\nany one else.  And, doubtless, my going on this whaling voyage,\\nformed part of the grand programme of Providence that was drawn up a\\nlong time ago.  It came in as a sort of brief interlude and solo\\nbetween more extensive performances.  I take it that this part of the\\nbill must have run something like this:\\n\\n\\n\"GRAND CONTESTED ELECTION FOR THE PRESIDENCY OF THE UNITED STATES.\\n\"WHALING VOYAGE BY ONE ISHMAEL.\\n\"BLOODY BATTLE IN AFFGHANISTAN.\"\\n\\n\\nThough I cannot tell why it was exactly that those stage managers,\\nthe Fates, put me down for this shabby part of a whaling voyage, when\\nothers were set down for magnificent parts in high tragedies, and\\nshort and easy parts in genteel comedies, and jolly parts in\\nfarces--though I cannot tell why this was exactly; yet, now that I\\nrecall all the circumstances, I think I can see a little into the\\nsprings and motives which being cunningly presented to me under\\nvarious disguises, induced me to set about performing the part I did,\\nbesides cajoling me into the delusion that it was a choice resulting\\nfrom my own unbiased freewill and discriminating judgment.\\n\\nChief among these motives was the overwhelming idea of the great\\nwhale himself.  Such a portentous and mysterious monster roused all\\nmy curiosity.  Then the wild and distant seas where he rolled his\\nisland bulk; the undeliverable, nameless perils of the whale; these,\\nwith all the attending marvels of a thousand Patagonian sights and\\nsounds, helped to sway me to my wish.  With other men, perhaps, such\\nthings would not have been inducements; but as for me, I am tormented\\nwith an everlasting itch for things remote.  I love to sail forbidden\\nseas, and land on barbarous coasts.  Not ignoring what is good, I am\\nquick to perceive a horror, and could still be social with it--would\\nthey let me--since it is but well to be on friendly terms with all\\nthe inmates of the place one lodges in.\\n\\nBy reason of these things, then, the whaling voyage was welcome; the\\ngreat flood-gates of the wonder-world swung open, and in the wild\\nconceits that swayed me to my purpose, two and two there floated into\\nmy inmost soul, endless processions of the whale, and, mid most of\\nthem all, one grand hooded phantom, like a snow hill in the air.\\n\\nI stuffed a shirt or two into my old carpet-bag, tucked it under my\\narm, and started for Cape Horn and the Pacific.  Quitting the good\\ncity of old Manhatto, I duly arrived in New Bedford.  It was a\\nSaturday night in December.  Much was I disappointed upon learning\\nthat the little packet for Nantucket had already sailed, and that no\\nway of reaching that place would offer, till the following Monday.\\n\\nAs most young candidates for the pains and penalties of whaling stop\\nat this same New Bedford, thence to embark on their voyage, it may as\\nwell be related that I, for one, had no idea of so doing.  For my\\nmind was made up to sail in no other than a Nantucket craft, because\\nthere was a fine, boisterous something about everything connected\\nwith that famous old island, which amazingly pleased me.  Besides\\nthough New Bedford has of late been gradually monopolising the\\nbusiness of whaling, and though in this matter poor old Nantucket is\\nnow much behind her, yet Nantucket was her great original--the Tyre\\nof this Carthage;--the place where the first dead American whale was\\nstranded.  Where else but from Nantucket did those aboriginal\\nwhalemen, the Red-Men, first sally out in canoes to give chase to the\\nLeviathan?  And where but from Nantucket, too, did that first\\nadventurous little sloop put forth, partly laden with imported\\ncobblestones--so goes the story--to throw at the whales, in order to\\ndiscover when they were nigh enough to risk a harpoon from the\\nbowsprit?\\n\\nNow having a night, a day, and still another night following before\\nme in New Bedford, ere I could embark for my destined port, it\\nbecame a matter of concernment where I was to eat and sleep\\nmeanwhile.  It was a very dubious-looking, nay, a very dark and\\ndismal night, bitingly cold and cheerless.  I knew no one in the\\nplace.  With anxious grapnels I had sounded my pocket, and only\\nbrought up a few pieces of silver,--So, wherever you go, Ishmael,\\nsaid I to myself, as I stood in the middle of a dreary street\\nshouldering my bag, and comparing the gloom towards the north with\\nthe darkness towards the south--wherever in your wisdom you may\\nconclude to lodge for the night, my dear Ishmael, be sure to inquire\\nthe price, and don\\'t be too particular.\\n\\nWith halting steps I paced the streets, and passed the sign of \"The\\nCrossed Harpoons\"--but it looked too expensive and jolly there.\\nFurther on, from the bright red windows of the \"Sword-Fish Inn,\"\\nthere came such fervent rays, that it seemed to have melted the\\npacked snow and ice from before the house, for everywhere else the\\ncongealed frost lay ten inches thick in a hard, asphaltic\\npavement,--rather weary for me, when I struck my foot against the\\nflinty projections, because from hard, remorseless service the soles\\nof my boots were in a most miserable plight.  Too expensive and\\njolly, again thought I, pausing one moment to watch the broad glare\\nin the street, and hear the sounds of the tinkling glasses within.\\nBut go on, Ishmael, said I at last; don\\'t you hear? get away from\\nbefore the door; your patched boots are stopping the way.  So on I\\nwent.  I now by instinct followed the streets that took me waterward,\\nfor there, doubtless, were the cheapest, if not the cheeriest inns.\\n\\nSuch dreary streets! blocks of blackness, not houses, on either\\nhand, and here and there a candle, like a candle moving about in a\\ntomb.  At this hour of the night, of the last day of the week, that\\nquarter of the town proved all but deserted.  But presently I came to\\na smoky light proceeding from a low, wide building, the door of which\\nstood invitingly open.  It had a careless look, as if it were meant\\nfor the uses of the public; so, entering, the first thing I did was\\nto stumble over an ash-box in the porch.  Ha! thought I, ha, as the\\nflying particles almost choked me, are these ashes from that\\ndestroyed city, Gomorrah?  But \"The Crossed Harpoons,\" and \"The\\nSword-Fish?\"--this, then must needs be the sign of \"The Trap.\"\\nHowever, I picked myself up and hearing a loud voice within, pushed\\non and opened a second, interior door.\\n\\nIt seemed the great Black Parliament sitting in Tophet.  A hundred\\nblack faces turned round in their rows to peer; and beyond, a black\\nAngel of Doom was beating a book in a pulpit.  It was a negro church;\\nand the preacher\\'s text was about the blackness of darkness, and the\\nweeping and wailing and teeth-gnashing there.  Ha, Ishmael, muttered\\nI, backing out, Wretched entertainment at the sign of \\'The Trap!\\'\\n\\nMoving on, I at last came to a dim sort of light not far from the\\ndocks, and heard a forlorn creaking in the air; and looking up, saw a\\nswinging sign over the door with a white painting upon it, faintly\\nrepresenting a tall straight jet of misty spray, and these words\\nunderneath--\"The Spouter Inn:--Peter Coffin.\"\\n\\nCoffin?--Spouter?--Rather ominous in that particular connexion,\\nthought I.  But it is a common name in Nantucket, they say, and I\\nsuppose this Peter here is an emigrant from there.  As the light\\nlooked so dim, and the place, for the time, looked quiet enough, and\\nthe dilapidated little wooden house itself looked as if it might have\\nbeen carted here from the ruins of some burnt district, and as the\\nswinging sign had a poverty-stricken sort of creak to it, I thought\\nthat here was the very spot for cheap lodgings, and the best of pea\\ncoffee.\\n\\nIt was a queer sort of place--a gable-ended old house, one side\\npalsied as it were, and leaning over sadly.  It stood on a sharp\\nbleak corner, where that tempestuous wind Euroclydon kept up a worse\\nhowling than ever it did about poor Paul\\'s tossed craft.  Euroclydon,\\nnevertheless, is a mighty pleasant zephyr to any one in-doors, with\\nhis feet on the hob quietly toasting for bed.  \"In judging of that\\ntempestuous wind called Euroclydon,\" says an old writer--of whose\\nworks I possess the only copy extant--\"it maketh a marvellous\\ndifference, whether thou lookest out at it from a glass window where\\nthe frost is all on the outside, or whether thou observest it from\\nthat sashless window, where the frost is on both sides, and of which\\nthe wight Death is the only glazier.\"  True enough, thought I, as\\nthis passage occurred to my mind--old black-letter, thou reasonest\\nwell.  Yes, these eyes are windows, and this body of mine is the\\nhouse.  What a pity they didn\\'t stop up the chinks and the crannies\\nthough, and thrust in a little lint here and there.  But it\\'s too\\nlate to make any improvements now.  The universe is finished; the\\ncopestone is on, and the chips were carted off a million years ago.\\nPoor Lazarus there, chattering his teeth against the curbstone for\\nhis pillow, and shaking off his tatters with his shiverings, he might\\nplug up both ears with rags, and put a corn-cob into his mouth, and\\nyet that would not keep out the tempestuous Euroclydon.  Euroclydon!\\nsays old Dives, in his red silken wrapper--(he had a redder one\\nafterwards) pooh, pooh!  What a fine frosty night; how Orion\\nglitters; what northern lights!  Let them talk of their oriental\\nsummer climes of everlasting conservatories; give me the privilege of\\nmaking my own summer with my own coals.\\n\\nBut what thinks Lazarus?  Can he warm his blue hands by holding them\\nup to the grand northern lights?  Would not Lazarus rather be in\\nSumatra than here?  Would he not far rather lay him down lengthwise\\nalong the line of the equator; yea, ye gods! go down to the fiery pit\\nitself, in order to keep out this frost?\\n\\nNow, that Lazarus should lie stranded there on the curbstone before\\nthe door of Dives, this is more wonderful than that an iceberg should\\nbe moored to one of the Moluccas.  Yet Dives himself, he too lives\\nlike a Czar in an ice palace made of frozen sighs, and being a\\npresident of a temperance society, he only drinks the tepid tears of\\norphans.\\n\\nBut no more of this blubbering now, we are going a-whaling, and there\\nis plenty of that yet to come.  Let us scrape the ice from our\\nfrosted feet, and see what sort of a place this \"Spouter\" may be.\\n\\nEntering that gable-ended Spouter-Inn, you found yourself in a wide,\\nlow, straggling entry with old-fashioned wainscots, reminding one of\\nthe bulwarks of some condemned old craft.  On one side hung a very\\nlarge oilpainting so thoroughly besmoked, and every way defaced,\\nthat in the unequal crosslights by which you viewed it, it was only\\nby diligent study and a series of systematic visits to it, and\\ncareful inquiry of the neighbors, that you could any way arrive at an\\nunderstanding of its purpose.  Such unaccountable masses of shades\\nand shadows, that at first you almost thought some ambitious young\\nartist, in the time of the New England hags, had endeavored to\\ndelineate chaos bewitched.  But by dint of much and earnest\\ncontemplation, and oft repeated ponderings, and especially by\\nthrowing open the little window towards the back of the entry, you at\\nlast come to the conclusion that such an idea, however wild, might\\nnot be altogether unwarranted.\\n\\nBut what most puzzled and confounded you was a long, limber,\\nportentous, black mass of something hovering in the centre of the\\npicture over three blue, dim, perpendicular lines floating in a\\nnameless yeast.  A boggy, soggy, squitchy picture truly, enough to\\ndrive a nervous man distracted.  Yet was there a sort of indefinite,\\nhalf-attained, unimaginable sublimity about it that fairly froze you\\nto it, till you involuntarily took an oath with yourself to find out\\nwhat that marvellous painting meant.  Ever and anon a bright, but,\\nalas, deceptive idea would dart you through.--It\\'s the Black Sea in a\\nmidnight gale.--It\\'s the unnatural combat of the four primal\\nelements.--It\\'s a blasted heath.--It\\'s a Hyperborean winter\\nscene.--It\\'s the breaking-up of the icebound stream of Time.  But at\\nlast all these fancies yielded to that one portentous something in\\nthe picture\\'s midst.  THAT once found out, and all the rest were\\nplain.  But stop; does it not bear a faint resemblance to a gigantic\\nfish? even the great leviathan himself?\\n\\nIn fact, the artist\\'s design seemed this: a final theory of my own,\\npartly based upon the aggregated opinions of many aged persons with\\nwhom I conversed upon the subject.  The picture represents a\\nCape-Horner in a great hurricane; the half-foundered ship weltering\\nthere with its three dismantled masts alone visible; and an\\nexasperated whale, purposing to spring clean over the craft, is in\\nthe enormous act of impaling himself upon the three mast-heads.\\n\\nThe opposite wall of this entry was hung all over with a heathenish\\narray of monstrous clubs and spears.  Some were thickly set with\\nglittering teeth resembling ivory saws; others were tufted with knots\\nof human hair; and one was sickle-shaped, with a vast handle sweeping\\nround like the segment made in the new-mown grass by a long-armed\\nmower.  You shuddered as you gazed, and wondered what monstrous\\ncannibal and savage could ever have gone a death-harvesting with such\\na hacking, horrifying implement.  Mixed with these were rusty old\\nwhaling lances and harpoons all broken and deformed.  Some were\\nstoried weapons.  With this once long lance, now wildly elbowed,\\nfifty years ago did Nathan Swain kill fifteen whales between a\\nsunrise and a sunset.  And that harpoon--so like a corkscrew now--was\\nflung in Javan seas, and run away with by a whale, years afterwards\\nslain off the Cape of Blanco.  The original iron entered nigh the\\ntail, and, like a restless needle sojourning in the body of a man,\\ntravelled full forty feet, and at last was found imbedded in the\\nhump.\\n\\nCrossing this dusky entry, and on through yon low-arched way--cut\\nthrough what in old times must have been a great central chimney with\\nfireplaces all round--you enter the public room.  A still duskier\\nplace is this, with such low ponderous beams above, and such old\\nwrinkled planks beneath, that you would almost fancy you trod some\\nold craft\\'s cockpits, especially of such a howling night, when this\\ncorner-anchored old ark rocked so furiously.  On one side stood a\\nlong, low, shelf-like table covered with cracked glass cases, filled\\nwith dusty rarities gathered from this wide world\\'s remotest nooks.\\nProjecting from the further angle of the room stands a dark-looking\\nden--the bar--a rude attempt at a right whale\\'s head.  Be that how it\\nmay, there stands the vast arched bone of the whale\\'s jaw, so wide, a\\ncoach might almost drive beneath it.  Within are shabby shelves,\\nranged round with old decanters, bottles, flasks; and in those jaws\\nof swift destruction, like another cursed Jonah (by which name indeed\\nthey called him), bustles a little withered old man, who, for their\\nmoney, dearly sells the sailors deliriums and death.\\n\\nAbominable are the tumblers into which he pours his poison.  Though\\ntrue cylinders without--within, the villanous green goggling glasses\\ndeceitfully tapered downwards to a cheating bottom.  Parallel\\nmeridians rudely pecked into the glass, surround these footpads\\'\\ngoblets.  Fill to THIS mark, and your charge is but a penny; to THIS\\na penny more; and so on to the full glass--the Cape Horn measure,\\nwhich you may gulp down for a shilling.\\n\\nUpon entering the place I found a number of young seamen gathered\\nabout a table, examining by a dim light divers specimens of\\nSKRIMSHANDER.  I sought the landlord, and telling him I desired to be\\naccommodated with a room, received for answer that his house was\\nfull--not a bed unoccupied.  \"But avast,\" he added, tapping his\\nforehead, \"you haint no objections to sharing a harpooneer\\'s blanket,\\nhave ye?  I s\\'pose you are goin\\' a-whalin\\', so you\\'d better get used\\nto that sort of thing.\"\\n\\nI told him that I never liked to sleep two in a bed; that if I should\\never do so, it would depend upon who the harpooneer might be, and\\nthat if he (the landlord) really had no other place for me, and the\\nharpooneer was not decidedly objectionable, why rather than wander\\nfurther about a strange town on so bitter a night, I would put up\\nwith the half of any decent man\\'s blanket.\\n\\n\"I thought so.  All right; take a seat.  Supper?--you want supper?\\nSupper\\'ll be ready directly.\"\\n\\nI sat down on an old wooden settle, carved all over like a bench on\\nthe Battery.  At one end a ruminating tar was still further adorning\\nit with his jack-knife, stooping over and diligently working away at\\nthe space between his legs.  He was trying his hand at a ship under\\nfull sail, but he didn\\'t make much headway, I thought.\\n\\nAt last some four or five of us were summoned to our meal in an\\nadjoining room.  It was cold as Iceland--no fire at all--the landlord\\nsaid he couldn\\'t afford it.  Nothing but two dismal tallow candles,\\neach in a winding sheet.  We were fain to button up our monkey\\njackets, and hold to our lips cups of scalding tea with our half\\nfrozen fingers.  But the fare was of the most substantial kind--not\\nonly meat and potatoes, but dumplings; good heavens! dumplings for\\nsupper!  One young fellow in a green box coat, addressed himself to\\nthese dumplings in a most direful manner.\\n\\n\"My boy,\" said the landlord, \"you\\'ll have the nightmare to a dead\\nsartainty.\"\\n\\n\"Landlord,\" I whispered, \"that aint the harpooneer is it?\"\\n\\n\"Oh, no,\" said he, looking a sort of diabolically funny, \"the\\nharpooneer is a dark complexioned chap.  He never eats dumplings, he\\ndon\\'t--he eats nothing but steaks, and he likes \\'em rare.\"\\n\\n\"The devil he does,\" says I.  \"Where is that harpooneer?  Is he\\nhere?\"\\n\\n\"He\\'ll be here afore long,\" was the answer.\\n\\nI could not help it, but I began to feel suspicious of this \"dark\\ncomplexioned\" harpooneer.  At any rate, I made up my mind that if it\\nso turned out that we should sleep together, he must undress and get\\ninto bed before I did.\\n\\nSupper over, the company went back to the bar-room, when, knowing not\\nwhat else to do with myself, I resolved to spend the rest of the\\nevening as a looker on.\\n\\nPresently a rioting noise was heard without.  Starting up, the\\nlandlord cried, \"That\\'s the Grampus\\'s crew.  I seed her reported in\\nthe offing this morning; a three years\\' voyage, and a full ship.\\nHurrah, boys; now we\\'ll have the latest news from the Feegees.\"\\n\\nA tramping of sea boots was heard in the entry; the door was flung\\nopen, and in rolled a wild set of mariners enough.  Enveloped in\\ntheir shaggy watch coats, and with their heads muffled in woollen\\ncomforters, all bedarned and ragged, and their beards stiff with\\nicicles, they seemed an eruption of bears from Labrador.  They had\\njust landed from their boat, and this was the first house they\\nentered.  No wonder, then, that they made a straight wake for the\\nwhale\\'s mouth--the bar--when the wrinkled little old Jonah, there\\nofficiating, soon poured them out brimmers all round.  One complained\\nof a bad cold in his head, upon which Jonah mixed him a pitch-like\\npotion of gin and molasses, which he swore was a sovereign cure for\\nall colds and catarrhs whatsoever, never mind of how long standing,\\nor whether caught off the coast of Labrador, or on the weather side\\nof an ice-island.\\n\\nThe liquor soon mounted into their heads, as it generally does even\\nwith the arrantest topers newly landed from sea, and they began\\ncapering about most obstreperously.\\n\\nI observed, however, that one of them held somewhat aloof, and though\\nhe seemed desirous not to spoil the hilarity of his shipmates by his\\nown sober face, yet upon the whole he refrained from making as much\\nnoise as the rest.  This man interested me at once; and since the\\nsea-gods had ordained that he should soon become my shipmate (though\\nbut a sleeping-partner one, so far as this narrative is concerned),\\nI will here venture upon a little description of him.  He stood full\\nsix feet in height, with noble shoulders, and a chest like a\\ncoffer-dam.  I have seldom seen such brawn in a man.  His face was\\ndeeply brown and burnt, making his white teeth dazzling by the\\ncontrast; while in the deep shadows of his eyes floated some\\nreminiscences that did not seem to give him much joy.  His voice at\\nonce announced that he was a Southerner, and from his fine stature, I\\nthought he must be one of those tall mountaineers from the\\nAlleghanian Ridge in Virginia.  When the revelry of his companions\\nhad mounted to its height, this man slipped away unobserved, and I\\nsaw no more of him till he became my comrade on the sea.  In a few\\nminutes, however, he was missed by his shipmates, and being, it\\nseems, for some reason a huge favourite with them, they raised a cry\\nof \"Bulkington!  Bulkington! where\\'s Bulkington?\" and darted out of\\nthe house in pursuit of him.\\n\\nIt was now about nine o\\'clock, and the room seeming almost\\nsupernaturally quiet after these orgies, I began to congratulate\\nmyself upon a little plan that had occurred to me just previous to\\nthe entrance of the seamen.\\n\\nNo man prefers to sleep two in a bed.  In fact, you would a good deal\\nrather not sleep with your own brother.  I don\\'t know how it is, but\\npeople like to be private when they are sleeping.  And when it comes\\nto sleeping with an unknown stranger, in a strange inn, in a strange\\ntown, and that stranger a harpooneer, then your objections\\nindefinitely multiply.  Nor was there any earthly reason why I as a\\nsailor should sleep two in a bed, more than anybody else; for sailors\\nno more sleep two in a bed at sea, than bachelor Kings do ashore.  To\\nbe sure they all sleep together in one apartment, but you have your\\nown hammock, and cover yourself with your own blanket, and sleep in\\nyour own skin.\\n\\nThe more I pondered over this harpooneer, the more I abominated the\\nthought of sleeping with him.  It was fair to presume that being a\\nharpooneer, his linen or woollen, as the case might be, would not be\\nof the tidiest, certainly none of the finest.  I began to twitch all\\nover.  Besides, it was getting late, and my decent harpooneer ought\\nto be home and going bedwards.  Suppose now, he should tumble in upon\\nme at midnight--how could I tell from what vile hole he had been\\ncoming?\\n\\n\"Landlord!  I\\'ve changed my mind about that harpooneer.--I shan\\'t\\nsleep with him.  I\\'ll try the bench here.\"\\n\\n\"Just as you please; I\\'m sorry I cant spare ye a tablecloth for a\\nmattress, and it\\'s a plaguy rough board here\"--feeling of the knots\\nand notches.  \"But wait a bit, Skrimshander; I\\'ve got a carpenter\\'s\\nplane there in the bar--wait, I say, and I\\'ll make ye snug enough.\"\\nSo saying he procured the plane; and with his old silk handkerchief\\nfirst dusting the bench, vigorously set to planing away at my bed,\\nthe while grinning like an ape.  The shavings flew right and left;\\ntill at last the plane-iron came bump against an indestructible knot.\\nThe landlord was near spraining his wrist, and I told him for\\nheaven\\'s sake to quit--the bed was soft enough to suit me, and I did\\nnot know how all the planing in the world could make eider down of a\\npine plank.  So gathering up the shavings with another grin, and\\nthrowing them into the great stove in the middle of the room, he went\\nabout his business, and left me in a brown study.\\n\\nI now took the measure of the bench, and found that it was a foot too\\nshort; but that could be mended with a chair.  But it was a foot too\\nnarrow, and the other bench in the room was about four inches higher\\nthan the planed one--so there was no yoking them.  I then placed the\\nfirst bench lengthwise along the only clear space against the wall,\\nleaving a little interval between, for my back to settle down in.\\nBut I soon found that there came such a draught of cold air over me\\nfrom under the sill of the window, that this plan would never do at\\nall, especially as another current from the rickety door met the one\\nfrom the window, and both together formed a series of small\\nwhirlwinds in the immediate vicinity of the spot where I had thought\\nto spend the night.\\n\\nThe devil fetch that harpooneer, thought I, but stop, couldn\\'t I\\nsteal a march on him--bolt his door inside, and jump into his bed,\\nnot to be wakened by the most violent knockings?  It seemed no bad\\nidea; but upon second thoughts I dismissed it.  For who could tell\\nbut what the next morning, so soon as I popped out of the room, the\\nharpooneer might be standing in the entry, all ready to knock me\\ndown!\\n\\nStill, looking round me again, and seeing no possible chance of\\nspending a sufferable night unless in some other person\\'s bed, I\\nbegan to think that after all I might be cherishing unwarrantable\\nprejudices against this unknown harpooneer.  Thinks I, I\\'ll wait\\nawhile; he must be dropping in before long.  I\\'ll have a good look at\\nhim then, and perhaps we may become jolly good bedfellows after\\nall--there\\'s no telling.\\n\\nBut though the other boarders kept coming in by ones, twos, and\\nthrees, and going to bed, yet no sign of my harpooneer.\\n\\n\"Landlord! said I, \"what sort of a chap is he--does he always keep\\nsuch late hours?\"  It was now hard upon twelve o\\'clock.\\n\\nThe landlord chuckled again with his lean chuckle, and seemed to be\\nmightily tickled at something beyond my comprehension.  \"No,\" he\\nanswered, \"generally he\\'s an early bird--airley to bed and airley to\\nrise--yes, he\\'s the bird what catches the worm.  But to-night he\\nwent out a peddling, you see, and I don\\'t see what on airth keeps him\\nso late, unless, may be, he can\\'t sell his head.\"\\n\\n\"Can\\'t sell his head?--What sort of a bamboozingly story is this you\\nare telling me?\" getting into a towering rage.  \"Do you pretend to\\nsay, landlord, that this harpooneer is actually engaged this blessed\\nSaturday night, or rather Sunday morning, in peddling his head around\\nthis town?\"\\n\\n\"That\\'s precisely it,\" said the landlord, \"and I told him he couldn\\'t\\nsell it here, the market\\'s overstocked.\"\\n\\n\"With what?\" shouted I.\\n\\n\"With heads to be sure; ain\\'t there too many heads in the world?\"\\n\\n\"I tell you what it is, landlord,\" said I quite calmly, \"you\\'d better\\nstop spinning that yarn to me--I\\'m not green.\"\\n\\n\"May be not,\" taking out a stick and whittling a toothpick, \"but I\\nrayther guess you\\'ll be done BROWN if that ere harpooneer hears you a\\nslanderin\\' his head.\"\\n\\n\"I\\'ll break it for him,\" said I, now flying into a passion again at\\nthis unaccountable farrago of the landlord\\'s.\\n\\n\"It\\'s broke a\\'ready,\" said he.\\n\\n\"Broke,\" said I--\"BROKE, do you mean?\"\\n\\n\"Sartain, and that\\'s the very reason he can\\'t sell it, I guess.\"\\n\\n\"Landlord,\" said I, going up to him as cool as Mt. Hecla in a\\nsnow-storm--\"landlord, stop whittling.  You and I must understand one\\nanother, and that too without delay.  I come to your house and want a\\nbed; you tell me you can only give me half a one; that the other half\\nbelongs to a certain harpooneer.  And about this harpooneer, whom I\\nhave not yet seen, you persist in telling me the most mystifying and\\nexasperating stories tending to beget in me an uncomfortable feeling\\ntowards the man whom you design for my bedfellow--a sort of\\nconnexion, landlord, which is an intimate and confidential one in the\\nhighest degree.  I now demand of you to speak out and tell me who and\\nwhat this harpooneer is, and whether I shall be in all respects safe\\nto spend the night with him.  And in the first place, you will be so\\ngood as to unsay that story about selling his head, which if true I\\ntake to be good evidence that this harpooneer is stark mad, and I\\'ve\\nno idea of sleeping with a madman; and you, sir, YOU I mean,\\nlandlord, YOU, sir, by trying to induce me to do so knowingly, would\\nthereby render yourself liable to a criminal prosecution.\"\\n\\n\"Wall,\" said the landlord, fetching a long breath, \"that\\'s a purty\\nlong sarmon for a chap that rips a little now and then.  But be easy,\\nbe easy, this here harpooneer I have been tellin\\' you of has just\\narrived from the south seas, where he bought up a lot of \\'balmed New\\nZealand heads (great curios, you know), and he\\'s sold all on \\'em but\\none, and that one he\\'s trying to sell to-night, cause to-morrow\\'s\\nSunday, and it would not do to be sellin\\' human heads about the\\nstreets when folks is goin\\' to churches.  He wanted to, last Sunday,\\nbut I stopped him just as he was goin\\' out of the door with four\\nheads strung on a string, for all the airth like a string of inions.\"\\n\\nThis account cleared up the otherwise unaccountable mystery, and\\nshowed that the landlord, after all, had had no idea of fooling\\nme--but at the same time what could I think of a harpooneer who\\nstayed out of a Saturday night clean into the holy Sabbath, engaged\\nin such a cannibal business as selling the heads of dead idolators?\\n\\n\"Depend upon it, landlord, that harpooneer is a dangerous man.\"\\n\\n\"He pays reg\\'lar,\" was the rejoinder.  \"But come, it\\'s getting\\ndreadful late, you had better be turning flukes--it\\'s a nice bed;\\nSal and me slept in that ere bed the night we were spliced.  There\\'s\\nplenty of room for two to kick about in that bed; it\\'s an almighty\\nbig bed that.  Why, afore we give it up, Sal used to put our Sam and\\nlittle Johnny in the foot of it.  But I got a dreaming and sprawling\\nabout one night, and somehow, Sam got pitched on the floor, and came\\nnear breaking his arm.  Arter that, Sal said it wouldn\\'t do.  Come\\nalong here, I\\'ll give ye a glim in a jiffy;\" and so saying he lighted\\na candle and held it towards me, offering to lead the way.  But I\\nstood irresolute; when looking at a clock in the corner, he exclaimed\\n\"I vum it\\'s Sunday--you won\\'t see that harpooneer to-night; he\\'s come\\nto anchor somewhere--come along then; DO come; WON\\'T ye come?\"\\n\\nI considered the matter a moment, and then up stairs we went, and I\\nwas ushered into a small room, cold as a clam, and furnished, sure\\nenough, with a prodigious bed, almost big enough indeed for any four\\nharpooneers to sleep abreast.\\n\\n\"There,\" said the landlord, placing the candle on a crazy old sea\\nchest that did double duty as a wash-stand and centre table; \"there,\\nmake yourself comfortable now, and good night to ye.\"  I turned\\nround from eyeing the bed, but he had disappeared.\\n\\nFolding back the counterpane, I stooped over the bed.  Though none of\\nthe most elegant, it yet stood the scrutiny tolerably well.  I then\\nglanced round the room; and besides the bedstead and centre table,\\ncould see no other furniture belonging to the place, but a rude\\nshelf, the four walls, and a papered fireboard representing a man\\nstriking a whale.  Of things not properly belonging to the room,\\nthere was a hammock lashed up, and thrown upon the floor in one\\ncorner; also a large seaman\\'s bag, containing the harpooneer\\'s\\nwardrobe, no doubt in lieu of a land trunk.  Likewise, there was a\\nparcel of outlandish bone fish hooks on the shelf over the\\nfire-place, and a tall harpoon standing at the head of the bed.\\n\\nBut what is this on the chest?  I took it up, and held it close to\\nthe light, and felt it, and smelt it, and tried every way possible to\\narrive at some satisfactory conclusion concerning it.  I can compare\\nit to nothing but a large door mat, ornamented at the edges with\\nlittle tinkling tags something like the stained porcupine quills\\nround an Indian moccasin.  There was a hole or slit in the middle of\\nthis mat, as you see the same in South American ponchos.  But could\\nit be possible that any sober harpooneer would get into a door mat,\\nand parade the streets of any Christian town in that sort of guise?\\nI put it on, to try it, and it weighed me down like a hamper, being\\nuncommonly shaggy and thick, and I thought a little damp, as though\\nthis mysterious harpooneer had been wearing it of a rainy day.  I\\nwent up in it to a bit of glass stuck against the wall, and I never\\nsaw such a sight in my life.  I tore myself out of it in such a hurry\\nthat I gave myself a kink in the neck.\\n\\nI sat down on the side of the bed, and commenced thinking about this\\nhead-peddling harpooneer, and his door mat.  After thinking some time\\non the bed-side, I got up and took off my monkey jacket, and then\\nstood in the middle of the room thinking.  I then took off my coat,\\nand thought a little more in my shirt sleeves.  But beginning to feel\\nvery cold now, half undressed as I was, and remembering what the\\nlandlord said about the harpooneer\\'s not coming home at all that\\nnight, it being so very late, I made no more ado, but jumped out of\\nmy pantaloons and boots, and then blowing out the light tumbled into\\nbed, and commended myself to the care of heaven.\\n\\nWhether that mattress was stuffed with corn-cobs or broken crockery,\\nthere is no telling, but I rolled about a good deal, and could not\\nsleep for a long time.  At last I slid off into a light doze, and had\\npretty nearly made a good offing towards the land of Nod, when I\\nheard a heavy footfall in the passage, and saw a glimmer of light\\ncome into the room from under the door.\\n\\nLord save me, thinks I, that must be the harpooneer, the infernal\\nhead-peddler.  But I lay perfectly still, and resolved not to say a\\nword till spoken to.  Holding a light in one hand, and that identical\\nNew Zealand head in the other, the stranger entered the room, and\\nwithout looking towards the bed, placed his candle a good way off\\nfrom me on the floor in one corner, and then began working away at\\nthe knotted cords of the large bag I before spoke of as being in the\\nroom.  I was all eagerness to see his face, but he kept it averted\\nfor some time while employed in unlacing the bag\\'s mouth.  This\\naccomplished, however, he turned round--when, good heavens! what a\\nsight!  Such a face!  It was of a dark, purplish, yellow colour, here\\nand there stuck over with large blackish looking squares.  Yes, it\\'s\\njust as I thought, he\\'s a terrible bedfellow; he\\'s been in a fight,\\ngot dreadfully cut, and here he is, just from the surgeon.  But at\\nthat moment he chanced to turn his face so towards the light, that I\\nplainly saw they could not be sticking-plasters at all, those black\\nsquares on his cheeks.  They were stains of some sort or other.  At\\nfirst I knew not what to make of this; but soon an inkling of the\\ntruth occurred to me.  I remembered a story of a white man--a\\nwhaleman too--who, falling among the cannibals, had been tattooed by\\nthem.  I concluded that this harpooneer, in the course of his distant\\nvoyages, must have met with a similar adventure.  And what is it,\\nthought I, after all!  It\\'s only his outside; a man can be honest in\\nany sort of skin.  But then, what to make of his unearthly\\ncomplexion, that part of it, I mean, lying round about, and\\ncompletely independent of the squares of tattooing.  To be sure, it\\nmight be nothing but a good coat of tropical tanning; but I never\\nheard of a hot sun\\'s tanning a white man into a purplish yellow one.\\nHowever, I had never been in the South Seas; and perhaps the sun\\nthere produced these extraordinary effects upon the skin.  Now, while\\nall these ideas were passing through me like lightning, this\\nharpooneer never noticed me at all.  But, after some difficulty\\nhaving opened his bag, he commenced fumbling in it, and presently\\npulled out a sort of tomahawk, and a seal-skin wallet with the hair\\non.  Placing these on the old chest in the middle of the room, he\\nthen took the New Zealand head--a ghastly thing enough--and crammed\\nit down into the bag.  He now took off his hat--a new beaver\\nhat--when I came nigh singing out with fresh surprise.  There was no\\nhair on his head--none to speak of at least--nothing but a small\\nscalp-knot twisted up on his forehead.  His bald purplish head now\\nlooked for all the world like a mildewed skull.  Had not the stranger\\nstood between me and the door, I would have bolted out of it quicker\\nthan ever I bolted a dinner.\\n\\nEven as it was, I thought something of slipping out of the window,\\nbut it was the second floor back.  I am no coward, but what to make\\nof this head-peddling purple rascal altogether passed my\\ncomprehension.  Ignorance is the parent of fear, and being completely\\nnonplussed and confounded about the stranger, I confess I was now as\\nmuch afraid of him as if it was the devil himself who had thus broken\\ninto my room at the dead of night.  In fact, I was so afraid of him\\nthat I was not game enough just then to address him, and demand a\\nsatisfactory answer concerning what seemed inexplicable in him.\\n\\nMeanwhile, he continued the business of undressing, and at last\\nshowed his chest and arms.  As I live, these covered parts of him\\nwere checkered with the same squares as his face; his back, too, was\\nall over the same dark squares; he seemed to have been in a Thirty\\nYears\\' War, and just escaped from it with a sticking-plaster shirt.\\nStill more, his very legs were marked, as if a parcel of dark green\\nfrogs were running up the trunks of young palms.  It was now quite\\nplain that he must be some abominable savage or other shipped aboard\\nof a whaleman in the South Seas, and so landed in this Christian\\ncountry.  I quaked to think of it.  A peddler of heads too--perhaps\\nthe heads of his own brothers.  He might take a fancy to\\nmine--heavens! look at that tomahawk!\\n\\nBut there was no time for shuddering, for now the savage went about\\nsomething that completely fascinated my attention, and convinced me\\nthat he must indeed be a heathen.  Going to his heavy grego, or\\nwrapall, or dreadnaught, which he had previously hung on a chair, he\\nfumbled in the pockets, and produced at length a curious little\\ndeformed image with a hunch on its back, and exactly the colour of a\\nthree days\\' old Congo baby.  Remembering the embalmed head, at first\\nI almost thought that this black manikin was a real baby preserved\\nin some similar manner.  But seeing that it was not at all limber,\\nand that it glistened a good deal like polished ebony, I concluded\\nthat it must be nothing but a wooden idol, which indeed it proved to\\nbe.  For now the savage goes up to the empty fire-place, and removing\\nthe papered fire-board, sets up this little hunch-backed image, like\\na tenpin, between the andirons.  The chimney jambs and all the bricks\\ninside were very sooty, so that I thought this fire-place made a very\\nappropriate little shrine or chapel for his Congo idol.\\n\\nI now screwed my eyes hard towards the half hidden image, feeling but\\nill at ease meantime--to see what was next to follow.  First he takes\\nabout a double handful of shavings out of his grego pocket, and\\nplaces them carefully before the idol; then laying a bit of ship\\nbiscuit on top and applying the flame from the lamp, he kindled the\\nshavings into a sacrificial blaze.  Presently, after many hasty\\nsnatches into the fire, and still hastier withdrawals of his fingers\\n(whereby he seemed to be scorching them badly), he at last succeeded\\nin drawing out the biscuit; then blowing off the heat and ashes a\\nlittle, he made a polite offer of it to the little negro.  But the\\nlittle devil did not seem to fancy such dry sort of fare at all; he\\nnever moved his lips.  All these strange antics were accompanied by\\nstill stranger guttural noises from the devotee, who seemed to be\\npraying in a sing-song or else singing some pagan psalmody or other,\\nduring which his face twitched about in the most unnatural manner.\\nAt last extinguishing the fire, he took the idol up very\\nunceremoniously, and bagged it again in his grego pocket as\\ncarelessly as if he were a sportsman bagging a dead woodcock.\\n\\nAll these queer proceedings increased my uncomfortableness, and\\nseeing him now exhibiting strong symptoms of concluding his business\\noperations, and jumping into bed with me, I thought it was high time,\\nnow or never, before the light was put out, to break the spell in\\nwhich I had so long been bound.\\n\\nBut the interval I spent in deliberating what to say, was a fatal\\none.  Taking up his tomahawk from the table, he examined the head of\\nit for an instant, and then holding it to the light, with his mouth\\nat the handle, he puffed out great clouds of tobacco smoke.  The next\\nmoment the light was extinguished, and this wild cannibal, tomahawk\\nbetween his teeth, sprang into bed with me.  I sang out, I could not\\nhelp it now; and giving a sudden grunt of astonishment he began\\nfeeling me.\\n\\nStammering out something, I knew not what, I rolled away from him\\nagainst the wall, and then conjured him, whoever or whatever he might\\nbe, to keep quiet, and let me get up and light the lamp again.  But\\nhis guttural responses satisfied me at once that he but ill\\ncomprehended my meaning.\\n\\n\"Who-e debel you?\"--he at last said--\"you no speak-e, dam-me, I\\nkill-e.\"  And so saying the lighted tomahawk began flourishing about\\nme in the dark.\\n\\n\"Landlord, for God\\'s sake, Peter Coffin!\" shouted I.  \"Landlord!\\nWatch!  Coffin!  Angels! save me!\"\\n\\n\"Speak-e! tell-ee me who-ee be, or dam-me, I kill-e!\" again growled\\nthe cannibal, while his horrid flourishings of the tomahawk scattered\\nthe hot tobacco ashes about me till I thought my linen would get on\\nfire.  But thank heaven, at that moment the landlord came into the\\nroom light in hand, and leaping from the bed I ran up to him.\\n\\n\"Don\\'t be afraid now,\" said he, grinning again, \"Queequeg here\\nwouldn\\'t harm a hair of your head.\"\\n\\n\"Stop your grinning,\" shouted I, \"and why didn\\'t you tell me that\\nthat infernal harpooneer was a cannibal?\"\\n\\n\"I thought ye know\\'d it;--didn\\'t I tell ye, he was a peddlin\\' heads\\naround town?--but turn flukes again and go to sleep.  Queequeg, look\\nhere--you sabbee me, I sabbee--you this man sleepe you--you sabbee?\"\\n\\n\"Me sabbee plenty\"--grunted Queequeg, puffing away at his pipe and\\nsitting up in bed.\\n\\n\"You gettee in,\" he added, motioning to me with his tomahawk, and\\nthrowing the clothes to one side.  He really did this in not only a\\ncivil but a really kind and charitable way.  I stood looking at him a\\nmoment.  For all his tattooings he was on the whole a clean, comely\\nlooking cannibal.  What\\'s all this fuss I have been making about,\\nthought I to myself--the man\\'s a human being just as I am: he has\\njust as much reason to fear me, as I have to be afraid of him.\\nBetter sleep with a sober cannibal than a drunken Christian.\\n\\n\"Landlord,\" said I, \"tell him to stash his tomahawk there, or pipe,\\nor whatever you call it; tell him to stop smoking, in short, and I\\nwill turn in with him.  But I don\\'t fancy having a man smoking in bed\\nwith me.  It\\'s dangerous.  Besides, I ain\\'t insured.\"\\n\\nThis being told to Queequeg, he at once complied, and again politely\\nmotioned me to get into bed--rolling over to one side as much as to\\nsay--I won\\'t touch a leg of ye.\"\\n\\n\"Good night, landlord,\" said I, \"you may go.\"\\n\\nI turned in, and never slept better in my life.\\n\\nUpon waking next morning about daylight, I found Queequeg\\'s arm\\nthrown over me in the most loving and affectionate manner.  You had\\nalmost thought I had been his wife.  The counterpane was of\\npatchwork, full of odd little parti-coloured squares and triangles;\\nand this arm of his tattooed all over with an interminable Cretan\\nlabyrinth of a figure, no two parts of which were of one precise\\nshade--owing I suppose to his keeping his arm at sea unmethodically\\nin sun and shade, his shirt sleeves irregularly rolled up at various\\ntimes--this same arm of his, I say, looked for all the world like a\\nstrip of that same patchwork quilt.  Indeed, partly lying on it as\\nthe arm did when I first awoke, I could hardly tell it from the\\nquilt, they so blended their hues together; and it was only by the\\nsense of weight and pressure that I could tell that Queequeg was\\nhugging me.\\n\\nMy sensations were strange.  Let me try to explain them.  When I was\\na child, I well remember a somewhat similar circumstance that befell\\nme; whether it was a reality or a dream, I never could entirely\\nsettle.  The circumstance was this.  I had been cutting up some caper\\nor other--I think it was trying to crawl up the chimney, as I had\\nseen a little sweep do a few days previous; and my stepmother who,\\nsomehow or other, was all the time whipping me, or sending me to bed\\nsupperless,--my mother dragged me by the legs out of the chimney and\\npacked me off to bed, though it was only two o\\'clock in the afternoon\\nof the 21st June, the longest day in the year in our hemisphere.  I\\nfelt dreadfully.  But there was no help for it, so up stairs I went\\nto my little room in the third floor, undressed myself as slowly as\\npossible so as to kill time, and with a bitter sigh got between the\\nsheets.\\n\\nI lay there dismally calculating that sixteen entire hours must\\nelapse before I could hope for a resurrection.  Sixteen hours in bed!\\nthe small of my back ached to think of it.  And it was so light too;\\nthe sun shining in at the window, and a great rattling of coaches in\\nthe streets, and the sound of gay voices all over the house.  I felt\\nworse and worse--at last I got up, dressed, and softly going down in\\nmy stockinged feet, sought out my stepmother, and suddenly threw\\nmyself at her feet, beseeching her as a particular favour to give me a\\ngood slippering for my misbehaviour; anything indeed but condemning\\nme to lie abed such an unendurable length of time.  But she was the\\nbest and most conscientious of stepmothers, and back I had to go to\\nmy room.  For several hours I lay there broad awake, feeling a great\\ndeal worse than I have ever done since, even from the greatest\\nsubsequent misfortunes.  At last I must have fallen into a troubled\\nnightmare of a doze; and slowly waking from it--half steeped in\\ndreams--I opened my eyes, and the before sun-lit room was now wrapped\\nin outer darkness.  Instantly I felt a shock running through all my\\nframe; nothing was to be seen, and nothing was to be heard; but a\\nsupernatural hand seemed placed in mine.  My arm hung over the\\ncounterpane, and the nameless, unimaginable, silent form or phantom,\\nto which the hand belonged, seemed closely seated by my bed-side.\\nFor what seemed ages piled on ages, I lay there, frozen with the most\\nawful fears, not daring to drag away my hand; yet ever thinking that\\nif I could but stir it one single inch, the horrid spell would be\\nbroken.  I knew not how this consciousness at last glided away from\\nme; but waking in the morning, I shudderingly remembered it all, and\\nfor days and weeks and months afterwards I lost myself in confounding\\nattempts to explain the mystery.  Nay, to this very hour, I often\\npuzzle myself with it.\\n\\nNow, take away the awful fear, and my sensations at feeling the\\nsupernatural hand in mine were very similar, in their strangeness,\\nto those which I experienced on waking up and seeing Queequeg\\'s pagan\\narm thrown round me.  But at length all the past night\\'s events\\nsoberly recurred, one by one, in fixed reality, and then I lay only\\nalive to the comical predicament.  For though I tried to move his\\narm--unlock his bridegroom clasp--yet, sleeping as he was, he still\\nhugged me tightly, as though naught but death should part us twain.\\nI now strove to rouse him--\"Queequeg!\"--but his only answer was a\\nsnore.  I then rolled over, my neck feeling as if it were in a\\nhorse-collar; and suddenly felt a slight scratch.  Throwing aside the\\ncounterpane, there lay the tomahawk sleeping by the savage\\'s side, as\\nif it were a hatchet-faced baby.  A pretty pickle, truly, thought I;\\nabed here in a strange house in the broad day, with a cannibal and a\\ntomahawk!  \"Queequeg!--in the name of goodness, Queequeg, wake!\"  At\\nlength, by dint of much wriggling, and loud and incessant\\nexpostulations upon the unbecomingness of his hugging a fellow male\\nin that matrimonial sort of style, I succeeded in extracting a grunt;\\nand presently, he drew back his arm, shook himself all over like a\\nNewfoundland dog just from the water, and sat up in bed, stiff as a\\npike-staff, looking at me, and rubbing his eyes as if he did not\\naltogether remember how I came to be there, though a dim\\nconsciousness of knowing something about me seemed slowly dawning\\nover him.  Meanwhile, I lay quietly eyeing him, having no serious\\nmisgivings now, and bent upon narrowly observing so curious a\\ncreature.  When, at last, his mind seemed made up touching the\\ncharacter of his bedfellow, and he became, as it were, reconciled to\\nthe fact; he jumped out upon the floor, and by certain signs and\\nsounds gave me to understand that, if it pleased me, he would dress\\nfirst and then leave me to dress afterwards, leaving the whole\\napartment to myself.  Thinks I, Queequeg, under the circumstances,\\nthis is a very civilized overture; but, the truth is, these savages\\nhave an innate sense of delicacy, say what you will; it is marvellous\\nhow essentially polite they are.  I pay this particular compliment to\\nQueequeg, because he treated me with so much civility and\\nconsideration, while I was guilty of great rudeness; staring at him\\nfrom the bed, and watching all his toilette motions; for the time my\\ncuriosity getting the better of my breeding.  Nevertheless, a man\\nlike Queequeg you don\\'t see every day, he and his ways were well\\nworth unusual regarding.\\n\\nHe commenced dressing at top by donning his beaver hat, a very tall\\none, by the by, and then--still minus his trowsers--he hunted up his\\nboots.  What under the heavens he did it for, I cannot tell, but his\\nnext movement was to crush himself--boots in hand, and hat on--under\\nthe bed; when, from sundry violent gaspings and strainings, I\\ninferred he was hard at work booting himself; though by no law of\\npropriety that I ever heard of, is any man required to be private\\nwhen putting on his boots.  But Queequeg, do you see, was a creature\\nin the transition stage--neither caterpillar nor butterfly.  He was\\njust enough civilized to show off his outlandishness in the strangest\\npossible manners.  His education was not yet completed.  He was an\\nundergraduate.  If he had not been a small degree civilized, he very\\nprobably would not have troubled himself with boots at all; but then,\\nif he had not been still a savage, he never would have dreamt of\\ngetting under the bed to put them on.  At last, he emerged with his\\nhat very much dented and crushed down over his eyes, and began\\ncreaking and limping about the room, as if, not being much accustomed\\nto boots, his pair of damp, wrinkled cowhide ones--probably not made\\nto order either--rather pinched and tormented him at the first go off\\nof a bitter cold morning.\\n\\nSeeing, now, that there were no curtains to the window, and that the\\nstreet being very narrow, the house opposite commanded a plain view\\ninto the room, and observing more and more the indecorous figure that\\nQueequeg made, staving about with little else but his hat and boots\\non; I begged him as well as I could, to accelerate his toilet\\nsomewhat, and particularly to get into his pantaloons as soon as\\npossible.  He complied, and then proceeded to wash himself.  At that\\ntime in the morning any Christian would have washed his face; but\\nQueequeg, to my amazement, contented himself with restricting his\\nablutions to his chest, arms, and hands.  He then donned his\\nwaistcoat, and taking up a piece of hard soap on the wash-stand\\ncentre table, dipped it into water and commenced lathering his face.\\nI was watching to see where he kept his razor, when lo and behold, he\\ntakes the harpoon from the bed corner, slips out the long wooden\\nstock, unsheathes the head, whets it a little on his boot, and\\nstriding up to the bit of mirror against the wall, begins a vigorous\\nscraping, or rather harpooning of his cheeks.  Thinks I, Queequeg,\\nthis is using Rogers\\'s best cutlery with a vengeance.  Afterwards I\\nwondered the less at this operation when I came to know of what fine\\nsteel the head of a harpoon is made, and how exceedingly sharp the\\nlong straight edges are always kept.\\n\\nThe rest of his toilet was soon achieved, and he proudly marched out\\nof the room, wrapped up in his great pilot monkey jacket, and\\nsporting his harpoon like a marshal\\'s baton.'"
      ]
     },
     "execution_count": 4,
     "metadata": {},
     "output_type": "execute_result"
    }
   ],
   "source": [
    "read_file('moby_dick_four_chapters.txt')"
   ]
  },
  {
   "cell_type": "markdown",
   "metadata": {
    "collapsed": true
   },
   "source": [
    "### Tokenize and Clean Text"
   ]
  },
  {
   "cell_type": "code",
   "execution_count": 5,
   "metadata": {},
   "outputs": [],
   "source": [
    "full_text = read_file('melville-moby_dick.txt')"
   ]
  },
  {
   "cell_type": "code",
   "execution_count": 6,
   "metadata": {},
   "outputs": [
    {
     "data": {
      "text/plain": [
       "'\\n !\"$&\\'()*,-.0123456789:;?[]_abcdefghijklmnopqrstuvwxyz'"
      ]
     },
     "execution_count": 6,
     "metadata": {},
     "output_type": "execute_result"
    }
   ],
   "source": [
    "\"\".join(sorted(set(full_text.lower())))"
   ]
  },
  {
   "cell_type": "code",
   "execution_count": 7,
   "metadata": {},
   "outputs": [],
   "source": [
    "num_chars = len(full_text)"
   ]
  },
  {
   "cell_type": "code",
   "execution_count": 8,
   "metadata": {},
   "outputs": [
    {
     "data": {
      "text/plain": [
       "1198622"
      ]
     },
     "execution_count": 8,
     "metadata": {},
     "output_type": "execute_result"
    }
   ],
   "source": [
    "num_chars"
   ]
  },
  {
   "cell_type": "markdown",
   "metadata": {},
   "source": [
    "### Encoding and Decoding Text to Numerics"
   ]
  },
  {
   "cell_type": "code",
   "execution_count": 9,
   "metadata": {},
   "outputs": [],
   "source": [
    "from tensorflow.keras.preprocessing.text import Tokenizer"
   ]
  },
  {
   "cell_type": "code",
   "execution_count": 10,
   "metadata": {},
   "outputs": [],
   "source": [
    "tokenizer = Tokenizer(char_level=True)\n",
    "tokenizer.fit_on_texts(full_text)"
   ]
  },
  {
   "cell_type": "code",
   "execution_count": 11,
   "metadata": {},
   "outputs": [
    {
     "data": {
      "text/plain": [
       "{1: ' ',\n",
       " 2: 'e',\n",
       " 3: 't',\n",
       " 4: 'a',\n",
       " 5: 'o',\n",
       " 6: 'n',\n",
       " 7: 'i',\n",
       " 8: 's',\n",
       " 9: 'h',\n",
       " 10: 'r',\n",
       " 11: 'l',\n",
       " 12: 'd',\n",
       " 13: 'u',\n",
       " 14: 'm',\n",
       " 15: '\\n',\n",
       " 16: 'c',\n",
       " 17: 'w',\n",
       " 18: 'g',\n",
       " 19: 'f',\n",
       " 20: ',',\n",
       " 21: 'p',\n",
       " 22: 'y',\n",
       " 23: 'b',\n",
       " 24: 'v',\n",
       " 25: 'k',\n",
       " 26: '.',\n",
       " 27: '-',\n",
       " 28: ';',\n",
       " 29: '\"',\n",
       " 30: \"'\",\n",
       " 31: '!',\n",
       " 32: 'q',\n",
       " 33: 'j',\n",
       " 34: 'x',\n",
       " 35: '?',\n",
       " 36: 'z',\n",
       " 37: '(',\n",
       " 38: ')',\n",
       " 39: ':',\n",
       " 40: '1',\n",
       " 41: '0',\n",
       " 42: '2',\n",
       " 43: '5',\n",
       " 44: '7',\n",
       " 45: '8',\n",
       " 46: '3',\n",
       " 47: '*',\n",
       " 48: '4',\n",
       " 49: '6',\n",
       " 50: '9',\n",
       " 51: '_',\n",
       " 52: '$',\n",
       " 53: '[',\n",
       " 54: ']',\n",
       " 55: '&'}"
      ]
     },
     "execution_count": 11,
     "metadata": {},
     "output_type": "execute_result"
    }
   ],
   "source": [
    "tokenizer.index_word"
   ]
  },
  {
   "cell_type": "code",
   "execution_count": 12,
   "metadata": {},
   "outputs": [
    {
     "data": {
      "text/plain": [
       "[[16, 4, 11, 11, 1, 14, 2, 1, 7, 8, 9, 14, 4, 2, 11]]"
      ]
     },
     "execution_count": 12,
     "metadata": {},
     "output_type": "execute_result"
    }
   ],
   "source": [
    "sample = \"Call me Ishmael\"\n",
    "tokenizer.texts_to_sequences([sample])"
   ]
  },
  {
   "cell_type": "code",
   "execution_count": 13,
   "metadata": {},
   "outputs": [
    {
     "data": {
      "text/plain": [
       "['h i']"
      ]
     },
     "execution_count": 13,
     "metadata": {},
     "output_type": "execute_result"
    }
   ],
   "source": [
    "# Decode Sequence to Characters\n",
    "tokenizer.sequences_to_texts([[9,7]])"
   ]
  },
  {
   "cell_type": "markdown",
   "metadata": {},
   "source": [
    "## Creating Sequences\n",
    "\n",
    "Recall from our RNN discussions we need to create batches of sequences."
   ]
  },
  {
   "cell_type": "code",
   "execution_count": 14,
   "metadata": {},
   "outputs": [],
   "source": [
    "encoded_text = tokenizer.texts_to_sequences([full_text])[0]"
   ]
  },
  {
   "cell_type": "code",
   "execution_count": 15,
   "metadata": {},
   "outputs": [],
   "source": [
    "# Given 120 characters, predict the sequence shifted by one character forward\n",
    "seq_len = 120\n",
    "\n",
    "# Number of total sequences\n",
    "num_seq = len(encoded_text)-seq_len\n",
    "\n",
    "# X Data (120 characters)\n",
    "X = []\n",
    "# seq_length+1 character\n",
    "y = []\n",
    "\n",
    "# num_chars- seq_len so we don't overshoot at the end (otherwise we would get index error)\n",
    "for i in range(0, num_chars - seq_len):\n",
    "    \n",
    "    # Given this sequence\n",
    "    xx = encoded_text[i:i + seq_len]\n",
    "    \n",
    "    # Predict this sequence\n",
    "    yy = encoded_text[i + seq_len]\n",
    "    \n",
    "    X.append(xx)\n",
    "    y.append(yy)\n"
   ]
  },
  {
   "cell_type": "code",
   "execution_count": 16,
   "metadata": {},
   "outputs": [],
   "source": [
    "X = np.array(X)"
   ]
  },
  {
   "cell_type": "code",
   "execution_count": 17,
   "metadata": {},
   "outputs": [],
   "source": [
    "y = np.array(y)"
   ]
  },
  {
   "cell_type": "code",
   "execution_count": 18,
   "metadata": {},
   "outputs": [],
   "source": [
    "X = X.reshape((num_seq, seq_len, 1))"
   ]
  },
  {
   "cell_type": "code",
   "execution_count": 19,
   "metadata": {},
   "outputs": [
    {
     "data": {
      "text/plain": [
       "(1198502, 120, 1)"
      ]
     },
     "execution_count": 19,
     "metadata": {},
     "output_type": "execute_result"
    }
   ],
   "source": [
    "X.shape"
   ]
  },
  {
   "cell_type": "code",
   "execution_count": 20,
   "metadata": {},
   "outputs": [
    {
     "data": {
      "text/plain": [
       "array([[[16],\n",
       "        [ 9],\n",
       "        [ 4],\n",
       "        ...,\n",
       "        [14],\n",
       "        [22],\n",
       "        [ 1]],\n",
       "\n",
       "       [[ 9],\n",
       "        [ 4],\n",
       "        [21],\n",
       "        ...,\n",
       "        [22],\n",
       "        [ 1],\n",
       "        [21]],\n",
       "\n",
       "       [[ 4],\n",
       "        [21],\n",
       "        [ 3],\n",
       "        ...,\n",
       "        [ 1],\n",
       "        [21],\n",
       "        [13]],\n",
       "\n",
       "       ...,\n",
       "\n",
       "       [[ 1],\n",
       "        [ 1],\n",
       "        [ 7],\n",
       "        ...,\n",
       "        [ 9],\n",
       "        [ 4],\n",
       "        [ 6]],\n",
       "\n",
       "       [[ 1],\n",
       "        [ 7],\n",
       "        [ 3],\n",
       "        ...,\n",
       "        [ 4],\n",
       "        [ 6],\n",
       "        [26]],\n",
       "\n",
       "       [[ 7],\n",
       "        [ 3],\n",
       "        [ 1],\n",
       "        ...,\n",
       "        [ 6],\n",
       "        [26],\n",
       "        [15]]])"
      ]
     },
     "execution_count": 20,
     "metadata": {},
     "output_type": "execute_result"
    }
   ],
   "source": [
    "X"
   ]
  },
  {
   "cell_type": "code",
   "execution_count": 21,
   "metadata": {},
   "outputs": [
    {
     "data": {
      "text/plain": [
       "array([[16],\n",
       "       [ 9],\n",
       "       [ 4],\n",
       "       [21],\n",
       "       [ 3],\n",
       "       [ 2],\n",
       "       [10],\n",
       "       [ 1],\n",
       "       [40],\n",
       "       [15],\n",
       "       [15],\n",
       "       [11],\n",
       "       [ 5],\n",
       "       [ 5],\n",
       "       [14],\n",
       "       [ 7],\n",
       "       [ 6],\n",
       "       [18],\n",
       "       [ 8],\n",
       "       [26],\n",
       "       [15],\n",
       "       [15],\n",
       "       [15],\n",
       "       [16],\n",
       "       [ 4],\n",
       "       [11],\n",
       "       [11],\n",
       "       [ 1],\n",
       "       [14],\n",
       "       [ 2],\n",
       "       [ 1],\n",
       "       [ 7],\n",
       "       [ 8],\n",
       "       [ 9],\n",
       "       [14],\n",
       "       [ 4],\n",
       "       [ 2],\n",
       "       [11],\n",
       "       [26],\n",
       "       [ 1],\n",
       "       [ 1],\n",
       "       [ 8],\n",
       "       [ 5],\n",
       "       [14],\n",
       "       [ 2],\n",
       "       [ 1],\n",
       "       [22],\n",
       "       [ 2],\n",
       "       [ 4],\n",
       "       [10],\n",
       "       [ 8],\n",
       "       [ 1],\n",
       "       [ 4],\n",
       "       [18],\n",
       "       [ 5],\n",
       "       [27],\n",
       "       [27],\n",
       "       [ 6],\n",
       "       [ 2],\n",
       "       [24],\n",
       "       [ 2],\n",
       "       [10],\n",
       "       [ 1],\n",
       "       [14],\n",
       "       [ 7],\n",
       "       [ 6],\n",
       "       [12],\n",
       "       [ 1],\n",
       "       [ 9],\n",
       "       [ 5],\n",
       "       [17],\n",
       "       [ 1],\n",
       "       [11],\n",
       "       [ 5],\n",
       "       [ 6],\n",
       "       [18],\n",
       "       [15],\n",
       "       [21],\n",
       "       [10],\n",
       "       [ 2],\n",
       "       [16],\n",
       "       [ 7],\n",
       "       [ 8],\n",
       "       [ 2],\n",
       "       [11],\n",
       "       [22],\n",
       "       [27],\n",
       "       [27],\n",
       "       [ 9],\n",
       "       [ 4],\n",
       "       [24],\n",
       "       [ 7],\n",
       "       [ 6],\n",
       "       [18],\n",
       "       [ 1],\n",
       "       [11],\n",
       "       [ 7],\n",
       "       [ 3],\n",
       "       [ 3],\n",
       "       [11],\n",
       "       [ 2],\n",
       "       [ 1],\n",
       "       [ 5],\n",
       "       [10],\n",
       "       [ 1],\n",
       "       [ 6],\n",
       "       [ 5],\n",
       "       [ 1],\n",
       "       [14],\n",
       "       [ 5],\n",
       "       [ 6],\n",
       "       [ 2],\n",
       "       [22],\n",
       "       [ 1],\n",
       "       [ 7],\n",
       "       [ 6],\n",
       "       [ 1],\n",
       "       [14],\n",
       "       [22],\n",
       "       [ 1]])"
      ]
     },
     "execution_count": 21,
     "metadata": {},
     "output_type": "execute_result"
    }
   ],
   "source": [
    "X[0]"
   ]
  },
  {
   "cell_type": "code",
   "execution_count": 22,
   "metadata": {},
   "outputs": [
    {
     "data": {
      "text/plain": [
       "21"
      ]
     },
     "execution_count": 22,
     "metadata": {},
     "output_type": "execute_result"
    }
   ],
   "source": [
    "y[0]"
   ]
  },
  {
   "cell_type": "code",
   "execution_count": 23,
   "metadata": {},
   "outputs": [
    {
     "data": {
      "text/plain": [
       "55"
      ]
     },
     "execution_count": 23,
     "metadata": {},
     "output_type": "execute_result"
    }
   ],
   "source": [
    "X.max()"
   ]
  },
  {
   "cell_type": "code",
   "execution_count": 24,
   "metadata": {},
   "outputs": [
    {
     "data": {
      "text/plain": [
       "1"
      ]
     },
     "execution_count": 24,
     "metadata": {},
     "output_type": "execute_result"
    }
   ],
   "source": [
    "X.min()"
   ]
  },
  {
   "cell_type": "code",
   "execution_count": 25,
   "metadata": {},
   "outputs": [],
   "source": [
    "# NORMALIZE\n",
    "X = X/X.max()"
   ]
  },
  {
   "cell_type": "markdown",
   "metadata": {},
   "source": [
    "## Converting to Categorical Encoding\n",
    "\n",
    "There will be one neuron per possible character. We need to convert our encodings to one-hot encoding, otherwise the network will think its some sort of continuous value."
   ]
  },
  {
   "cell_type": "code",
   "execution_count": 26,
   "metadata": {},
   "outputs": [],
   "source": [
    "from tensorflow.keras.utils import to_categorical"
   ]
  },
  {
   "cell_type": "code",
   "execution_count": 27,
   "metadata": {},
   "outputs": [
    {
     "data": {
      "text/plain": [
       "1198622"
      ]
     },
     "execution_count": 27,
     "metadata": {},
     "output_type": "execute_result"
    }
   ],
   "source": [
    "tokenizer.document_count"
   ]
  },
  {
   "cell_type": "code",
   "execution_count": 28,
   "metadata": {},
   "outputs": [],
   "source": [
    "y = to_categorical(y)"
   ]
  },
  {
   "cell_type": "markdown",
   "metadata": {},
   "source": [
    "## Train/Test Split"
   ]
  },
  {
   "cell_type": "code",
   "execution_count": 29,
   "metadata": {},
   "outputs": [],
   "source": [
    "# Grab first 90% as train\n",
    "train_perc = 0.9"
   ]
  },
  {
   "cell_type": "code",
   "execution_count": 30,
   "metadata": {},
   "outputs": [
    {
     "data": {
      "text/plain": [
       "(1198502, 120, 1)"
      ]
     },
     "execution_count": 30,
     "metadata": {},
     "output_type": "execute_result"
    }
   ],
   "source": [
    "X.shape"
   ]
  },
  {
   "cell_type": "code",
   "execution_count": 31,
   "metadata": {},
   "outputs": [
    {
     "data": {
      "text/plain": [
       "1078759.8"
      ]
     },
     "execution_count": 31,
     "metadata": {},
     "output_type": "execute_result"
    }
   ],
   "source": [
    "# WARNING: You can only do this if the first 90% of your text document is representative\n",
    "# of the last 10%. For example, you don't want the last 10% to be an index or references.\n",
    "train_perc * tokenizer.document_count"
   ]
  },
  {
   "cell_type": "code",
   "execution_count": 32,
   "metadata": {},
   "outputs": [
    {
     "data": {
      "text/plain": [
       "1078651.8"
      ]
     },
     "execution_count": 32,
     "metadata": {},
     "output_type": "execute_result"
    }
   ],
   "source": [
    "train_perc * X.shape[0]"
   ]
  },
  {
   "cell_type": "code",
   "execution_count": 33,
   "metadata": {},
   "outputs": [],
   "source": [
    "train_index = 1078651"
   ]
  },
  {
   "cell_type": "code",
   "execution_count": 34,
   "metadata": {},
   "outputs": [
    {
     "data": {
      "text/plain": [
       "(1198502, 120, 1)"
      ]
     },
     "execution_count": 34,
     "metadata": {},
     "output_type": "execute_result"
    }
   ],
   "source": [
    "X.shape"
   ]
  },
  {
   "cell_type": "code",
   "execution_count": 35,
   "metadata": {},
   "outputs": [],
   "source": [
    "X_train = X[:train_index]\n",
    "X_test = X[train_index:]"
   ]
  },
  {
   "cell_type": "code",
   "execution_count": 36,
   "metadata": {},
   "outputs": [],
   "source": [
    "y_train = y[:train_index]\n",
    "y_test = y[train_index:]"
   ]
  },
  {
   "cell_type": "markdown",
   "metadata": {},
   "source": [
    "# Creating an LSTM based model"
   ]
  },
  {
   "cell_type": "code",
   "execution_count": 37,
   "metadata": {},
   "outputs": [],
   "source": [
    "from tensorflow.keras.models import Sequential\n",
    "from tensorflow.keras.layers import Dense,LSTM,Dropout,Embedding"
   ]
  },
  {
   "cell_type": "code",
   "execution_count": 38,
   "metadata": {},
   "outputs": [],
   "source": [
    "seq_len = X.shape[1]"
   ]
  },
  {
   "cell_type": "code",
   "execution_count": 39,
   "metadata": {},
   "outputs": [
    {
     "data": {
      "text/plain": [
       "120"
      ]
     },
     "execution_count": 39,
     "metadata": {},
     "output_type": "execute_result"
    }
   ],
   "source": [
    "seq_len"
   ]
  },
  {
   "cell_type": "code",
   "execution_count": 40,
   "metadata": {},
   "outputs": [],
   "source": [
    "num_unique_chars = len(tokenizer.word_counts)"
   ]
  },
  {
   "cell_type": "code",
   "execution_count": 41,
   "metadata": {},
   "outputs": [
    {
     "name": "stdout",
     "output_type": "stream",
     "text": [
      "WARNING:tensorflow:From c:\\users\\marcial\\.conda\\envs\\tf2gpu\\lib\\site-packages\\tensorflow_core\\python\\ops\\resource_variable_ops.py:1630: calling BaseResourceVariable.__init__ (from tensorflow.python.ops.resource_variable_ops) with constraint is deprecated and will be removed in a future version.\n",
      "Instructions for updating:\n",
      "If using Keras pass *_constraint arguments to layers.\n"
     ]
    }
   ],
   "source": [
    "model = Sequential()\n",
    "model.add(LSTM(256, input_shape=(X.shape[1], X.shape[2])))\n",
    "model.add(Dropout(0.2))\n",
    "model.add(Dense(y.shape[1], activation='softmax'))"
   ]
  },
  {
   "cell_type": "code",
   "execution_count": 42,
   "metadata": {},
   "outputs": [],
   "source": [
    "model.compile(loss='categorical_crossentropy', optimizer='adam', metrics=['accuracy'])"
   ]
  },
  {
   "cell_type": "code",
   "execution_count": 43,
   "metadata": {},
   "outputs": [
    {
     "name": "stdout",
     "output_type": "stream",
     "text": [
      "Model: \"sequential\"\n",
      "_________________________________________________________________\n",
      "Layer (type)                 Output Shape              Param #   \n",
      "=================================================================\n",
      "lstm (LSTM)                  (None, 256)               264192    \n",
      "_________________________________________________________________\n",
      "dropout (Dropout)            (None, 256)               0         \n",
      "_________________________________________________________________\n",
      "dense (Dense)                (None, 56)                14392     \n",
      "=================================================================\n",
      "Total params: 278,584\n",
      "Trainable params: 278,584\n",
      "Non-trainable params: 0\n",
      "_________________________________________________________________\n"
     ]
    }
   ],
   "source": [
    "model.summary()"
   ]
  },
  {
   "cell_type": "markdown",
   "metadata": {},
   "source": [
    "### Early Stopping"
   ]
  },
  {
   "cell_type": "code",
   "execution_count": 44,
   "metadata": {},
   "outputs": [],
   "source": [
    "from tensorflow.keras.callbacks import EarlyStopping"
   ]
  },
  {
   "cell_type": "code",
   "execution_count": 45,
   "metadata": {},
   "outputs": [],
   "source": [
    "early_stop = EarlyStopping(monitor='val_loss',patience=2)"
   ]
  },
  {
   "cell_type": "markdown",
   "metadata": {},
   "source": [
    "### Training the Model"
   ]
  },
  {
   "cell_type": "code",
   "execution_count": 49,
   "metadata": {},
   "outputs": [
    {
     "name": "stdout",
     "output_type": "stream",
     "text": [
      "Train on 1078651 samples, validate on 119851 samples\n",
      "Epoch 1/50\n",
      "1078651/1078651 [==============================] - 775s 719us/sample - loss: 2.9103 - accuracy: 0.1883 - val_loss: 2.8008 - val_accuracy: 0.2188\n",
      "Epoch 2/50\n",
      "1078651/1078651 [==============================] - 766s 710us/sample - loss: 2.7758 - accuracy: 0.2188 - val_loss: 2.7159 - val_accuracy: 0.2421\n",
      "Epoch 3/50\n",
      "1078651/1078651 [==============================] - 771s 715us/sample - loss: 2.6883 - accuracy: 0.2421 - val_loss: 2.6044 - val_accuracy: 0.2665\n",
      "Epoch 4/50\n",
      "1078651/1078651 [==============================] - 769s 713us/sample - loss: 2.5826 - accuracy: 0.2696 - val_loss: 2.4910 - val_accuracy: 0.2946\n",
      "Epoch 5/50\n",
      "1078651/1078651 [==============================] - 768s 712us/sample - loss: 2.4830 - accuracy: 0.2952 - val_loss: 2.4159 - val_accuracy: 0.3171\n",
      "Epoch 6/50\n",
      "1078651/1078651 [==============================] - 769s 713us/sample - loss: 2.4146 - accuracy: 0.3141 - val_loss: 2.3605 - val_accuracy: 0.3314\n",
      "Epoch 7/50\n",
      "1078651/1078651 [==============================] - 768s 712us/sample - loss: 2.3615 - accuracy: 0.3281 - val_loss: 2.3143 - val_accuracy: 0.3431\n",
      "Epoch 8/50\n",
      "1078651/1078651 [==============================] - 777s 721us/sample - loss: 2.3163 - accuracy: 0.3402 - val_loss: 2.2776 - val_accuracy: 0.3527\n",
      "Epoch 9/50\n",
      "1078651/1078651 [==============================] - 770s 714us/sample - loss: 2.2789 - accuracy: 0.3493 - val_loss: 2.2476 - val_accuracy: 0.3609\n",
      "Epoch 10/50\n",
      "1078651/1078651 [==============================] - 772s 716us/sample - loss: 2.2457 - accuracy: 0.3582 - val_loss: 2.2268 - val_accuracy: 0.3652\n",
      "Epoch 11/50\n",
      "1078651/1078651 [==============================] - 771s 714us/sample - loss: 2.2183 - accuracy: 0.3656 - val_loss: 2.2032 - val_accuracy: 0.3728\n",
      "Epoch 12/50\n",
      "1078651/1078651 [==============================] - 774s 717us/sample - loss: 2.1935 - accuracy: 0.3713 - val_loss: 2.1845 - val_accuracy: 0.3759\n",
      "Epoch 13/50\n",
      "1078651/1078651 [==============================] - 773s 716us/sample - loss: 2.1717 - accuracy: 0.3769 - val_loss: 2.1671 - val_accuracy: 0.3808\n",
      "Epoch 14/50\n",
      "1078651/1078651 [==============================] - 773s 716us/sample - loss: 2.1526 - accuracy: 0.3818 - val_loss: 2.1574 - val_accuracy: 0.3828\n",
      "Epoch 15/50\n",
      "1078651/1078651 [==============================] - 775s 718us/sample - loss: 2.1329 - accuracy: 0.3870 - val_loss: 2.1437 - val_accuracy: 0.3882\n",
      "Epoch 16/50\n",
      "1078651/1078651 [==============================] - 772s 716us/sample - loss: 2.1185 - accuracy: 0.3908 - val_loss: 2.1334 - val_accuracy: 0.3899\n",
      "Epoch 17/50\n",
      "1078651/1078651 [==============================] - 773s 716us/sample - loss: 2.1030 - accuracy: 0.3949 - val_loss: 2.1272 - val_accuracy: 0.3904\n",
      "Epoch 18/50\n",
      "1078651/1078651 [==============================] - 772s 716us/sample - loss: 2.0889 - accuracy: 0.3978 - val_loss: 2.1194 - val_accuracy: 0.3936\n",
      "Epoch 19/50\n",
      "1078651/1078651 [==============================] - 775s 718us/sample - loss: 2.0773 - accuracy: 0.4007 - val_loss: 2.1094 - val_accuracy: 0.3945\n",
      "Epoch 20/50\n",
      "1078651/1078651 [==============================] - 772s 716us/sample - loss: 2.0673 - accuracy: 0.4038 - val_loss: 2.1033 - val_accuracy: 0.3965\n",
      "Epoch 21/50\n",
      "1078651/1078651 [==============================] - 776s 720us/sample - loss: 2.0558 - accuracy: 0.4063 - val_loss: 2.0997 - val_accuracy: 0.3976\n",
      "Epoch 22/50\n",
      "1078651/1078651 [==============================] - 770s 713us/sample - loss: 2.0456 - accuracy: 0.4097 - val_loss: 2.0940 - val_accuracy: 0.3989\n",
      "Epoch 23/50\n",
      "1078651/1078651 [==============================] - 774s 717us/sample - loss: 2.0379 - accuracy: 0.4110 - val_loss: 2.0876 - val_accuracy: 0.4010\n",
      "Epoch 24/50\n",
      "1078651/1078651 [==============================] - 773s 717us/sample - loss: 2.0289 - accuracy: 0.4137 - val_loss: 2.0872 - val_accuracy: 0.3997\n",
      "Epoch 25/50\n",
      "1078651/1078651 [==============================] - 774s 718us/sample - loss: 2.0202 - accuracy: 0.4157 - val_loss: 2.0813 - val_accuracy: 0.4024\n",
      "Epoch 26/50\n",
      "1078651/1078651 [==============================] - 770s 713us/sample - loss: 2.0136 - accuracy: 0.4175 - val_loss: 2.0821 - val_accuracy: 0.4016\n",
      "Epoch 27/50\n",
      "1078651/1078651 [==============================] - 768s 712us/sample - loss: 2.0065 - accuracy: 0.4192 - val_loss: 2.0785 - val_accuracy: 0.4022\n",
      "Epoch 28/50\n",
      "1078651/1078651 [==============================] - 772s 716us/sample - loss: 2.0729 - accuracy: 0.4022 - val_loss: 2.1327 - val_accuracy: 0.3876\n",
      "Epoch 29/50\n",
      "1078651/1078651 [==============================] - 771s 715us/sample - loss: 2.0469 - accuracy: 0.4089 - val_loss: 2.0760 - val_accuracy: 0.4034\n",
      "Epoch 30/50\n",
      "1078651/1078651 [==============================] - 770s 714us/sample - loss: 1.9933 - accuracy: 0.4224 - val_loss: 2.0697 - val_accuracy: 0.4046\n",
      "Epoch 31/50\n",
      "1078651/1078651 [==============================] - 777s 720us/sample - loss: 1.9899 - accuracy: 0.4232 - val_loss: 2.0688 - val_accuracy: 0.4052\n",
      "Epoch 32/50\n",
      "1078651/1078651 [==============================] - 777s 721us/sample - loss: 1.9901 - accuracy: 0.4230 - val_loss: 2.0694 - val_accuracy: 0.4058\n",
      "Epoch 33/50\n",
      "1078651/1078651 [==============================] - 775s 718us/sample - loss: 1.9847 - accuracy: 0.4250 - val_loss: 2.0689 - val_accuracy: 0.4055\n"
     ]
    },
    {
     "data": {
      "text/plain": [
       "<tensorflow.python.keras.callbacks.History at 0x2b82cf63e08>"
      ]
     },
     "execution_count": 49,
     "metadata": {},
     "output_type": "execute_result"
    }
   ],
   "source": [
    "# define model\n",
    "model.fit(X_train,y_train,batch_size=256,\n",
    "          epochs=50,validation_data=[X_test,y_test],callbacks=[early_stop])"
   ]
  },
  {
   "cell_type": "markdown",
   "metadata": {},
   "source": [
    "---\n",
    "\n",
    "----"
   ]
  },
  {
   "cell_type": "markdown",
   "metadata": {},
   "source": [
    "## Saving the Model and Tokenizer"
   ]
  },
  {
   "cell_type": "code",
   "execution_count": 50,
   "metadata": {},
   "outputs": [],
   "source": [
    "from pickle import dump,load"
   ]
  },
  {
   "cell_type": "code",
   "execution_count": 51,
   "metadata": {
    "scrolled": true
   },
   "outputs": [],
   "source": [
    "# save the model to file\n",
    "model.save('text_generator.h5')\n",
    "# save the tokenizer\n",
    "dump(tokenizer, open('text_tokenizer', 'wb'))"
   ]
  },
  {
   "cell_type": "code",
   "execution_count": 57,
   "metadata": {},
   "outputs": [],
   "source": [
    "metrics = pd.DataFrame(model.history.history)"
   ]
  },
  {
   "cell_type": "code",
   "execution_count": 59,
   "metadata": {},
   "outputs": [
    {
     "data": {
      "text/plain": [
       "<matplotlib.axes._subplots.AxesSubplot at 0x2b839aa0748>"
      ]
     },
     "execution_count": 59,
     "metadata": {},
     "output_type": "execute_result"
    },
    {
     "data": {
      "image/png": "[encoded data removed]",
      "text/plain": [
       "<Figure size 432x288 with 1 Axes>"
      ]
     },
     "metadata": {
      "needs_background": "light"
     },
     "output_type": "display_data"
    }
   ],
   "source": [
    "metrics[['accuracy','val_accuracy']].plot()"
   ]
  },
  {
   "cell_type": "code",
   "execution_count": 60,
   "metadata": {},
   "outputs": [
    {
     "data": {
      "text/plain": [
       "<matplotlib.axes._subplots.AxesSubplot at 0x2b9c7f2a808>"
      ]
     },
     "execution_count": 60,
     "metadata": {},
     "output_type": "execute_result"
    },
    {
     "data": {
      "image/png": "[encoded data removed]",
      "text/plain": [
       "<Figure size 432x288 with 1 Axes>"
      ]
     },
     "metadata": {
      "needs_background": "light"
     },
     "output_type": "display_data"
    }
   ],
   "source": [
    "metrics[['loss','val_loss']].plot()"
   ]
  },
  {
   "cell_type": "markdown",
   "metadata": {},
   "source": [
    "# Generating New Text"
   ]
  },
  {
   "cell_type": "code",
   "execution_count": 53,
   "metadata": {},
   "outputs": [],
   "source": [
    "from random import randint\n",
    "from pickle import load\n",
    "from tensorflow.keras.models import load_model\n",
    "from tensorflow.keras.preprocessing.sequence import pad_sequences"
   ]
  },
  {
   "cell_type": "code",
   "execution_count": 93,
   "metadata": {},
   "outputs": [],
   "source": [
    "def generate_text(model, tokenizer, seq_len, seed_text, num_gen_words):\n",
    "    '''\n",
    "    INPUTS:\n",
    "    model : model that was trained on text data\n",
    "    tokenizer : tokenizer that was fit on text data\n",
    "    seq_len : length of training sequence\n",
    "    seed_text : raw string text to serve as the seed\n",
    "    num_gen_words : number of words to be generated by model\n",
    "    '''\n",
    "    \n",
    "    # Final Output\n",
    "    output_text = []\n",
    "    \n",
    "    # Intial Seed Sequence\n",
    "    input_text = seed_text\n",
    "    \n",
    "    # Create num_gen_words\n",
    "    for i in range(num_gen_words):\n",
    "        \n",
    "        # Take the input text string and encode it to a sequence\n",
    "        encoded_text = tokenizer.texts_to_sequences([input_text])[0]\n",
    "        \n",
    "        encoded_text = np.array(encoded_text)/55\n",
    "        \n",
    "        # Pad sequences to our trained rate (120 chars in the video)\n",
    "        pad_encoded = pad_sequences([encoded_text], maxlen=seq_len, truncating='pre')\n",
    "        \n",
    "        # Predict Class Probabilities for each char\n",
    "        pred_word_ind = model.predict_classes(pad_encoded, verbose=0)[0]\n",
    "        \n",
    "        # Grab word\n",
    "        pred_word = tokenizer.index_word[pred_word_ind] \n",
    "        \n",
    "        # Update the sequence of input text (shifting one over with the new word)\n",
    "        input_text += ' ' + pred_word\n",
    "        \n",
    "        output_text.append(pred_word)\n",
    "        \n",
    "    # Make it look like a sentence.\n",
    "    return ' '.join(output_text)"
   ]
  },
  {
   "cell_type": "markdown",
   "metadata": {},
   "source": [
    "### Grab a random seed sequence"
   ]
  },
  {
   "cell_type": "code",
   "execution_count": 84,
   "metadata": {},
   "outputs": [],
   "source": [
    "import random\n",
    "random.seed(101)"
   ]
  },
  {
   "cell_type": "code",
   "execution_count": 87,
   "metadata": {},
   "outputs": [
    {
     "data": {
      "text/plain": [
       "9"
      ]
     },
     "execution_count": 87,
     "metadata": {},
     "output_type": "execute_result"
    }
   ],
   "source": [
    "prediction.argmax()"
   ]
  },
  {
   "cell_type": "code",
   "execution_count": 88,
   "metadata": {},
   "outputs": [
    {
     "ename": "TypeError",
     "evalue": "'int' object is not iterable",
     "output_type": "error",
     "traceback": [
      "\u001b[1;31m---------------------------------------------------------------------------\u001b[0m",
      "\u001b[1;31mTypeError\u001b[0m                                 Traceback (most recent call last)",
      "\u001b[1;32m<ipython-input-88-fe68a9d4adb7>\u001b[0m in \u001b[0;36m<module>\u001b[1;34m\u001b[0m\n\u001b[1;32m----> 1\u001b[1;33m \u001b[0mtokenizer\u001b[0m\u001b[1;33m.\u001b[0m\u001b[0msequences_to_texts\u001b[0m\u001b[1;33m(\u001b[0m\u001b[1;33m[\u001b[0m\u001b[1;36m9\u001b[0m\u001b[1;33m]\u001b[0m\u001b[1;33m)\u001b[0m\u001b[1;33m\u001b[0m\u001b[1;33m\u001b[0m\u001b[0m\n\u001b[0m",
      "\u001b[1;32mc:\\users\\marcial\\.conda\\envs\\tf2gpu\\lib\\site-packages\\keras_preprocessing\\text.py\u001b[0m in \u001b[0;36msequences_to_texts\u001b[1;34m(self, sequences)\u001b[0m\n\u001b[0;32m    334\u001b[0m             \u001b[0mA\u001b[0m \u001b[0mlist\u001b[0m \u001b[0mof\u001b[0m \u001b[0mtexts\u001b[0m \u001b[1;33m(\u001b[0m\u001b[0mstrings\u001b[0m\u001b[1;33m)\u001b[0m\u001b[1;33m\u001b[0m\u001b[1;33m\u001b[0m\u001b[0m\n\u001b[0;32m    335\u001b[0m         \"\"\"\n\u001b[1;32m--> 336\u001b[1;33m         \u001b[1;32mreturn\u001b[0m \u001b[0mlist\u001b[0m\u001b[1;33m(\u001b[0m\u001b[0mself\u001b[0m\u001b[1;33m.\u001b[0m\u001b[0msequences_to_texts_generator\u001b[0m\u001b[1;33m(\u001b[0m\u001b[0msequences\u001b[0m\u001b[1;33m)\u001b[0m\u001b[1;33m)\u001b[0m\u001b[1;33m\u001b[0m\u001b[1;33m\u001b[0m\u001b[0m\n\u001b[0m\u001b[0;32m    337\u001b[0m \u001b[1;33m\u001b[0m\u001b[0m\n\u001b[0;32m    338\u001b[0m     \u001b[1;32mdef\u001b[0m \u001b[0msequences_to_texts_generator\u001b[0m\u001b[1;33m(\u001b[0m\u001b[0mself\u001b[0m\u001b[1;33m,\u001b[0m \u001b[0msequences\u001b[0m\u001b[1;33m)\u001b[0m\u001b[1;33m:\u001b[0m\u001b[1;33m\u001b[0m\u001b[1;33m\u001b[0m\u001b[0m\n",
      "\u001b[1;32mc:\\users\\marcial\\.conda\\envs\\tf2gpu\\lib\\site-packages\\keras_preprocessing\\text.py\u001b[0m in \u001b[0;36msequences_to_texts_generator\u001b[1;34m(self, sequences)\u001b[0m\n\u001b[0;32m    355\u001b[0m         \u001b[1;32mfor\u001b[0m \u001b[0mseq\u001b[0m \u001b[1;32min\u001b[0m \u001b[0msequences\u001b[0m\u001b[1;33m:\u001b[0m\u001b[1;33m\u001b[0m\u001b[1;33m\u001b[0m\u001b[0m\n\u001b[0;32m    356\u001b[0m             \u001b[0mvect\u001b[0m \u001b[1;33m=\u001b[0m \u001b[1;33m[\u001b[0m\u001b[1;33m]\u001b[0m\u001b[1;33m\u001b[0m\u001b[1;33m\u001b[0m\u001b[0m\n\u001b[1;32m--> 357\u001b[1;33m             \u001b[1;32mfor\u001b[0m \u001b[0mnum\u001b[0m \u001b[1;32min\u001b[0m \u001b[0mseq\u001b[0m\u001b[1;33m:\u001b[0m\u001b[1;33m\u001b[0m\u001b[1;33m\u001b[0m\u001b[0m\n\u001b[0m\u001b[0;32m    358\u001b[0m                 \u001b[0mword\u001b[0m \u001b[1;33m=\u001b[0m \u001b[0mself\u001b[0m\u001b[1;33m.\u001b[0m\u001b[0mindex_word\u001b[0m\u001b[1;33m.\u001b[0m\u001b[0mget\u001b[0m\u001b[1;33m(\u001b[0m\u001b[0mnum\u001b[0m\u001b[1;33m)\u001b[0m\u001b[1;33m\u001b[0m\u001b[1;33m\u001b[0m\u001b[0m\n\u001b[0;32m    359\u001b[0m                 \u001b[1;32mif\u001b[0m \u001b[0mword\u001b[0m \u001b[1;32mis\u001b[0m \u001b[1;32mnot\u001b[0m \u001b[1;32mNone\u001b[0m\u001b[1;33m:\u001b[0m\u001b[1;33m\u001b[0m\u001b[1;33m\u001b[0m\u001b[0m\n",
      "\u001b[1;31mTypeError\u001b[0m: 'int' object is not iterable"
     ]
    }
   ],
   "source": [
    "tokenizer.sequences_to_texts([9])"
   ]
  },
  {
   "cell_type": "code",
   "execution_count": 114,
   "metadata": {},
   "outputs": [],
   "source": [
    "start = np.random.randint(0, len(X)-1)\n",
    "pattern = X[start]\n",
    "pattern = [int(x[0]*55) for x in pattern.tolist()]\n",
    "# print \"Seed:\"\n",
    "# print \"\\\"\", ''.join([int_to_char[value] for value in pattern]), \"\\\"\"\n",
    "# generate characters\n",
    "for i in range(1000):\n",
    "    x = np.reshape(pattern, (1, len(pattern), 1))\n",
    "    x = x / float(num_chars)\n",
    "    prediction = model.predict(x, verbose=0)\n",
    "    index = np.argmax(prediction)\n",
    "    result = tokenizer.sequences_to_texts([[index]])\n",
    "# absresult = int_to_char[index]\n",
    "#     seq_in = [tokenizer.sequences_to_texts([value]) for value in pattern]\n",
    "#sys.stdout.write(result)\n",
    "    pattern.append(index)\n",
    "    pattern = pattern[1:len(pattern)]\n",
    "# print \"\\nDone.\""
   ]
  },
  {
   "cell_type": "code",
   "execution_count": 118,
   "metadata": {},
   "outputs": [
    {
     "data": {
      "text/plain": [
       "['&']"
      ]
     },
     "execution_count": 118,
     "metadata": {},
     "output_type": "execute_result"
    }
   ],
   "source": [
    "result"
   ]
  },
  {
   "cell_type": "code",
   "execution_count": 122,
   "metadata": {},
   "outputs": [],
   "source": [
    "# start = np.random.randint(0, len(X)-1)\n",
    "# pattern = X[start]\n",
    "# pattern = [int(x[0]*55) for x in pattern.tolist()]\n",
    "# pattern"
   ]
  },
  {
   "cell_type": "code",
   "execution_count": 124,
   "metadata": {},
   "outputs": [
    {
     "data": {
      "text/plain": [
       "['* t h $ h r & & h r & $ h & & & $ & & h & [ r & * & & & $ * 7 h * & & * * & h $ h * h & & * & r h l h * x & h 8 [ ] & o h & h * ] _ & r & & $ & r x $ _ & & & & ] $ & & x & & t & & $ & _ 8 $ & * $ x h \\n ] * * & & * * h & & & r h $ & $ ] $ &']"
      ]
     },
     "execution_count": 124,
     "metadata": {},
     "output_type": "execute_result"
    }
   ],
   "source": [
    "tokenizer.sequences_to_texts([www])"
   ]
  },
  {
   "cell_type": "code",
   "execution_count": 67,
   "metadata": {},
   "outputs": [
    {
     "ename": "NameError",
     "evalue": "name 'text_sequences' is not defined",
     "output_type": "error",
     "traceback": [
      "\u001b[1;31m---------------------------------------------------------------------------\u001b[0m",
      "\u001b[1;31mNameError\u001b[0m                                 Traceback (most recent call last)",
      "\u001b[1;32m<ipython-input-67-a13b72f2fc59>\u001b[0m in \u001b[0;36m<module>\u001b[1;34m\u001b[0m\n\u001b[0;32m      1\u001b[0m \u001b[1;32mimport\u001b[0m \u001b[0mrandom\u001b[0m\u001b[1;33m\u001b[0m\u001b[1;33m\u001b[0m\u001b[0m\n\u001b[0;32m      2\u001b[0m \u001b[0mrandom\u001b[0m\u001b[1;33m.\u001b[0m\u001b[0mseed\u001b[0m\u001b[1;33m(\u001b[0m\u001b[1;36m101\u001b[0m\u001b[1;33m)\u001b[0m\u001b[1;33m\u001b[0m\u001b[1;33m\u001b[0m\u001b[0m\n\u001b[1;32m----> 3\u001b[1;33m \u001b[0mrandom_pick\u001b[0m \u001b[1;33m=\u001b[0m \u001b[0mrandom\u001b[0m\u001b[1;33m.\u001b[0m\u001b[0mrandint\u001b[0m\u001b[1;33m(\u001b[0m\u001b[1;36m0\u001b[0m\u001b[1;33m,\u001b[0m\u001b[0mlen\u001b[0m\u001b[1;33m(\u001b[0m\u001b[0mtext_sequences\u001b[0m\u001b[1;33m)\u001b[0m\u001b[1;33m)\u001b[0m\u001b[1;33m\u001b[0m\u001b[1;33m\u001b[0m\u001b[0m\n\u001b[0m",
      "\u001b[1;31mNameError\u001b[0m: name 'text_sequences' is not defined"
     ]
    }
   ],
   "source": [
    "random_pick = random.randint(0,len(text_sequences))"
   ]
  },
  {
   "cell_type": "code",
   "execution_count": 68,
   "metadata": {},
   "outputs": [
    {
     "ename": "NameError",
     "evalue": "name 'text_sequences' is not defined",
     "output_type": "error",
     "traceback": [
      "\u001b[1;31m---------------------------------------------------------------------------\u001b[0m",
      "\u001b[1;31mNameError\u001b[0m                                 Traceback (most recent call last)",
      "\u001b[1;32m<ipython-input-68-7c2136c34d21>\u001b[0m in \u001b[0;36m<module>\u001b[1;34m\u001b[0m\n\u001b[1;32m----> 1\u001b[1;33m \u001b[0mrandom_seed_text\u001b[0m \u001b[1;33m=\u001b[0m \u001b[0mtext_sequences\u001b[0m\u001b[1;33m[\u001b[0m\u001b[0mrandom_pick\u001b[0m\u001b[1;33m]\u001b[0m\u001b[1;33m\u001b[0m\u001b[1;33m\u001b[0m\u001b[0m\n\u001b[0m",
      "\u001b[1;31mNameError\u001b[0m: name 'text_sequences' is not defined"
     ]
    }
   ],
   "source": [
    "random_seed_text = text_sequences[random_pick]"
   ]
  },
  {
   "cell_type": "code",
   "execution_count": 69,
   "metadata": {},
   "outputs": [
    {
     "ename": "NameError",
     "evalue": "name 'random_seed_text' is not defined",
     "output_type": "error",
     "traceback": [
      "\u001b[1;31m---------------------------------------------------------------------------\u001b[0m",
      "\u001b[1;31mNameError\u001b[0m                                 Traceback (most recent call last)",
      "\u001b[1;32m<ipython-input-69-2389f7dab62a>\u001b[0m in \u001b[0;36m<module>\u001b[1;34m\u001b[0m\n\u001b[1;32m----> 1\u001b[1;33m \u001b[0mrandom_seed_text\u001b[0m\u001b[1;33m\u001b[0m\u001b[1;33m\u001b[0m\u001b[0m\n\u001b[0m",
      "\u001b[1;31mNameError\u001b[0m: name 'random_seed_text' is not defined"
     ]
    }
   ],
   "source": [
    "random_seed_text"
   ]
  },
  {
   "cell_type": "code",
   "execution_count": 70,
   "metadata": {},
   "outputs": [
    {
     "ename": "NameError",
     "evalue": "name 'random_seed_text' is not defined",
     "output_type": "error",
     "traceback": [
      "\u001b[1;31m---------------------------------------------------------------------------\u001b[0m",
      "\u001b[1;31mNameError\u001b[0m                                 Traceback (most recent call last)",
      "\u001b[1;32m<ipython-input-70-be7d15096e79>\u001b[0m in \u001b[0;36m<module>\u001b[1;34m\u001b[0m\n\u001b[1;32m----> 1\u001b[1;33m \u001b[0mseed_text\u001b[0m \u001b[1;33m=\u001b[0m \u001b[1;34m' '\u001b[0m\u001b[1;33m.\u001b[0m\u001b[0mjoin\u001b[0m\u001b[1;33m(\u001b[0m\u001b[0mrandom_seed_text\u001b[0m\u001b[1;33m)\u001b[0m\u001b[1;33m\u001b[0m\u001b[1;33m\u001b[0m\u001b[0m\n\u001b[0m",
      "\u001b[1;31mNameError\u001b[0m: name 'random_seed_text' is not defined"
     ]
    }
   ],
   "source": [
    "seed_text = ' '.join(random_seed_text)"
   ]
  },
  {
   "cell_type": "code",
   "execution_count": 71,
   "metadata": {},
   "outputs": [],
   "source": [
    "seed_text = \"hello where are you going today\""
   ]
  },
  {
   "cell_type": "code",
   "execution_count": 72,
   "metadata": {},
   "outputs": [
    {
     "ename": "ValueError",
     "evalue": "Error when checking input: expected lstm_input to have 3 dimensions, but got array with shape (1, 120)",
     "output_type": "error",
     "traceback": [
      "\u001b[1;31m---------------------------------------------------------------------------\u001b[0m",
      "\u001b[1;31mValueError\u001b[0m                                Traceback (most recent call last)",
      "\u001b[1;32m<ipython-input-72-47020eb9b086>\u001b[0m in \u001b[0;36m<module>\u001b[1;34m\u001b[0m\n\u001b[1;32m----> 1\u001b[1;33m \u001b[0mgenerate_text\u001b[0m\u001b[1;33m(\u001b[0m\u001b[0mmodel\u001b[0m\u001b[1;33m,\u001b[0m\u001b[0mtokenizer\u001b[0m\u001b[1;33m,\u001b[0m\u001b[0mseq_len\u001b[0m\u001b[1;33m,\u001b[0m\u001b[0mseed_text\u001b[0m\u001b[1;33m=\u001b[0m\u001b[0mseed_text\u001b[0m\u001b[1;33m,\u001b[0m\u001b[0mnum_gen_words\u001b[0m\u001b[1;33m=\u001b[0m\u001b[1;36m50\u001b[0m\u001b[1;33m)\u001b[0m\u001b[1;33m\u001b[0m\u001b[1;33m\u001b[0m\u001b[0m\n\u001b[0m",
      "\u001b[1;32m<ipython-input-66-99f7566f3d83>\u001b[0m in \u001b[0;36mgenerate_text\u001b[1;34m(model, tokenizer, seq_len, seed_text, num_gen_words)\u001b[0m\n\u001b[0;32m     27\u001b[0m \u001b[1;33m\u001b[0m\u001b[0m\n\u001b[0;32m     28\u001b[0m         \u001b[1;31m# Predict Class Probabilities for each char\u001b[0m\u001b[1;33m\u001b[0m\u001b[1;33m\u001b[0m\u001b[1;33m\u001b[0m\u001b[0m\n\u001b[1;32m---> 29\u001b[1;33m         \u001b[0mpred_word_ind\u001b[0m \u001b[1;33m=\u001b[0m \u001b[0mmodel\u001b[0m\u001b[1;33m.\u001b[0m\u001b[0mpredict_classes\u001b[0m\u001b[1;33m(\u001b[0m\u001b[0mpad_encoded\u001b[0m\u001b[1;33m,\u001b[0m \u001b[0mverbose\u001b[0m\u001b[1;33m=\u001b[0m\u001b[1;36m0\u001b[0m\u001b[1;33m)\u001b[0m\u001b[1;33m[\u001b[0m\u001b[1;36m0\u001b[0m\u001b[1;33m]\u001b[0m\u001b[1;33m\u001b[0m\u001b[1;33m\u001b[0m\u001b[0m\n\u001b[0m\u001b[0;32m     30\u001b[0m \u001b[1;33m\u001b[0m\u001b[0m\n\u001b[0;32m     31\u001b[0m         \u001b[1;31m# Grab word\u001b[0m\u001b[1;33m\u001b[0m\u001b[1;33m\u001b[0m\u001b[1;33m\u001b[0m\u001b[0m\n",
      "\u001b[1;32mc:\\users\\marcial\\.conda\\envs\\tf2gpu\\lib\\site-packages\\tensorflow_core\\python\\keras\\engine\\sequential.py\u001b[0m in \u001b[0;36mpredict_classes\u001b[1;34m(self, x, batch_size, verbose)\u001b[0m\n\u001b[0;32m    325\u001b[0m         \u001b[0mA\u001b[0m \u001b[0mnumpy\u001b[0m \u001b[0marray\u001b[0m \u001b[0mof\u001b[0m \u001b[1;32mclass\u001b[0m \u001b[0mpredictions\u001b[0m\u001b[1;33m.\u001b[0m\u001b[1;33m\u001b[0m\u001b[1;33m\u001b[0m\u001b[0m\n\u001b[0;32m    326\u001b[0m     \"\"\"\n\u001b[1;32m--> 327\u001b[1;33m     \u001b[0mproba\u001b[0m \u001b[1;33m=\u001b[0m \u001b[0mself\u001b[0m\u001b[1;33m.\u001b[0m\u001b[0mpredict\u001b[0m\u001b[1;33m(\u001b[0m\u001b[0mx\u001b[0m\u001b[1;33m,\u001b[0m \u001b[0mbatch_size\u001b[0m\u001b[1;33m=\u001b[0m\u001b[0mbatch_size\u001b[0m\u001b[1;33m,\u001b[0m \u001b[0mverbose\u001b[0m\u001b[1;33m=\u001b[0m\u001b[0mverbose\u001b[0m\u001b[1;33m)\u001b[0m\u001b[1;33m\u001b[0m\u001b[1;33m\u001b[0m\u001b[0m\n\u001b[0m\u001b[0;32m    328\u001b[0m     \u001b[1;32mif\u001b[0m \u001b[0mproba\u001b[0m\u001b[1;33m.\u001b[0m\u001b[0mshape\u001b[0m\u001b[1;33m[\u001b[0m\u001b[1;33m-\u001b[0m\u001b[1;36m1\u001b[0m\u001b[1;33m]\u001b[0m \u001b[1;33m>\u001b[0m \u001b[1;36m1\u001b[0m\u001b[1;33m:\u001b[0m\u001b[1;33m\u001b[0m\u001b[1;33m\u001b[0m\u001b[0m\n\u001b[0;32m    329\u001b[0m       \u001b[1;32mreturn\u001b[0m \u001b[0mproba\u001b[0m\u001b[1;33m.\u001b[0m\u001b[0margmax\u001b[0m\u001b[1;33m(\u001b[0m\u001b[0maxis\u001b[0m\u001b[1;33m=\u001b[0m\u001b[1;33m-\u001b[0m\u001b[1;36m1\u001b[0m\u001b[1;33m)\u001b[0m\u001b[1;33m\u001b[0m\u001b[1;33m\u001b[0m\u001b[0m\n",
      "\u001b[1;32mc:\\users\\marcial\\.conda\\envs\\tf2gpu\\lib\\site-packages\\tensorflow_core\\python\\keras\\engine\\training.py\u001b[0m in \u001b[0;36mpredict\u001b[1;34m(self, x, batch_size, verbose, steps, callbacks, max_queue_size, workers, use_multiprocessing)\u001b[0m\n\u001b[0;32m    907\u001b[0m         \u001b[0mmax_queue_size\u001b[0m\u001b[1;33m=\u001b[0m\u001b[0mmax_queue_size\u001b[0m\u001b[1;33m,\u001b[0m\u001b[1;33m\u001b[0m\u001b[1;33m\u001b[0m\u001b[0m\n\u001b[0;32m    908\u001b[0m         \u001b[0mworkers\u001b[0m\u001b[1;33m=\u001b[0m\u001b[0mworkers\u001b[0m\u001b[1;33m,\u001b[0m\u001b[1;33m\u001b[0m\u001b[1;33m\u001b[0m\u001b[0m\n\u001b[1;32m--> 909\u001b[1;33m         use_multiprocessing=use_multiprocessing)\n\u001b[0m\u001b[0;32m    910\u001b[0m \u001b[1;33m\u001b[0m\u001b[0m\n\u001b[0;32m    911\u001b[0m   \u001b[1;32mdef\u001b[0m \u001b[0mreset_metrics\u001b[0m\u001b[1;33m(\u001b[0m\u001b[0mself\u001b[0m\u001b[1;33m)\u001b[0m\u001b[1;33m:\u001b[0m\u001b[1;33m\u001b[0m\u001b[1;33m\u001b[0m\u001b[0m\n",
      "\u001b[1;32mc:\\users\\marcial\\.conda\\envs\\tf2gpu\\lib\\site-packages\\tensorflow_core\\python\\keras\\engine\\training_arrays.py\u001b[0m in \u001b[0;36mpredict\u001b[1;34m(self, model, x, batch_size, verbose, steps, callbacks, **kwargs)\u001b[0m\n\u001b[0;32m    713\u001b[0m     \u001b[0mbatch_size\u001b[0m \u001b[1;33m=\u001b[0m \u001b[0mmodel\u001b[0m\u001b[1;33m.\u001b[0m\u001b[0m_validate_or_infer_batch_size\u001b[0m\u001b[1;33m(\u001b[0m\u001b[0mbatch_size\u001b[0m\u001b[1;33m,\u001b[0m \u001b[0msteps\u001b[0m\u001b[1;33m,\u001b[0m \u001b[0mx\u001b[0m\u001b[1;33m)\u001b[0m\u001b[1;33m\u001b[0m\u001b[1;33m\u001b[0m\u001b[0m\n\u001b[0;32m    714\u001b[0m     x, _, _ = model._standardize_user_data(\n\u001b[1;32m--> 715\u001b[1;33m         x, check_steps=True, steps_name='steps', steps=steps)\n\u001b[0m\u001b[0;32m    716\u001b[0m     return predict_loop(\n\u001b[0;32m    717\u001b[0m         \u001b[0mmodel\u001b[0m\u001b[1;33m,\u001b[0m\u001b[1;33m\u001b[0m\u001b[1;33m\u001b[0m\u001b[0m\n",
      "\u001b[1;32mc:\\users\\marcial\\.conda\\envs\\tf2gpu\\lib\\site-packages\\tensorflow_core\\python\\keras\\engine\\training.py\u001b[0m in \u001b[0;36m_standardize_user_data\u001b[1;34m(self, x, y, sample_weight, class_weight, batch_size, check_steps, steps_name, steps, validation_split, shuffle, extract_tensors_from_dataset)\u001b[0m\n\u001b[0;32m   2470\u001b[0m           \u001b[0mfeed_input_shapes\u001b[0m\u001b[1;33m,\u001b[0m\u001b[1;33m\u001b[0m\u001b[1;33m\u001b[0m\u001b[0m\n\u001b[0;32m   2471\u001b[0m           \u001b[0mcheck_batch_axis\u001b[0m\u001b[1;33m=\u001b[0m\u001b[1;32mFalse\u001b[0m\u001b[1;33m,\u001b[0m  \u001b[1;31m# Don't enforce the batch size.\u001b[0m\u001b[1;33m\u001b[0m\u001b[1;33m\u001b[0m\u001b[0m\n\u001b[1;32m-> 2472\u001b[1;33m           exception_prefix='input')\n\u001b[0m\u001b[0;32m   2473\u001b[0m \u001b[1;33m\u001b[0m\u001b[0m\n\u001b[0;32m   2474\u001b[0m     \u001b[1;31m# Get typespecs for the input data and sanitize it if necessary.\u001b[0m\u001b[1;33m\u001b[0m\u001b[1;33m\u001b[0m\u001b[1;33m\u001b[0m\u001b[0m\n",
      "\u001b[1;32mc:\\users\\marcial\\.conda\\envs\\tf2gpu\\lib\\site-packages\\tensorflow_core\\python\\keras\\engine\\training_utils.py\u001b[0m in \u001b[0;36mstandardize_input_data\u001b[1;34m(data, names, shapes, check_batch_axis, exception_prefix)\u001b[0m\n\u001b[0;32m    563\u001b[0m                            \u001b[1;34m': expected '\u001b[0m \u001b[1;33m+\u001b[0m \u001b[0mnames\u001b[0m\u001b[1;33m[\u001b[0m\u001b[0mi\u001b[0m\u001b[1;33m]\u001b[0m \u001b[1;33m+\u001b[0m \u001b[1;34m' to have '\u001b[0m \u001b[1;33m+\u001b[0m\u001b[1;33m\u001b[0m\u001b[1;33m\u001b[0m\u001b[0m\n\u001b[0;32m    564\u001b[0m                            \u001b[0mstr\u001b[0m\u001b[1;33m(\u001b[0m\u001b[0mlen\u001b[0m\u001b[1;33m(\u001b[0m\u001b[0mshape\u001b[0m\u001b[1;33m)\u001b[0m\u001b[1;33m)\u001b[0m \u001b[1;33m+\u001b[0m \u001b[1;34m' dimensions, but got array '\u001b[0m\u001b[1;33m\u001b[0m\u001b[1;33m\u001b[0m\u001b[0m\n\u001b[1;32m--> 565\u001b[1;33m                            'with shape ' + str(data_shape))\n\u001b[0m\u001b[0;32m    566\u001b[0m         \u001b[1;32mif\u001b[0m \u001b[1;32mnot\u001b[0m \u001b[0mcheck_batch_axis\u001b[0m\u001b[1;33m:\u001b[0m\u001b[1;33m\u001b[0m\u001b[1;33m\u001b[0m\u001b[0m\n\u001b[0;32m    567\u001b[0m           \u001b[0mdata_shape\u001b[0m \u001b[1;33m=\u001b[0m \u001b[0mdata_shape\u001b[0m\u001b[1;33m[\u001b[0m\u001b[1;36m1\u001b[0m\u001b[1;33m:\u001b[0m\u001b[1;33m]\u001b[0m\u001b[1;33m\u001b[0m\u001b[1;33m\u001b[0m\u001b[0m\n",
      "\u001b[1;31mValueError\u001b[0m: Error when checking input: expected lstm_input to have 3 dimensions, but got array with shape (1, 120)"
     ]
    }
   ],
   "source": [
    "generate_text(model,tokenizer,seq_len,seed_text=seed_text,num_gen_words=50)"
   ]
  },
  {
   "cell_type": "markdown",
   "metadata": {},
   "source": [
    "### Exploring Generated Sequence"
   ]
  },
  {
   "cell_type": "code",
   "execution_count": null,
   "metadata": {
    "collapsed": true
   },
   "outputs": [],
   "source": [
    "full_text = read_file('moby_dick_four_chapters.txt')"
   ]
  },
  {
   "cell_type": "code",
   "execution_count": null,
   "metadata": {
    "collapsed": true
   },
   "outputs": [],
   "source": [
    "for i,word in enumerate(full_text.split()):\n",
    "    if word == 'inkling':\n",
    "        print(' '.join(full_text.split()[i-20:i+20]))\n",
    "        print('\\n')"
   ]
  },
  {
   "cell_type": "markdown",
   "metadata": {},
   "source": [
    "# Great Job!"
   ]
  }
 ],
 "metadata": {
  "kernelspec": {
   "display_name": "Python 3",
   "language": "python",
   "name": "python3"
  }
 },
 "nbformat": 4,
 "nbformat_minor": 2
}
