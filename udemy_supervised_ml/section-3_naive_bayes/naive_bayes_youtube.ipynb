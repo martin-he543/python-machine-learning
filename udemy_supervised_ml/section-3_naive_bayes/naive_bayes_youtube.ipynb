{
 "cells": [
  {
   "cell_type": "markdown",
   "id": "a1cbf59e",
   "metadata": {},
   "source": [
    "# Multinomial Naïve Bayes : YouTube Dataset"
   ]
  },
  {
   "cell_type": "code",
   "execution_count": 24,
   "id": "c8aadac2",
   "metadata": {},
   "outputs": [],
   "source": [
    "import pandas as pd\n",
    "import glob\n",
    "from sklearn.feature_extraction.text import CountVectorizer"
   ]
  },
  {
   "cell_type": "code",
   "execution_count": 11,
   "id": "2ca872d1",
   "metadata": {},
   "outputs": [
    {
     "data": {
      "text/plain": [
       "['youtube-dataset/Youtube03.csv',\n",
       " 'youtube-dataset/Youtube02.csv',\n",
       " 'youtube-dataset/Youtube01.csv',\n",
       " 'youtube-dataset/Youtube05.csv',\n",
       " 'youtube-dataset/Youtube04.csv']"
      ]
     },
     "execution_count": 11,
     "metadata": {},
     "output_type": "execute_result"
    }
   ],
   "source": [
    "files = glob.glob('youtube-dataset/*.csv')\n",
    "files"
   ]
  },
  {
   "cell_type": "code",
   "execution_count": 14,
   "id": "e5d4eddd",
   "metadata": {},
   "outputs": [],
   "source": [
    "all_df = []\n",
    "for file in files:\n",
    "    df = pd.read_csv(file).drop(['COMMENT_ID','AUTHOR','DATE'], axis=1)\n",
    "    all_df.append(df)"
   ]
  },
  {
   "cell_type": "code",
   "execution_count": 15,
   "id": "953daa5b",
   "metadata": {},
   "outputs": [
    {
     "data": {
      "application/vnd.microsoft.datawrangler.viewer.v0+json": {
       "columns": [
        {
         "name": "index",
         "rawType": "int64",
         "type": "integer"
        },
        {
         "name": "CONTENT",
         "rawType": "object",
         "type": "string"
        },
        {
         "name": "CLASS",
         "rawType": "int64",
         "type": "integer"
        }
       ],
       "ref": "648bec11-9c98-4b31-8817-b9e576f1d480",
       "rows": [
        [
         "0",
         "<a href=\"http://www.youtube.com/watch?v=KQ6zr6kCPj8&amp;t=2m19s\">2:19</a> best part﻿",
         "0"
        ],
        [
         "1",
         "wierd but funny﻿",
         "0"
        ],
        [
         "2",
         "Hey guys, I&#39;m a human.<br /><br /><br />But I don&#39;t want to be a human, I want to be a sexy fucking giraffe.<br /><br /><br />I already have the money for the surgery to elongate my spinal core, the surgery to change my skin pigment, and everything else! Like this post so others can root me on in my dream!!!!<br /><br /><br />Im fucking with you, I make music, check out my first song! <a rel=\"nofollow\" class=\"ot-hashtag\" href=\"https://plus.google.com/s/%23giraffebruuh\">#giraffebruuh</a>﻿",
         "1"
        ],
        [
         "3",
         "Party Rock....lol...who wants to shuffle!!!﻿",
         "0"
        ],
        [
         "4",
         "Party rock﻿",
         "0"
        ],
        [
         "5",
         "Shuffle﻿",
         "0"
        ],
        [
         "6",
         "Omg﻿",
         "0"
        ],
        [
         "7",
         "This song is just really fun ﻿",
         "0"
        ],
        [
         "8",
         "Awsome<br />﻿",
         "0"
        ],
        [
         "9",
         "wow!!!!!! increible song!!!!!!!!!﻿",
         "0"
        ],
        [
         "10",
         "I love this song so much﻿",
         "0"
        ],
        [
         "11",
         "2015 LIKEEE﻿",
         "0"
        ],
        [
         "12",
         "I miss when people dressed like this.﻿",
         "0"
        ],
        [
         "13",
         "2011- the last year of decent music.﻿",
         "0"
        ],
        [
         "14",
         "Best song ever!!!!﻿",
         "0"
        ],
        [
         "15",
         "super nice, love musique﻿",
         "0"
        ],
        [
         "16",
         "wowwwwwwwwwwwwwwwwwwwwwwwwwwwwww﻿",
         "0"
        ],
        [
         "17",
         "PARTY ROCK (8) ~﻿",
         "0"
        ],
        [
         "18",
         "Thumbs up if you watched it in 2011﻿",
         "0"
        ],
        [
         "19",
         "this is increidebl﻿",
         "0"
        ],
        [
         "20",
         "LMFAO!!!!!!!!﻿",
         "0"
        ],
        [
         "21",
         "just :( superr!!!﻿",
         "0"
        ],
        [
         "22",
         "2015!! LLIKEE!!﻿",
         "0"
        ],
        [
         "23",
         "Yeah! Let&#39;s start the party!﻿",
         "0"
        ],
        [
         "24",
         "This awesome song needed 4 years to reach to 800 mil views while Tango Switch bitch needed 1 year. its not fairrrrrrr﻿",
         "0"
        ],
        [
         "25",
         "NICE GIRL :D﻿",
         "0"
        ],
        [
         "26",
         "I remember back when this was so popular everyone on our school was shuffling it was crazy﻿",
         "0"
        ],
        [
         "27",
         "LMFAO!﻿",
         "0"
        ],
        [
         "28",
         "Super awesome video<br />﻿",
         "0"
        ],
        [
         "29",
         "JUST DANCE 3 😂😂😂﻿",
         "0"
        ],
        [
         "30",
         "This Will Always Be My Favorite Song<br />But My Favorite Part Is <a href=\"http://www.youtube.com/watch?v=KQ6zr6kCPj8&amp;t=3m40s\">3:40</a>-<a href=\"http://www.youtube.com/watch?v=KQ6zr6kCPj8&amp;t=4m11s\">4:11</a> In The Video ﻿",
         "0"
        ],
        [
         "31",
         "Party Rock<br />﻿",
         "0"
        ],
        [
         "32",
         "LMFAO - Party Rock Anthem ft. Lauren Bennett, Goo…: <a href=\"https://youtu.be/KQ6zr6kCPj8\">https://youtu.be/KQ6zr6kCPj8</a>     <br />BOX MAN GOT SOME MOVES! :D HE MAKES MEH SMILE﻿",
         "0"
        ],
        [
         "33",
         "This the best song i ever hire<br />﻿",
         "0"
        ],
        [
         "34",
         "Its funny that Mahogany is there lmao, I actually didn&#39;t know that her brother and uncle are part of LMFAO﻿",
         "0"
        ],
        [
         "35",
         "Party rock anthem is love,party rock anthem is life﻿",
         "0"
        ],
        [
         "36",
         "Stop,is a very TOP 1﻿",
         "0"
        ],
        [
         "37",
         "Ahhh back when my life didn&#39;t suck...﻿",
         "0"
        ],
        [
         "38",
         "Party rock! XD﻿",
         "0"
        ],
        [
         "39",
         "CUTE  :)﻿",
         "0"
        ],
        [
         "40",
         "LMFAO best songs ever!﻿",
         "0"
        ],
        [
         "41",
         "I fuckin love this song!<br /><br /><br />After, I&#39;m sexy and I know it ﻿",
         "0"
        ],
        [
         "42",
         "they Shuffle hard that they made an Earthquake in Nepal﻿",
         "0"
        ],
        [
         "43",
         "Nice﻿",
         "0"
        ],
        [
         "44",
         "still.. this reminds me of 1 years back when i was do shuffle everyday﻿",
         "0"
        ],
        [
         "45",
         "Love this song makes me wanna dance! ﻿",
         "0"
        ],
        [
         "46",
         "that time in 2011 where this shirt was cool﻿",
         "0"
        ],
        [
         "47",
         "Love this video and the song of course﻿",
         "0"
        ],
        [
         "48",
         "Check out this video on YouTube:﻿",
         "1"
        ],
        [
         "49",
         "Very Nice !!!<br />Yeah Fucking.﻿",
         "0"
        ]
       ],
       "shape": {
        "columns": 2,
        "rows": 438
       }
      },
      "text/html": [
       "<div>\n",
       "<style scoped>\n",
       "    .dataframe tbody tr th:only-of-type {\n",
       "        vertical-align: middle;\n",
       "    }\n",
       "\n",
       "    .dataframe tbody tr th {\n",
       "        vertical-align: top;\n",
       "    }\n",
       "\n",
       "    .dataframe thead th {\n",
       "        text-align: right;\n",
       "    }\n",
       "</style>\n",
       "<table border=\"1\" class=\"dataframe\">\n",
       "  <thead>\n",
       "    <tr style=\"text-align: right;\">\n",
       "      <th></th>\n",
       "      <th>CONTENT</th>\n",
       "      <th>CLASS</th>\n",
       "    </tr>\n",
       "  </thead>\n",
       "  <tbody>\n",
       "    <tr>\n",
       "      <th>0</th>\n",
       "      <td>&lt;a href=\"http://www.youtube.com/watch?v=KQ6zr6...</td>\n",
       "      <td>0</td>\n",
       "    </tr>\n",
       "    <tr>\n",
       "      <th>1</th>\n",
       "      <td>wierd but funny﻿</td>\n",
       "      <td>0</td>\n",
       "    </tr>\n",
       "    <tr>\n",
       "      <th>2</th>\n",
       "      <td>Hey guys, I&amp;#39;m a human.&lt;br /&gt;&lt;br /&gt;&lt;br /&gt;Bu...</td>\n",
       "      <td>1</td>\n",
       "    </tr>\n",
       "    <tr>\n",
       "      <th>3</th>\n",
       "      <td>Party Rock....lol...who wants to shuffle!!!﻿</td>\n",
       "      <td>0</td>\n",
       "    </tr>\n",
       "    <tr>\n",
       "      <th>4</th>\n",
       "      <td>Party rock﻿</td>\n",
       "      <td>0</td>\n",
       "    </tr>\n",
       "    <tr>\n",
       "      <th>...</th>\n",
       "      <td>...</td>\n",
       "      <td>...</td>\n",
       "    </tr>\n",
       "    <tr>\n",
       "      <th>433</th>\n",
       "      <td>Like this comment for no reason﻿</td>\n",
       "      <td>1</td>\n",
       "    </tr>\n",
       "    <tr>\n",
       "      <th>434</th>\n",
       "      <td>love this song﻿</td>\n",
       "      <td>0</td>\n",
       "    </tr>\n",
       "    <tr>\n",
       "      <th>435</th>\n",
       "      <td>this song is awesome. these guys are the best....</td>\n",
       "      <td>1</td>\n",
       "    </tr>\n",
       "    <tr>\n",
       "      <th>436</th>\n",
       "      <td>HOW MANY THUMBS UP FOR LOUIS SAVING THE DAY!?!?﻿</td>\n",
       "      <td>1</td>\n",
       "    </tr>\n",
       "    <tr>\n",
       "      <th>437</th>\n",
       "      <td>NICE :3﻿</td>\n",
       "      <td>0</td>\n",
       "    </tr>\n",
       "  </tbody>\n",
       "</table>\n",
       "<p>438 rows × 2 columns</p>\n",
       "</div>"
      ],
      "text/plain": [
       "                                               CONTENT  CLASS\n",
       "0    <a href=\"http://www.youtube.com/watch?v=KQ6zr6...      0\n",
       "1                                     wierd but funny﻿      0\n",
       "2    Hey guys, I&#39;m a human.<br /><br /><br />Bu...      1\n",
       "3         Party Rock....lol...who wants to shuffle!!!﻿      0\n",
       "4                                          Party rock﻿      0\n",
       "..                                                 ...    ...\n",
       "433                   Like this comment for no reason﻿      1\n",
       "434                                    love this song﻿      0\n",
       "435  this song is awesome. these guys are the best....      1\n",
       "436   HOW MANY THUMBS UP FOR LOUIS SAVING THE DAY!?!?﻿      1\n",
       "437                                           NICE :3﻿      0\n",
       "\n",
       "[438 rows x 2 columns]"
      ]
     },
     "execution_count": 15,
     "metadata": {},
     "output_type": "execute_result"
    }
   ],
   "source": [
    "all_df[0]"
   ]
  },
  {
   "cell_type": "code",
   "execution_count": 21,
   "id": "e3f5ec11",
   "metadata": {},
   "outputs": [],
   "source": [
    "data = pd.concat(all_df, axis = 0, ignore_index = True)"
   ]
  },
  {
   "cell_type": "code",
   "execution_count": 23,
   "id": "eda91e64",
   "metadata": {},
   "outputs": [
    {
     "data": {
      "application/vnd.microsoft.datawrangler.viewer.v0+json": {
       "columns": [
        {
         "name": "CLASS",
         "rawType": "int64",
         "type": "integer"
        },
        {
         "name": "count",
         "rawType": "int64",
         "type": "integer"
        }
       ],
       "ref": "d4b21c29-752c-4a57-83fd-236ecead68ab",
       "rows": [
        [
         "1",
         "1004"
        ],
        [
         "0",
         "951"
        ]
       ],
       "shape": {
        "columns": 1,
        "rows": 2
       }
      },
      "text/plain": [
       "CLASS\n",
       "1    1004\n",
       "0     951\n",
       "Name: count, dtype: int64"
      ]
     },
     "execution_count": 23,
     "metadata": {},
     "output_type": "execute_result"
    }
   ],
   "source": [
    "data['CLASS'].value_counts()"
   ]
  },
  {
   "cell_type": "markdown",
   "id": "1dc4b471",
   "metadata": {},
   "source": [
    "## Sample 1"
   ]
  },
  {
   "cell_type": "code",
   "execution_count": 25,
   "id": "a5ec4aa6",
   "metadata": {},
   "outputs": [
    {
     "data": {
      "text/plain": [
       "array(['dog', 'is', 'this'], dtype=object)"
      ]
     },
     "execution_count": 25,
     "metadata": {},
     "output_type": "execute_result"
    }
   ],
   "source": [
    "message_sample = [\"This is a dog\"]\n",
    "\n",
    "vectorizer_sample = CountVectorizer()\n",
    "vectorizer_sample.fit(message_sample)\n",
    "vectorizer_sample.transform(message_sample).toarray()\n",
    "vectorizer_sample.get_feature_names_out()"
   ]
  },
  {
   "cell_type": "code",
   "execution_count": 27,
   "id": "d02a7d98",
   "metadata": {},
   "outputs": [
    {
     "data": {
      "text/plain": [
       "array([[0, 1, 1]])"
      ]
     },
     "execution_count": 27,
     "metadata": {},
     "output_type": "execute_result"
    }
   ],
   "source": [
    "vectorizer_sample.transform([\"This is a cat\"]).toarray()"
   ]
  },
  {
   "cell_type": "markdown",
   "id": "27b97399",
   "metadata": {},
   "source": [
    "## Sample 2"
   ]
  },
  {
   "cell_type": "code",
   "execution_count": null,
   "id": "2b00380c",
   "metadata": {},
   "outputs": [],
   "source": []
  }
 ],
 "metadata": {
  "kernelspec": {
   "display_name": "Python 3",
   "language": "python",
   "name": "python3"
  },
  "language_info": {
   "codemirror_mode": {
    "name": "ipython",
    "version": 3
   },
   "file_extension": ".py",
   "mimetype": "text/x-python",
   "name": "python",
   "nbconvert_exporter": "python",
   "pygments_lexer": "ipython3",
   "version": "3.13.5"
  }
 },
 "nbformat": 4,
 "nbformat_minor": 5
}
