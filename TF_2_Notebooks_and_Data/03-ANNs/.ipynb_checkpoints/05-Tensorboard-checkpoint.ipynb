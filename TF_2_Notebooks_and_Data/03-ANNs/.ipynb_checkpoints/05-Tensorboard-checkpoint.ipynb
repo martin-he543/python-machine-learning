{
 "cells": [
  {
   "cell_type": "markdown",
   "metadata": {},
   "source": [
    "<a href=\"https://www.pieriandata.com\"><img src=\"../Pierian_Data_Logo.PNG\"></a>\n",
    "<strong><center>Copyright by Pierian Data Inc.</center></strong> \n",
    "<strong><center>Created by Jose Marcial Portilla.</center></strong>"
   ]
  },
  {
   "cell_type": "markdown",
   "metadata": {},
   "source": [
    "# Tensorboard\n",
    "\n",
    "---\n",
    "---\n",
    "\n",
    "**NOTE: You must watch the corresponding video to understand this lecture. This notebook can't serve as a full guide. Please watch the video BEFORE posting questions to the QA forum.**\n",
    "\n",
    "---\n",
    "---\n",
    "\n",
    "Let's explore the built in data visualization capabilities that come with Tensorboard.\n",
    "\n",
    "Full official tutorial available here: https://www.tensorflow.org/tensorboard/get_started\n",
    "\n",
    "## Data"
   ]
  },
  {
   "cell_type": "code",
   "execution_count": 1,
   "metadata": {},
   "outputs": [],
   "source": [
    "import pandas as pd\n",
    "import numpy as np"
   ]
  },
  {
   "cell_type": "code",
   "execution_count": 2,
   "metadata": {},
   "outputs": [],
   "source": [
    "df = pd.read_csv('../DATA/cancer_classification.csv')"
   ]
  },
  {
   "cell_type": "markdown",
   "metadata": {},
   "source": [
    "### Train Test Split"
   ]
  },
  {
   "cell_type": "code",
   "execution_count": 3,
   "metadata": {},
   "outputs": [],
   "source": [
    "X = df.drop('benign_0__mal_1',axis=1).values\n",
    "y = df['benign_0__mal_1'].values"
   ]
  },
  {
   "cell_type": "code",
   "execution_count": 4,
   "metadata": {},
   "outputs": [],
   "source": [
    "from sklearn.model_selection import train_test_split"
   ]
  },
  {
   "cell_type": "code",
   "execution_count": 5,
   "metadata": {},
   "outputs": [],
   "source": [
    "X_train, X_test, y_train, y_test = train_test_split(X,y,test_size=0.25,random_state=101)"
   ]
  },
  {
   "cell_type": "markdown",
   "metadata": {},
   "source": [
    "\n",
    "### Scaling Data"
   ]
  },
  {
   "cell_type": "code",
   "execution_count": 6,
   "metadata": {},
   "outputs": [],
   "source": [
    "from sklearn.preprocessing import MinMaxScaler"
   ]
  },
  {
   "cell_type": "code",
   "execution_count": 7,
   "metadata": {},
   "outputs": [],
   "source": [
    "scaler = MinMaxScaler()"
   ]
  },
  {
   "cell_type": "code",
   "execution_count": 8,
   "metadata": {},
   "outputs": [
    {
     "data": {
      "text/plain": [
       "MinMaxScaler(copy=True, feature_range=(0, 1))"
      ]
     },
     "execution_count": 8,
     "metadata": {},
     "output_type": "execute_result"
    }
   ],
   "source": [
    "scaler.fit(X_train)"
   ]
  },
  {
   "cell_type": "code",
   "execution_count": 9,
   "metadata": {},
   "outputs": [],
   "source": [
    "X_train = scaler.transform(X_train)\n",
    "X_test = scaler.transform(X_test)"
   ]
  },
  {
   "cell_type": "markdown",
   "metadata": {},
   "source": [
    "## Creating the Model"
   ]
  },
  {
   "cell_type": "code",
   "execution_count": 10,
   "metadata": {},
   "outputs": [],
   "source": [
    "import tensorflow as tf\n",
    "from tensorflow.keras.models import Sequential\n",
    "from tensorflow.keras.layers import Dense, Activation,Dropout"
   ]
  },
  {
   "cell_type": "code",
   "execution_count": 11,
   "metadata": {},
   "outputs": [],
   "source": [
    "from tensorflow.keras.callbacks import EarlyStopping,TensorBoard"
   ]
  },
  {
   "cell_type": "code",
   "execution_count": 12,
   "metadata": {},
   "outputs": [],
   "source": [
    "early_stop = EarlyStopping(monitor='val_loss', mode='min', verbose=1, patience=25)"
   ]
  },
  {
   "cell_type": "code",
   "execution_count": 13,
   "metadata": {},
   "outputs": [
    {
     "data": {
      "text/plain": [
       "'C:\\\\Users\\\\Marcial\\\\Pierian-Data-Courses\\\\TensorFlow-Two-Bootcamp\\\\03-ANNs'"
      ]
     },
     "execution_count": 13,
     "metadata": {},
     "output_type": "execute_result"
    }
   ],
   "source": [
    "pwd"
   ]
  },
  {
   "cell_type": "markdown",
   "metadata": {},
   "source": [
    "## Creating the Tensorboard Callback\n",
    "\n",
    "TensorBoard is a visualization tool provided with TensorFlow.\n",
    "\n",
    "This callback logs events for TensorBoard, including:\n",
    "* Metrics summary plots\n",
    "* Training graph visualization\n",
    "* Activation histograms\n",
    "* Sampled profiling\n",
    "\n",
    "If you have installed TensorFlow with pip, you should be able\n",
    "to launch TensorBoard from the command line:\n",
    "\n",
    "```sh\n",
    "tensorboard --logdir=path_to_your_logs\n",
    "```\n",
    "\n",
    "You can find more information about TensorBoard\n",
    "[here](https://www.tensorflow.org/tensorboard/).\n",
    "\n",
    "    Arguments:\n",
    "        log_dir: the path of the directory where to save the log files to be\n",
    "          parsed by TensorBoard.\n",
    "        histogram_freq: frequency (in epochs) at which to compute activation and\n",
    "          weight histograms for the layers of the model. If set to 0, histograms\n",
    "          won't be computed. Validation data (or split) must be specified for\n",
    "          histogram visualizations.\n",
    "        write_graph: whether to visualize the graph in TensorBoard. The log file\n",
    "          can become quite large when write_graph is set to True.\n",
    "        write_images: whether to write model weights to visualize as image in\n",
    "          TensorBoard.\n",
    "        update_freq: `'batch'` or `'epoch'` or integer. When using `'batch'`,\n",
    "          writes the losses and metrics to TensorBoard after each batch. The same\n",
    "          applies for `'epoch'`. If using an integer, let's say `1000`, the\n",
    "          callback will write the metrics and losses to TensorBoard every 1000\n",
    "          samples. Note that writing too frequently to TensorBoard can slow down\n",
    "          your training.\n",
    "        profile_batch: Profile the batch to sample compute characteristics. By\n",
    "          default, it will profile the second batch. Set profile_batch=0 to\n",
    "          disable profiling. Must run in TensorFlow eager mode.\n",
    "        embeddings_freq: frequency (in epochs) at which embedding layers will\n",
    "          be visualized. If set to 0, embeddings won't be visualized.\n",
    "       "
   ]
  },
  {
   "cell_type": "code",
   "execution_count": 14,
   "metadata": {},
   "outputs": [],
   "source": [
    "from datetime import datetime"
   ]
  },
  {
   "cell_type": "code",
   "execution_count": 15,
   "metadata": {},
   "outputs": [
    {
     "data": {
      "text/plain": [
       "'2019-11-14--1815'"
      ]
     },
     "execution_count": 15,
     "metadata": {},
     "output_type": "execute_result"
    }
   ],
   "source": [
    "datetime.now().strftime(\"%Y-%m-%d--%H%M\")"
   ]
  },
  {
   "cell_type": "code",
   "execution_count": 14,
   "metadata": {},
   "outputs": [],
   "source": [
    "# WINDOWS: Use \"logs\\\\fit\"\n",
    "# MACOS/LINUX: Use \"logs\\fit\"\n",
    "\n",
    "log_directory = 'logs\\\\fit'\n",
    "\n",
    "# OPTIONAL: ADD A TIMESTAMP FOR UNIQUE FOLDER\n",
    "# timestamp = datetime.now().strftime(\"%Y-%m-%d--%H%M\")\n",
    "# log_directory = log_directory + '\\\\' + timestamp\n",
    "\n",
    "\n",
    "board = TensorBoard(log_dir=log_directory,histogram_freq=1,\n",
    "    write_graph=True,\n",
    "    write_images=True,\n",
    "    update_freq='epoch',\n",
    "    profile_batch=2,\n",
    "    embeddings_freq=1)"
   ]
  },
  {
   "cell_type": "markdown",
   "metadata": {},
   "source": [
    "Now create the model layers:"
   ]
  },
  {
   "cell_type": "code",
   "execution_count": 16,
   "metadata": {},
   "outputs": [],
   "source": [
    "model = Sequential()\n",
    "model.add(Dense(units=30,activation='relu'))\n",
    "model.add(Dropout(0.5))\n",
    "model.add(Dense(units=15,activation='relu'))\n",
    "model.add(Dropout(0.5))\n",
    "model.add(Dense(units=1,activation='sigmoid'))\n",
    "model.compile(loss='binary_crossentropy', optimizer='adam')"
   ]
  },
  {
   "cell_type": "markdown",
   "metadata": {},
   "source": [
    "## Train the Model"
   ]
  },
  {
   "cell_type": "code",
   "execution_count": 17,
   "metadata": {},
   "outputs": [
    {
     "name": "stdout",
     "output_type": "stream",
     "text": [
      "Train on 426 samples, validate on 143 samples\n",
      "Epoch 1/600\n",
      "426/426 [==============================] - 1s 2ms/sample - loss: 0.7256 - val_loss: 0.6860\n",
      "Epoch 2/600\n",
      "426/426 [==============================] - 0s 221us/sample - loss: 0.6873 - val_loss: 0.6757\n",
      "Epoch 3/600\n",
      "426/426 [==============================] - 0s 213us/sample - loss: 0.6702 - val_loss: 0.6650\n",
      "Epoch 4/600\n",
      "426/426 [==============================] - 0s 230us/sample - loss: 0.6608 - val_loss: 0.6486\n",
      "Epoch 5/600\n",
      "426/426 [==============================] - 0s 222us/sample - loss: 0.6454 - val_loss: 0.6305\n",
      "Epoch 6/600\n",
      "426/426 [==============================] - 0s 239us/sample - loss: 0.6189 - val_loss: 0.6011\n",
      "Epoch 7/600\n",
      "426/426 [==============================] - 0s 214us/sample - loss: 0.6005 - val_loss: 0.5623\n",
      "Epoch 8/600\n",
      "426/426 [==============================] - 0s 227us/sample - loss: 0.5633 - val_loss: 0.5320\n",
      "Epoch 9/600\n",
      "426/426 [==============================] - 0s 208us/sample - loss: 0.5310 - val_loss: 0.5051\n",
      "Epoch 10/600\n",
      "426/426 [==============================] - 0s 223us/sample - loss: 0.5055 - val_loss: 0.4665\n",
      "Epoch 11/600\n",
      "426/426 [==============================] - 0s 219us/sample - loss: 0.4946 - val_loss: 0.4348\n",
      "Epoch 12/600\n",
      "426/426 [==============================] - 0s 237us/sample - loss: 0.4702 - val_loss: 0.4135\n",
      "Epoch 13/600\n",
      "426/426 [==============================] - 0s 242us/sample - loss: 0.4483 - val_loss: 0.3834\n",
      "Epoch 14/600\n",
      "426/426 [==============================] - 0s 290us/sample - loss: 0.4462 - val_loss: 0.3656\n",
      "Epoch 15/600\n",
      "426/426 [==============================] - 0s 234us/sample - loss: 0.4014 - val_loss: 0.3423\n",
      "Epoch 16/600\n",
      "426/426 [==============================] - 0s 225us/sample - loss: 0.3992 - val_loss: 0.3240\n",
      "Epoch 17/600\n",
      "426/426 [==============================] - 0s 215us/sample - loss: 0.3738 - val_loss: 0.3100\n",
      "Epoch 18/600\n",
      "426/426 [==============================] - 0s 241us/sample - loss: 0.3397 - val_loss: 0.2855\n",
      "Epoch 19/600\n",
      "426/426 [==============================] - 0s 208us/sample - loss: 0.3575 - val_loss: 0.2685\n",
      "Epoch 20/600\n",
      "426/426 [==============================] - 0s 224us/sample - loss: 0.3349 - val_loss: 0.2591\n",
      "Epoch 21/600\n",
      "426/426 [==============================] - 0s 227us/sample - loss: 0.3379 - val_loss: 0.2526\n",
      "Epoch 22/600\n",
      "426/426 [==============================] - 0s 223us/sample - loss: 0.3256 - val_loss: 0.2396\n",
      "Epoch 23/600\n",
      "426/426 [==============================] - 0s 220us/sample - loss: 0.3162 - val_loss: 0.2315\n",
      "Epoch 24/600\n",
      "426/426 [==============================] - 0s 225us/sample - loss: 0.2969 - val_loss: 0.2222\n",
      "Epoch 25/600\n",
      "426/426 [==============================] - 0s 217us/sample - loss: 0.2921 - val_loss: 0.2182\n",
      "Epoch 26/600\n",
      "426/426 [==============================] - 0s 211us/sample - loss: 0.2835 - val_loss: 0.2152\n",
      "Epoch 27/600\n",
      "426/426 [==============================] - 0s 221us/sample - loss: 0.3037 - val_loss: 0.2011\n",
      "Epoch 28/600\n",
      "426/426 [==============================] - 0s 241us/sample - loss: 0.2790 - val_loss: 0.1951\n",
      "Epoch 29/600\n",
      "426/426 [==============================] - 0s 227us/sample - loss: 0.2556 - val_loss: 0.1912\n",
      "Epoch 30/600\n",
      "426/426 [==============================] - 0s 269us/sample - loss: 0.2532 - val_loss: 0.1848\n",
      "Epoch 31/600\n",
      "426/426 [==============================] - 0s 207us/sample - loss: 0.2693 - val_loss: 0.1757\n",
      "Epoch 32/600\n",
      "426/426 [==============================] - 0s 227us/sample - loss: 0.2529 - val_loss: 0.1753\n",
      "Epoch 33/600\n",
      "426/426 [==============================] - 0s 225us/sample - loss: 0.2431 - val_loss: 0.1782\n",
      "Epoch 34/600\n",
      "426/426 [==============================] - 0s 224us/sample - loss: 0.2387 - val_loss: 0.1720\n",
      "Epoch 35/600\n",
      "426/426 [==============================] - 0s 213us/sample - loss: 0.2356 - val_loss: 0.1616\n",
      "Epoch 36/600\n",
      "426/426 [==============================] - 0s 225us/sample - loss: 0.2418 - val_loss: 0.1659\n",
      "Epoch 37/600\n",
      "426/426 [==============================] - 0s 220us/sample - loss: 0.2376 - val_loss: 0.1568\n",
      "Epoch 38/600\n",
      "426/426 [==============================] - 0s 207us/sample - loss: 0.2233 - val_loss: 0.1606\n",
      "Epoch 39/600\n",
      "426/426 [==============================] - 0s 216us/sample - loss: 0.2168 - val_loss: 0.1583\n",
      "Epoch 40/600\n",
      "426/426 [==============================] - 0s 218us/sample - loss: 0.2080 - val_loss: 0.1530\n",
      "Epoch 41/600\n",
      "426/426 [==============================] - 0s 216us/sample - loss: 0.1955 - val_loss: 0.1486\n",
      "Epoch 42/600\n",
      "426/426 [==============================] - 0s 211us/sample - loss: 0.1951 - val_loss: 0.1467\n",
      "Epoch 43/600\n",
      "426/426 [==============================] - 0s 236us/sample - loss: 0.1851 - val_loss: 0.1460\n",
      "Epoch 44/600\n",
      "426/426 [==============================] - 0s 243us/sample - loss: 0.1785 - val_loss: 0.1388\n",
      "Epoch 45/600\n",
      "426/426 [==============================] - 0s 279us/sample - loss: 0.2001 - val_loss: 0.1432\n",
      "Epoch 46/600\n",
      "426/426 [==============================] - 0s 218us/sample - loss: 0.1709 - val_loss: 0.1415\n",
      "Epoch 47/600\n",
      "426/426 [==============================] - 0s 215us/sample - loss: 0.1993 - val_loss: 0.1386\n",
      "Epoch 48/600\n",
      "426/426 [==============================] - 0s 213us/sample - loss: 0.1618 - val_loss: 0.1425\n",
      "Epoch 49/600\n",
      "426/426 [==============================] - 0s 215us/sample - loss: 0.2035 - val_loss: 0.1354\n",
      "Epoch 50/600\n",
      "426/426 [==============================] - 0s 219us/sample - loss: 0.1994 - val_loss: 0.1398\n",
      "Epoch 51/600\n",
      "426/426 [==============================] - 0s 400us/sample - loss: 0.1621 - val_loss: 0.1355\n",
      "Epoch 52/600\n",
      "426/426 [==============================] - 0s 213us/sample - loss: 0.1818 - val_loss: 0.1384\n",
      "Epoch 53/600\n",
      "426/426 [==============================] - 0s 220us/sample - loss: 0.1541 - val_loss: 0.1284\n",
      "Epoch 54/600\n",
      "426/426 [==============================] - 0s 226us/sample - loss: 0.1895 - val_loss: 0.1313\n",
      "Epoch 55/600\n",
      "426/426 [==============================] - 0s 215us/sample - loss: 0.1794 - val_loss: 0.1360\n",
      "Epoch 56/600\n",
      "426/426 [==============================] - 0s 206us/sample - loss: 0.1698 - val_loss: 0.1250\n",
      "Epoch 57/600\n",
      "426/426 [==============================] - 0s 236us/sample - loss: 0.1559 - val_loss: 0.1252\n",
      "Epoch 58/600\n",
      "426/426 [==============================] - 0s 249us/sample - loss: 0.1593 - val_loss: 0.1339\n",
      "Epoch 59/600\n",
      "426/426 [==============================] - 0s 243us/sample - loss: 0.1673 - val_loss: 0.1293\n",
      "Epoch 60/600\n",
      "426/426 [==============================] - 0s 239us/sample - loss: 0.1385 - val_loss: 0.1210\n",
      "Epoch 61/600\n",
      "426/426 [==============================] - 0s 216us/sample - loss: 0.1574 - val_loss: 0.1249\n",
      "Epoch 62/600\n",
      "426/426 [==============================] - 0s 218us/sample - loss: 0.1600 - val_loss: 0.1218\n",
      "Epoch 63/600\n",
      "426/426 [==============================] - 0s 220us/sample - loss: 0.1494 - val_loss: 0.1222\n",
      "Epoch 64/600\n",
      "426/426 [==============================] - 0s 213us/sample - loss: 0.1328 - val_loss: 0.1224\n",
      "Epoch 65/600\n",
      "426/426 [==============================] - 0s 220us/sample - loss: 0.1493 - val_loss: 0.1263\n",
      "Epoch 66/600\n",
      "426/426 [==============================] - 0s 216us/sample - loss: 0.1582 - val_loss: 0.1177\n",
      "Epoch 67/600\n",
      "426/426 [==============================] - 0s 239us/sample - loss: 0.1421 - val_loss: 0.1226\n",
      "Epoch 68/600\n",
      "426/426 [==============================] - 0s 230us/sample - loss: 0.1452 - val_loss: 0.1169\n",
      "Epoch 69/600\n",
      "426/426 [==============================] - 0s 223us/sample - loss: 0.1400 - val_loss: 0.1215\n",
      "Epoch 70/600\n",
      "426/426 [==============================] - 0s 222us/sample - loss: 0.1410 - val_loss: 0.1178\n",
      "Epoch 71/600\n",
      "426/426 [==============================] - 0s 225us/sample - loss: 0.1281 - val_loss: 0.1171\n",
      "Epoch 72/600\n",
      "426/426 [==============================] - 0s 218us/sample - loss: 0.1542 - val_loss: 0.1202\n",
      "Epoch 73/600\n",
      "426/426 [==============================] - 0s 248us/sample - loss: 0.1521 - val_loss: 0.1156\n",
      "Epoch 74/600\n",
      "426/426 [==============================] - 0s 240us/sample - loss: 0.1525 - val_loss: 0.1183\n",
      "Epoch 75/600\n",
      "426/426 [==============================] - 0s 234us/sample - loss: 0.1440 - val_loss: 0.1141\n",
      "Epoch 76/600\n",
      "426/426 [==============================] - 0s 236us/sample - loss: 0.1257 - val_loss: 0.1224\n",
      "Epoch 77/600\n",
      "426/426 [==============================] - 0s 231us/sample - loss: 0.1137 - val_loss: 0.1160\n"
     ]
    },
    {
     "name": "stdout",
     "output_type": "stream",
     "text": [
      "Epoch 78/600\n",
      "426/426 [==============================] - 0s 221us/sample - loss: 0.1248 - val_loss: 0.1205\n",
      "Epoch 79/600\n",
      "426/426 [==============================] - 0s 230us/sample - loss: 0.1169 - val_loss: 0.1155\n",
      "Epoch 80/600\n",
      "426/426 [==============================] - 0s 214us/sample - loss: 0.1348 - val_loss: 0.1313\n",
      "Epoch 81/600\n",
      "426/426 [==============================] - 0s 222us/sample - loss: 0.1337 - val_loss: 0.1162\n",
      "Epoch 82/600\n",
      "426/426 [==============================] - 0s 221us/sample - loss: 0.1324 - val_loss: 0.1163\n",
      "Epoch 83/600\n",
      "426/426 [==============================] - 0s 220us/sample - loss: 0.1203 - val_loss: 0.1246\n",
      "Epoch 84/600\n",
      "426/426 [==============================] - 0s 222us/sample - loss: 0.1338 - val_loss: 0.1198\n",
      "Epoch 85/600\n",
      "426/426 [==============================] - 0s 227us/sample - loss: 0.1264 - val_loss: 0.1157\n",
      "Epoch 86/600\n",
      "426/426 [==============================] - 0s 248us/sample - loss: 0.1282 - val_loss: 0.1157\n",
      "Epoch 87/600\n",
      "426/426 [==============================] - 0s 232us/sample - loss: 0.1093 - val_loss: 0.1093\n",
      "Epoch 88/600\n",
      "426/426 [==============================] - 0s 229us/sample - loss: 0.1481 - val_loss: 0.1226\n",
      "Epoch 89/600\n",
      "426/426 [==============================] - 0s 220us/sample - loss: 0.1402 - val_loss: 0.1141\n",
      "Epoch 90/600\n",
      "426/426 [==============================] - 0s 220us/sample - loss: 0.1321 - val_loss: 0.1106\n",
      "Epoch 91/600\n",
      "426/426 [==============================] - 0s 215us/sample - loss: 0.1133 - val_loss: 0.1131\n",
      "Epoch 92/600\n",
      "426/426 [==============================] - 0s 215us/sample - loss: 0.1319 - val_loss: 0.1154\n",
      "Epoch 93/600\n",
      "426/426 [==============================] - 0s 208us/sample - loss: 0.1139 - val_loss: 0.1182\n",
      "Epoch 94/600\n",
      "426/426 [==============================] - 0s 218us/sample - loss: 0.1125 - val_loss: 0.1109\n",
      "Epoch 95/600\n",
      "426/426 [==============================] - 0s 219us/sample - loss: 0.1230 - val_loss: 0.1159\n",
      "Epoch 96/600\n",
      "426/426 [==============================] - 0s 233us/sample - loss: 0.1313 - val_loss: 0.1102\n",
      "Epoch 97/600\n",
      "426/426 [==============================] - 0s 216us/sample - loss: 0.1143 - val_loss: 0.1209\n",
      "Epoch 98/600\n",
      "426/426 [==============================] - 0s 219us/sample - loss: 0.1049 - val_loss: 0.1194\n",
      "Epoch 99/600\n",
      "426/426 [==============================] - 0s 223us/sample - loss: 0.1098 - val_loss: 0.1117\n",
      "Epoch 100/600\n",
      "426/426 [==============================] - 0s 232us/sample - loss: 0.1222 - val_loss: 0.1216\n",
      "Epoch 101/600\n",
      "426/426 [==============================] - 0s 228us/sample - loss: 0.0997 - val_loss: 0.1070\n",
      "Epoch 102/600\n",
      "426/426 [==============================] - 0s 225us/sample - loss: 0.1000 - val_loss: 0.1156\n",
      "Epoch 103/600\n",
      "426/426 [==============================] - 0s 236us/sample - loss: 0.1070 - val_loss: 0.1226\n",
      "Epoch 104/600\n",
      "426/426 [==============================] - 0s 255us/sample - loss: 0.1319 - val_loss: 0.1256\n",
      "Epoch 105/600\n",
      "426/426 [==============================] - 0s 251us/sample - loss: 0.1117 - val_loss: 0.1187\n",
      "Epoch 106/600\n",
      "426/426 [==============================] - 0s 224us/sample - loss: 0.1144 - val_loss: 0.1176\n",
      "Epoch 107/600\n",
      "426/426 [==============================] - 0s 235us/sample - loss: 0.1002 - val_loss: 0.1124\n",
      "Epoch 108/600\n",
      "426/426 [==============================] - 0s 219us/sample - loss: 0.1077 - val_loss: 0.1225\n",
      "Epoch 109/600\n",
      "426/426 [==============================] - 0s 225us/sample - loss: 0.1202 - val_loss: 0.1221\n",
      "Epoch 110/600\n",
      "426/426 [==============================] - 0s 215us/sample - loss: 0.1229 - val_loss: 0.1113\n",
      "Epoch 111/600\n",
      "426/426 [==============================] - 0s 222us/sample - loss: 0.1010 - val_loss: 0.1116\n",
      "Epoch 112/600\n",
      "426/426 [==============================] - 0s 241us/sample - loss: 0.0884 - val_loss: 0.1243\n",
      "Epoch 113/600\n",
      "426/426 [==============================] - 0s 230us/sample - loss: 0.1201 - val_loss: 0.1144\n",
      "Epoch 114/600\n",
      "426/426 [==============================] - 0s 210us/sample - loss: 0.0924 - val_loss: 0.1190\n",
      "Epoch 115/600\n",
      "426/426 [==============================] - 0s 207us/sample - loss: 0.1124 - val_loss: 0.1198\n",
      "Epoch 116/600\n",
      "426/426 [==============================] - 0s 216us/sample - loss: 0.0923 - val_loss: 0.1188\n",
      "Epoch 117/600\n",
      "426/426 [==============================] - 0s 228us/sample - loss: 0.1054 - val_loss: 0.1180\n",
      "Epoch 118/600\n",
      "426/426 [==============================] - 0s 238us/sample - loss: 0.0934 - val_loss: 0.1112\n",
      "Epoch 119/600\n",
      "426/426 [==============================] - 0s 243us/sample - loss: 0.0996 - val_loss: 0.1272\n",
      "Epoch 120/600\n",
      "426/426 [==============================] - 0s 232us/sample - loss: 0.1081 - val_loss: 0.1126\n",
      "Epoch 121/600\n",
      "426/426 [==============================] - 0s 237us/sample - loss: 0.1257 - val_loss: 0.1307\n",
      "Epoch 122/600\n",
      "426/426 [==============================] - 0s 221us/sample - loss: 0.1109 - val_loss: 0.1255\n",
      "Epoch 123/600\n",
      "426/426 [==============================] - 0s 227us/sample - loss: 0.0954 - val_loss: 0.1250\n",
      "Epoch 124/600\n",
      "426/426 [==============================] - 0s 211us/sample - loss: 0.0888 - val_loss: 0.1219\n",
      "Epoch 125/600\n",
      "426/426 [==============================] - 0s 213us/sample - loss: 0.1095 - val_loss: 0.1305\n",
      "Epoch 126/600\n",
      "426/426 [==============================] - 0s 232us/sample - loss: 0.1029 - val_loss: 0.1227\n",
      "Epoch 00126: early stopping\n"
     ]
    },
    {
     "data": {
      "text/plain": [
       "<tensorflow.python.keras.callbacks.History at 0x205f5a29088>"
      ]
     },
     "execution_count": 17,
     "metadata": {},
     "output_type": "execute_result"
    }
   ],
   "source": [
    "model.fit(x=X_train, \n",
    "          y=y_train, \n",
    "          epochs=600,\n",
    "          validation_data=(X_test, y_test), verbose=1,\n",
    "          callbacks=[early_stop,board]\n",
    "          )"
   ]
  },
  {
   "cell_type": "markdown",
   "metadata": {},
   "source": [
    "# Running Tensorboard\n"
   ]
  },
  {
   "cell_type": "markdown",
   "metadata": {},
   "source": [
    "## Running through the Command Line\n",
    "\n",
    "**Watch video to see how to run Tensorboard through a command line call.**"
   ]
  },
  {
   "cell_type": "markdown",
   "metadata": {},
   "source": [
    "Tensorboard will run locally in your browser at [http://localhost:6006/](http://localhost:6006/)\n"
   ]
  },
  {
   "cell_type": "code",
   "execution_count": 21,
   "metadata": {},
   "outputs": [
    {
     "name": "stdout",
     "output_type": "stream",
     "text": [
      "logs\\fit\n"
     ]
    }
   ],
   "source": [
    "print(log_directory)"
   ]
  },
  {
   "cell_type": "code",
   "execution_count": 39,
   "metadata": {},
   "outputs": [
    {
     "data": {
      "text/plain": [
       "'C:\\\\Users\\\\Marcial\\\\Pierian-Data-Courses\\\\TensorFlow-Two-Bootcamp\\\\03-ANNs'"
      ]
     },
     "execution_count": 39,
     "metadata": {},
     "output_type": "execute_result"
    }
   ],
   "source": [
    "pwd"
   ]
  },
  {
   "cell_type": "markdown",
   "metadata": {},
   "source": [
    "### Use cd at your command line to change directory to the file path reported back by pwd or your current .py file location.\n",
    "### Then run this code at your command line or terminal"
   ]
  },
  {
   "cell_type": "code",
   "execution_count": null,
   "metadata": {},
   "outputs": [],
   "source": [
    "tensorboard --logdir logs\\fit "
   ]
  }
 ],
 "metadata": {
  "kernelspec": {
   "display_name": "Python 3",
   "language": "python",
   "name": "python3"
  },
  "language_info": {
   "codemirror_mode": {
    "name": "ipython",
    "version": 3
   },
   "file_extension": ".py",
   "mimetype": "text/x-python",
   "name": "python",
   "nbconvert_exporter": "python",
   "pygments_lexer": "ipython3",
   "version": "3.7.4"
  }
 },
 "nbformat": 4,
 "nbformat_minor": 2
}
