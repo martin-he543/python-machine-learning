{
 "cells": [
  {
   "cell_type": "markdown",
   "metadata": {},
   "source": [
    "___\n",
    "\n",
    "<a href='http://www.pieriandata.com'><img src='../Pierian_Data_Logo.png'/></a>\n",
    "___\n",
    "<center><em>Copyright Pierian Data</em></center>\n",
    "<center><em>For more information, visit us at <a href='http://www.pieriandata.com'>www.pieriandata.com</a></em></center>\n",
    "\n",
    "# AutoEncoders for Dimensionality Reduction"
   ]
  },
  {
   "cell_type": "code",
   "execution_count": 1,
   "metadata": {},
   "outputs": [],
   "source": [
    "import numpy as np\n",
    "import pandas as pd\n",
    "import seaborn as sns\n",
    "import matplotlib.pyplot as plt"
   ]
  },
  {
   "cell_type": "code",
   "execution_count": 2,
   "metadata": {},
   "outputs": [],
   "source": [
    "from sklearn.datasets import make_blobs"
   ]
  },
  {
   "cell_type": "code",
   "execution_count": 3,
   "metadata": {},
   "outputs": [],
   "source": [
    "data = make_blobs(n_samples=300,\n",
    "    n_features=2,\n",
    "    centers=2,\n",
    "    cluster_std=1.0,random_state=101)"
   ]
  },
  {
   "cell_type": "code",
   "execution_count": 4,
   "metadata": {},
   "outputs": [],
   "source": [
    "X,y = data"
   ]
  },
  {
   "cell_type": "code",
   "execution_count": 5,
   "metadata": {},
   "outputs": [],
   "source": [
    "np.random.seed(seed=101)\n",
    "z_noise = np.random.normal(size=len(X))\n",
    "z_noise = pd.Series(z_noise)"
   ]
  },
  {
   "cell_type": "code",
   "execution_count": 6,
   "metadata": {},
   "outputs": [],
   "source": [
    "feat = pd.DataFrame(X)\n",
    "feat = pd.concat([feat,z_noise],axis=1)\n",
    "feat.columns = ['X1','X2','X3']"
   ]
  },
  {
   "cell_type": "code",
   "execution_count": 7,
   "metadata": {},
   "outputs": [
    {
     "data": {
      "text/html": [
       "<div>\n",
       "<style scoped>\n",
       "    .dataframe tbody tr th:only-of-type {\n",
       "        vertical-align: middle;\n",
       "    }\n",
       "\n",
       "    .dataframe tbody tr th {\n",
       "        vertical-align: top;\n",
       "    }\n",
       "\n",
       "    .dataframe thead th {\n",
       "        text-align: right;\n",
       "    }\n",
       "</style>\n",
       "<table border=\"1\" class=\"dataframe\">\n",
       "  <thead>\n",
       "    <tr style=\"text-align: right;\">\n",
       "      <th></th>\n",
       "      <th>X1</th>\n",
       "      <th>X2</th>\n",
       "      <th>X3</th>\n",
       "    </tr>\n",
       "  </thead>\n",
       "  <tbody>\n",
       "    <tr>\n",
       "      <th>0</th>\n",
       "      <td>-8.877721</td>\n",
       "      <td>-6.760078</td>\n",
       "      <td>2.706850</td>\n",
       "    </tr>\n",
       "    <tr>\n",
       "      <th>1</th>\n",
       "      <td>0.630638</td>\n",
       "      <td>3.107075</td>\n",
       "      <td>0.628133</td>\n",
       "    </tr>\n",
       "    <tr>\n",
       "      <th>2</th>\n",
       "      <td>-0.240609</td>\n",
       "      <td>2.820690</td>\n",
       "      <td>0.907969</td>\n",
       "    </tr>\n",
       "    <tr>\n",
       "      <th>3</th>\n",
       "      <td>-7.839091</td>\n",
       "      <td>-8.207545</td>\n",
       "      <td>0.503826</td>\n",
       "    </tr>\n",
       "    <tr>\n",
       "      <th>4</th>\n",
       "      <td>-10.972908</td>\n",
       "      <td>-7.390676</td>\n",
       "      <td>0.651118</td>\n",
       "    </tr>\n",
       "  </tbody>\n",
       "</table>\n",
       "</div>"
      ],
      "text/plain": [
       "          X1        X2        X3\n",
       "0  -8.877721 -6.760078  2.706850\n",
       "1   0.630638  3.107075  0.628133\n",
       "2  -0.240609  2.820690  0.907969\n",
       "3  -7.839091 -8.207545  0.503826\n",
       "4 -10.972908 -7.390676  0.651118"
      ]
     },
     "execution_count": 7,
     "metadata": {},
     "output_type": "execute_result"
    }
   ],
   "source": [
    "feat.head()"
   ]
  },
  {
   "cell_type": "code",
   "execution_count": 8,
   "metadata": {},
   "outputs": [
    {
     "data": {
      "text/plain": [
       "<matplotlib.collections.PathCollection at 0x1f907a2c748>"
      ]
     },
     "execution_count": 8,
     "metadata": {},
     "output_type": "execute_result"
    },
    {
     "data": {
      "image/png": "[encoded data removed]",
      "text/plain": [
       "<Figure size 432x288 with 1 Axes>"
      ]
     },
     "metadata": {
      "needs_background": "light"
     },
     "output_type": "display_data"
    }
   ],
   "source": [
    "plt.scatter(feat['X1'],feat['X2'],c=y)"
   ]
  },
  {
   "cell_type": "markdown",
   "metadata": {},
   "source": [
    "https://matplotlib.org/mpl_toolkits/mplot3d/tutorial.html#scatter-plots"
   ]
  },
  {
   "cell_type": "code",
   "execution_count": 9,
   "metadata": {},
   "outputs": [],
   "source": [
    "from mpl_toolkits.mplot3d import Axes3D"
   ]
  },
  {
   "cell_type": "code",
   "execution_count": 10,
   "metadata": {},
   "outputs": [],
   "source": [
    "# %matplotlib notebook"
   ]
  },
  {
   "cell_type": "code",
   "execution_count": 11,
   "metadata": {},
   "outputs": [
    {
     "data": {
      "text/plain": [
       "<mpl_toolkits.mplot3d.art3d.Path3DCollection at 0x1f907b51788>"
      ]
     },
     "execution_count": 11,
     "metadata": {},
     "output_type": "execute_result"
    },
    {
     "data": {
      "image/png": "[encoded data removed]",
      "text/plain": [
       "<Figure size 432x288 with 1 Axes>"
      ]
     },
     "metadata": {
      "needs_background": "light"
     },
     "output_type": "display_data"
    }
   ],
   "source": [
    "fig = plt.figure()\n",
    "ax = fig.add_subplot(111, projection='3d')\n",
    "ax.scatter(feat['X1'],feat['X2'],feat['X3'],c=y)"
   ]
  },
  {
   "cell_type": "markdown",
   "metadata": {},
   "source": [
    "# Encoder and Decoder"
   ]
  },
  {
   "cell_type": "code",
   "execution_count": 12,
   "metadata": {},
   "outputs": [],
   "source": [
    "from tensorflow.keras.models import Sequential\n",
    "from tensorflow.keras.layers import Dense\n",
    "from tensorflow.keras.optimizers import SGD"
   ]
  },
  {
   "cell_type": "code",
   "execution_count": 23,
   "metadata": {},
   "outputs": [],
   "source": [
    "# 3 --> 2\n",
    "encoder = Sequential()\n",
    "encoder.add(Dense(units=2,activation='relu',input_shape=[3]))"
   ]
  },
  {
   "cell_type": "code",
   "execution_count": 24,
   "metadata": {},
   "outputs": [],
   "source": [
    "# 2 ---> 3\n",
    "decoder = Sequential()\n",
    "decoder.add(Dense(units=3,activation='relu',input_shape=[2]))"
   ]
  },
  {
   "cell_type": "code",
   "execution_count": 25,
   "metadata": {},
   "outputs": [],
   "source": [
    "# ENCODER\n",
    "# 3 ---> 2 ----> 3\n",
    "autoencoder = Sequential([encoder,decoder])\n",
    "autoencoder.compile(loss=\"mse\" ,optimizer=SGD(lr=1.5))"
   ]
  },
  {
   "cell_type": "code",
   "execution_count": 26,
   "metadata": {},
   "outputs": [],
   "source": [
    "from sklearn.preprocessing import MinMaxScaler"
   ]
  },
  {
   "cell_type": "code",
   "execution_count": 27,
   "metadata": {},
   "outputs": [],
   "source": [
    "# Note how all the data is used! There is no \"right\" answer here\n",
    "scaler = MinMaxScaler()\n",
    "scaled_data = scaler.fit_transform(feat)"
   ]
  },
  {
   "cell_type": "code",
   "execution_count": 28,
   "metadata": {},
   "outputs": [],
   "source": [
    "# scaled_data"
   ]
  },
  {
   "cell_type": "code",
   "execution_count": 29,
   "metadata": {},
   "outputs": [
    {
     "name": "stdout",
     "output_type": "stream",
     "text": [
      "Train on 300 samples\n",
      "Epoch 1/5\n",
      "300/300 [==============================] - 0s 1ms/sample - loss: 0.1549\n",
      "Epoch 2/5\n",
      "300/300 [==============================] - 0s 73us/sample - loss: 0.1378\n",
      "Epoch 3/5\n",
      "300/300 [==============================] - 0s 63us/sample - loss: 0.1319\n",
      "Epoch 4/5\n",
      "300/300 [==============================] - 0s 69us/sample - loss: 0.1363\n",
      "Epoch 5/5\n",
      "300/300 [==============================] - 0s 76us/sample - loss: 0.1338\n"
     ]
    },
    {
     "data": {
      "text/plain": [
       "<tensorflow.python.keras.callbacks.History at 0x1f90ea24e88>"
      ]
     },
     "execution_count": 29,
     "metadata": {},
     "output_type": "execute_result"
    }
   ],
   "source": [
    "autoencoder.fit(scaled_data,scaled_data,epochs=5)"
   ]
  },
  {
   "cell_type": "code",
   "execution_count": 30,
   "metadata": {},
   "outputs": [],
   "source": [
    "encoded_2dim = encoder.predict(scaled_data)"
   ]
  },
  {
   "cell_type": "code",
   "execution_count": 31,
   "metadata": {},
   "outputs": [
    {
     "data": {
      "text/plain": [
       "array([[0.        , 0.        ],\n",
       "       [0.        , 1.1928167 ],\n",
       "       [0.        , 1.1064019 ],\n",
       "       [0.        , 0.        ],\n",
       "       [0.        , 0.        ],\n",
       "       [0.        , 0.03397109],\n",
       "       [0.        , 1.1362875 ],\n",
       "       [0.        , 0.        ],\n",
       "       [0.        , 1.3847395 ],\n",
       "       [0.        , 1.0952741 ],\n",
       "       [0.        , 0.05729026],\n",
       "       [0.        , 0.        ],\n",
       "       [0.        , 1.2393686 ],\n",
       "       [0.        , 0.13151276],\n",
       "       [0.        , 1.1637805 ],\n",
       "       [0.        , 0.02706077],\n",
       "       [0.        , 1.0968205 ],\n",
       "       [0.        , 0.9944556 ],\n",
       "       [0.        , 0.85259163],\n",
       "       [0.        , 0.9782715 ],\n",
       "       [0.        , 0.        ],\n",
       "       [0.        , 1.0815285 ],\n",
       "       [0.        , 1.3825829 ],\n",
       "       [0.        , 0.0442046 ],\n",
       "       [0.        , 0.        ],\n",
       "       [0.        , 1.1192992 ],\n",
       "       [0.        , 1.1554127 ],\n",
       "       [0.        , 1.0257593 ],\n",
       "       [0.        , 0.        ],\n",
       "       [0.        , 0.        ],\n",
       "       [0.        , 0.        ],\n",
       "       [0.        , 0.        ],\n",
       "       [0.        , 1.2285303 ],\n",
       "       [0.        , 1.2425067 ],\n",
       "       [0.        , 0.        ],\n",
       "       [0.        , 0.10148815],\n",
       "       [0.        , 1.1805938 ],\n",
       "       [0.        , 1.1047382 ],\n",
       "       [0.        , 1.1920317 ],\n",
       "       [0.        , 0.900302  ],\n",
       "       [0.        , 1.1422641 ],\n",
       "       [0.        , 0.09450468],\n",
       "       [0.        , 1.1042234 ],\n",
       "       [0.        , 0.        ],\n",
       "       [0.        , 1.0611118 ],\n",
       "       [0.        , 0.06485344],\n",
       "       [0.        , 0.        ],\n",
       "       [0.        , 0.        ],\n",
       "       [0.        , 0.        ],\n",
       "       [0.        , 0.08778457],\n",
       "       [0.        , 0.04922844],\n",
       "       [0.        , 0.03614456],\n",
       "       [0.        , 1.1022202 ],\n",
       "       [0.        , 1.1030152 ],\n",
       "       [0.        , 1.0089197 ],\n",
       "       [0.        , 0.9920466 ],\n",
       "       [0.        , 1.1705855 ],\n",
       "       [0.        , 0.9250375 ],\n",
       "       [0.        , 0.11266208],\n",
       "       [0.        , 1.0866272 ],\n",
       "       [0.        , 0.        ],\n",
       "       [0.        , 0.        ],\n",
       "       [0.        , 0.0512751 ],\n",
       "       [0.        , 1.2219394 ],\n",
       "       [0.        , 1.0736616 ],\n",
       "       [0.        , 1.0615897 ],\n",
       "       [0.        , 0.12450344],\n",
       "       [0.        , 0.        ],\n",
       "       [0.        , 0.        ],\n",
       "       [0.        , 0.08104161],\n",
       "       [0.        , 0.        ],\n",
       "       [0.        , 1.1938856 ],\n",
       "       [0.        , 0.22296941],\n",
       "       [0.        , 0.05151551],\n",
       "       [0.        , 0.        ],\n",
       "       [0.        , 1.2490401 ],\n",
       "       [0.        , 1.062708  ],\n",
       "       [0.        , 0.00424451],\n",
       "       [0.        , 1.1504626 ],\n",
       "       [0.        , 0.8715787 ],\n",
       "       [0.        , 0.20092994],\n",
       "       [0.        , 1.2124692 ],\n",
       "       [0.        , 1.126901  ],\n",
       "       [0.        , 1.1906117 ],\n",
       "       [0.        , 1.0482934 ],\n",
       "       [0.        , 0.14684033],\n",
       "       [0.        , 1.3317014 ],\n",
       "       [0.        , 1.0020838 ],\n",
       "       [0.        , 0.00177398],\n",
       "       [0.        , 1.105378  ],\n",
       "       [0.        , 1.0921576 ],\n",
       "       [0.        , 0.        ],\n",
       "       [0.        , 0.        ],\n",
       "       [0.        , 0.05968418],\n",
       "       [0.        , 0.09738497],\n",
       "       [0.        , 0.        ],\n",
       "       [0.        , 1.2740773 ],\n",
       "       [0.        , 1.088292  ],\n",
       "       [0.        , 1.0491159 ],\n",
       "       [0.        , 1.3609303 ],\n",
       "       [0.        , 0.9530363 ],\n",
       "       [0.        , 0.19911683],\n",
       "       [0.        , 0.09836336],\n",
       "       [0.        , 1.1512662 ],\n",
       "       [0.        , 0.94282174],\n",
       "       [0.        , 0.07243279],\n",
       "       [0.        , 1.1346784 ],\n",
       "       [0.        , 0.        ],\n",
       "       [0.        , 0.09826782],\n",
       "       [0.        , 1.0277839 ],\n",
       "       [0.        , 1.032396  ],\n",
       "       [0.        , 1.1040839 ],\n",
       "       [0.        , 0.16816494],\n",
       "       [0.        , 0.        ],\n",
       "       [0.        , 0.09670452],\n",
       "       [0.        , 0.07106283],\n",
       "       [0.        , 0.        ],\n",
       "       [0.        , 0.07894585],\n",
       "       [0.        , 1.1064625 ],\n",
       "       [0.        , 1.2773286 ],\n",
       "       [0.        , 0.        ],\n",
       "       [0.        , 0.18957171],\n",
       "       [0.        , 0.0113203 ],\n",
       "       [0.        , 0.0233428 ],\n",
       "       [0.        , 0.13323995],\n",
       "       [0.        , 0.        ],\n",
       "       [0.        , 0.13374475],\n",
       "       [0.        , 0.99106205],\n",
       "       [0.        , 1.1213171 ],\n",
       "       [0.        , 0.92067194],\n",
       "       [0.        , 1.0559354 ],\n",
       "       [0.        , 0.1057683 ],\n",
       "       [0.        , 0.07337711],\n",
       "       [0.        , 0.0939687 ],\n",
       "       [0.        , 0.0429742 ],\n",
       "       [0.        , 0.09187113],\n",
       "       [0.        , 1.1167866 ],\n",
       "       [0.        , 1.2387689 ],\n",
       "       [0.        , 0.03541439],\n",
       "       [0.        , 0.        ],\n",
       "       [0.        , 0.        ],\n",
       "       [0.        , 0.        ],\n",
       "       [0.        , 0.04857694],\n",
       "       [0.        , 0.06014445],\n",
       "       [0.        , 1.1096002 ],\n",
       "       [0.        , 1.1871922 ],\n",
       "       [0.        , 0.09423716],\n",
       "       [0.        , 0.03011303],\n",
       "       [0.        , 1.1031512 ],\n",
       "       [0.        , 0.850765  ],\n",
       "       [0.        , 0.15548465],\n",
       "       [0.        , 0.        ],\n",
       "       [0.        , 1.0069131 ],\n",
       "       [0.        , 0.        ],\n",
       "       [0.        , 1.1270615 ],\n",
       "       [0.        , 1.2517916 ],\n",
       "       [0.        , 0.22222719],\n",
       "       [0.        , 1.1872193 ],\n",
       "       [0.        , 1.2919884 ],\n",
       "       [0.        , 1.0238999 ],\n",
       "       [0.        , 0.17287654],\n",
       "       [0.        , 0.9637153 ],\n",
       "       [0.        , 0.07340569],\n",
       "       [0.        , 0.21323109],\n",
       "       [0.        , 1.0310247 ],\n",
       "       [0.        , 1.3543587 ],\n",
       "       [0.        , 1.2901132 ],\n",
       "       [0.        , 0.        ],\n",
       "       [0.        , 1.0305858 ],\n",
       "       [0.        , 0.15439814],\n",
       "       [0.        , 0.08197091],\n",
       "       [0.        , 1.2288263 ],\n",
       "       [0.        , 1.0800569 ],\n",
       "       [0.        , 1.0635499 ],\n",
       "       [0.        , 1.1223335 ],\n",
       "       [0.        , 0.15757051],\n",
       "       [0.        , 0.99389267],\n",
       "       [0.        , 1.1973509 ],\n",
       "       [0.        , 0.        ],\n",
       "       [0.        , 1.1210582 ],\n",
       "       [0.        , 0.02501985],\n",
       "       [0.        , 0.2262564 ],\n",
       "       [0.        , 1.1148582 ],\n",
       "       [0.        , 0.09271025],\n",
       "       [0.        , 0.9542371 ],\n",
       "       [0.        , 0.12276242],\n",
       "       [0.        , 0.1389128 ],\n",
       "       [0.        , 0.97705007],\n",
       "       [0.        , 0.08371771],\n",
       "       [0.        , 1.1759585 ],\n",
       "       [0.        , 0.        ],\n",
       "       [0.        , 0.10283449],\n",
       "       [0.        , 0.        ],\n",
       "       [0.        , 0.09130333],\n",
       "       [0.        , 1.1396213 ],\n",
       "       [0.        , 1.1315095 ],\n",
       "       [0.        , 0.        ],\n",
       "       [0.        , 1.1408074 ],\n",
       "       [0.        , 0.13814712],\n",
       "       [0.        , 1.3243088 ],\n",
       "       [0.        , 1.1210122 ],\n",
       "       [0.        , 0.12112284],\n",
       "       [0.        , 0.8288884 ],\n",
       "       [0.        , 0.88654613],\n",
       "       [0.        , 1.0408273 ],\n",
       "       [0.        , 0.        ],\n",
       "       [0.        , 1.196493  ],\n",
       "       [0.        , 0.87181246],\n",
       "       [0.        , 0.        ],\n",
       "       [0.        , 0.17785797],\n",
       "       [0.        , 0.06031377],\n",
       "       [0.        , 0.06880061],\n",
       "       [0.        , 0.9467795 ],\n",
       "       [0.        , 0.08663066],\n",
       "       [0.        , 0.0982075 ],\n",
       "       [0.        , 0.        ],\n",
       "       [0.        , 1.0830654 ],\n",
       "       [0.        , 0.9657624 ],\n",
       "       [0.        , 1.1927044 ],\n",
       "       [0.        , 0.9790778 ],\n",
       "       [0.        , 0.9549141 ],\n",
       "       [0.        , 0.14630434],\n",
       "       [0.        , 0.        ],\n",
       "       [0.        , 1.2245015 ],\n",
       "       [0.        , 1.1369746 ],\n",
       "       [0.        , 0.1377213 ],\n",
       "       [0.        , 0.12332305],\n",
       "       [0.        , 0.96661675],\n",
       "       [0.        , 1.1640389 ],\n",
       "       [0.        , 1.3016851 ],\n",
       "       [0.        , 0.15098232],\n",
       "       [0.        , 1.3886818 ],\n",
       "       [0.        , 0.95412755],\n",
       "       [0.        , 0.        ],\n",
       "       [0.        , 0.97861385],\n",
       "       [0.        , 0.04857337],\n",
       "       [0.        , 1.2389233 ],\n",
       "       [0.        , 1.2116654 ],\n",
       "       [0.        , 1.1288606 ],\n",
       "       [0.        , 0.0309903 ],\n",
       "       [0.        , 1.2450176 ],\n",
       "       [0.        , 0.8754474 ],\n",
       "       [0.        , 1.0114723 ],\n",
       "       [0.        , 0.        ],\n",
       "       [0.        , 0.        ],\n",
       "       [0.        , 1.0720636 ],\n",
       "       [0.        , 1.1974816 ],\n",
       "       [0.        , 0.19964018],\n",
       "       [0.        , 0.        ],\n",
       "       [0.        , 1.2950372 ],\n",
       "       [0.        , 1.210509  ],\n",
       "       [0.        , 1.039707  ],\n",
       "       [0.        , 0.85951525],\n",
       "       [0.        , 1.0533216 ],\n",
       "       [0.        , 0.        ],\n",
       "       [0.        , 0.1221584 ],\n",
       "       [0.        , 0.9584154 ],\n",
       "       [0.        , 1.0573354 ],\n",
       "       [0.        , 1.0145321 ],\n",
       "       [0.        , 0.        ],\n",
       "       [0.        , 0.01304016],\n",
       "       [0.        , 1.2395921 ],\n",
       "       [0.        , 0.27450463],\n",
       "       [0.        , 0.        ],\n",
       "       [0.        , 0.        ],\n",
       "       [0.        , 0.05328704],\n",
       "       [0.        , 1.2180185 ],\n",
       "       [0.        , 0.        ],\n",
       "       [0.        , 0.2195842 ],\n",
       "       [0.        , 0.15224934],\n",
       "       [0.        , 1.0261011 ],\n",
       "       [0.        , 1.1254882 ],\n",
       "       [0.        , 0.0726353 ],\n",
       "       [0.        , 1.1096542 ],\n",
       "       [0.        , 0.16395831],\n",
       "       [0.        , 0.        ],\n",
       "       [0.        , 0.09388835],\n",
       "       [0.        , 1.2320796 ],\n",
       "       [0.        , 0.990008  ],\n",
       "       [0.        , 0.99511206],\n",
       "       [0.        , 1.1596833 ],\n",
       "       [0.        , 0.11537208],\n",
       "       [0.        , 1.0997945 ],\n",
       "       [0.        , 0.04050871],\n",
       "       [0.        , 0.        ],\n",
       "       [0.        , 0.8566823 ],\n",
       "       [0.        , 1.0744879 ],\n",
       "       [0.        , 0.        ],\n",
       "       [0.        , 0.        ],\n",
       "       [0.        , 1.0148733 ],\n",
       "       [0.        , 0.13197201],\n",
       "       [0.        , 0.10216343],\n",
       "       [0.        , 1.1979369 ],\n",
       "       [0.        , 0.        ],\n",
       "       [0.        , 0.89596987],\n",
       "       [0.        , 1.1277364 ],\n",
       "       [0.        , 0.04762173],\n",
       "       [0.        , 0.06080622],\n",
       "       [0.        , 0.01760805],\n",
       "       [0.        , 1.1268644 ]], dtype=float32)"
      ]
     },
     "execution_count": 31,
     "metadata": {},
     "output_type": "execute_result"
    }
   ],
   "source": [
    "encoded_2dim"
   ]
  },
  {
   "cell_type": "code",
   "execution_count": 32,
   "metadata": {},
   "outputs": [
    {
     "data": {
      "text/plain": [
       "<matplotlib.collections.PathCollection at 0x1f90f0f11c8>"
      ]
     },
     "execution_count": 32,
     "metadata": {},
     "output_type": "execute_result"
    },
    {
     "data": {
      "image/png": "[encoded data removed]",
      "text/plain": [
       "<Figure size 432x288 with 1 Axes>"
      ]
     },
     "metadata": {
      "needs_background": "light"
     },
     "output_type": "display_data"
    }
   ],
   "source": [
    "plt.scatter(encoded_2dim[:,0],encoded_2dim[:,1],c=y)"
   ]
  },
  {
   "cell_type": "code",
   "execution_count": null,
   "metadata": {},
   "outputs": [],
   "source": []
  },
  {
   "cell_type": "code",
   "execution_count": null,
   "metadata": {},
   "outputs": [],
   "source": []
  }
 ],
 "metadata": {
  "kernelspec": {
   "display_name": "Python 3",
   "language": "python",
   "name": "python3"
  },
  "language_info": {
   "codemirror_mode": {
    "name": "ipython",
    "version": 3
   },
   "file_extension": ".py",
   "mimetype": "text/x-python",
   "name": "python",
   "nbconvert_exporter": "python",
   "pygments_lexer": "ipython3",
   "version": "3.7.5"
  }
 },
 "nbformat": 4,
 "nbformat_minor": 2
}
