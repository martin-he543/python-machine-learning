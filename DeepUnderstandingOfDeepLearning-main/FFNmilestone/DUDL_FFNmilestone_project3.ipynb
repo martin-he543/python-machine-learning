{
 "nbformat": 4,
 "nbformat_minor": 0,
 "metadata": {
  "colab": {
   "name": "DUDL_FFNmilestone_project3.ipynb",
   "provenance": [
    {
     "file_id": "1MT-PgtDVK5b5d7xicm6ve0PgQQx8GO0l",
     "timestamp": 1619117464681
    },
    {
     "file_id": "1iKQU7riib5sbenxTvmpXe8EI5N79sdAV",
     "timestamp": 1617347503971
    },
    {
     "file_id": "1ZD_ADbh6qrlHE16V7Yc8VF9Vrn2c6bMQ",
     "timestamp": 1617047906157
    }
   ],
   "collapsed_sections": [],
   "authorship_tag": "ABX9TyNP+339WJ0t95qTpL/jgKIL"
  },
  "kernelspec": {
   "name": "python3",
   "display_name": "Python 3"
  },
  "language_info": {
   "name": "python"
  }
 },
 "cells": [
  {
   "cell_type": "markdown",
   "metadata": {
    "id": "bhWV8oes-wKR"
   },
   "source": [
    "# COURSE: A deep understanding of deep learning\n",
    "## SECTION: FFN milestone projects\n",
    "### LECTURE: Project 3: FFN for missing data interpolation\n",
    "#### TEACHER: Mike X Cohen, sincxpress.com\n",
    "##### COURSE URL: udemy.com/course/deeplearning_x/?couponCode=202401"
   ]
  },
  {
   "cell_type": "code",
   "metadata": {
    "id": "7U3TmybM4yMw"
   },
   "source": [
    "### import libraries\n",
    "\n",
    "# for DL modeling\n",
    "import torch\n",
    "import torch.nn as nn\n",
    "import torch.nn.functional as F\n",
    "from torch.utils.data import DataLoader,TensorDataset\n",
    "\n",
    "# for number-crunching\n",
    "import numpy as np\n",
    "\n",
    "import copy\n",
    "\n",
    "# for dataset management\n",
    "import pandas as pd\n",
    "\n",
    "# for data visualization\n",
    "import matplotlib.pyplot as plt\n",
    "from IPython.display import set_matplotlib_formats\n",
    "set_matplotlib_formats('svg')\n",
    "import seaborn as sns"
   ],
   "execution_count": null,
   "outputs": []
  },
  {
   "cell_type": "markdown",
   "metadata": {
    "id": "2anVFzBXGdwH"
   },
   "source": [
    "# Import and process the data"
   ]
  },
  {
   "cell_type": "code",
   "metadata": {
    "id": "0ohXIxzt4_U2"
   },
   "source": [
    "# import the data\n",
    "url  = \"https://archive.ics.uci.edu/ml/machine-learning-databases/wine-quality/winequality-red.csv\"\n",
    "data = pd.read_csv(url,sep=';')\n",
    "\n",
    "# z-score all columns\n",
    "data = (data - data.mean())/data.std(ddof=1)\n",
    "\n",
    "# save a copy of the data (because we'll replace some values with nan's below)\n",
    "dataOrig = copy.deepcopy( data )"
   ],
   "execution_count": null,
   "outputs": []
  },
  {
   "cell_type": "markdown",
   "metadata": {
    "id": "8ehQu_k47iEV"
   },
   "source": [
    "# Replace some elements with NaN"
   ]
  },
  {
   "cell_type": "code",
   "metadata": {
    "id": "qu2K5cUi70JK"
   },
   "source": [
    "# number of data points to set missing\n",
    "n2nan = 10\n",
    "\n",
    "# pick n random rows to set to nan \n",
    "# (note: in the video I don't have replace=False, which means it's possible to select the same values twice)\n",
    "whichVals2nan = np.random.choice(range(len(data)),size=n2nan,replace=False)\n",
    "\n",
    "# set those values to be nan (safe to ignore the overwrite warning)\n",
    "data['residual sugar'][whichVals2nan] = np.nan\n",
    "\n",
    "# for splitting the data, it will be helpful to have a vector of all real-valued rows\n",
    "whichValsNotNan = np.where(~data['residual sugar'].isna())[0]\n",
    "\n",
    "# confirm\n",
    "print(np.sort(whichVals2nan))\n",
    "print(np.where(data['residual sugar'].isna())[0])"
   ],
   "execution_count": null,
   "outputs": []
  },
  {
   "cell_type": "markdown",
   "metadata": {
    "id": "vGQd7xmM5Gns"
   },
   "source": [
    "# Re-organize the data: train/test in DataLoaders"
   ]
  },
  {
   "cell_type": "code",
   "metadata": {
    "id": "2kZ6YPe8Gav5"
   },
   "source": [
    "# convert from pandas dataframe to tensor\n",
    "\n",
    "# vector with residual sugar dropped, for training data\n",
    "cols2keep = data.keys()\n",
    "cols2keep = cols2keep.drop('residual sugar')\n",
    "\n",
    "# extract dataframe to TRAIN tensors\n",
    "train_dataT  = torch.tensor( data[cols2keep].values ).float()\n",
    "train_dataT  = train_dataT[whichValsNotNan,:]\n",
    "train_labelT = torch.tensor( data['residual sugar'].values ).float()\n",
    "train_labelT = train_labelT[whichValsNotNan,None] # the 'None' is transform to matrix\n",
    "\n",
    "\n",
    "# same for TEST tensors\n",
    "test_dataT  = torch.tensor( dataOrig[cols2keep].values ).float()\n",
    "test_dataT  = test_dataT[whichVals2nan,:]\n",
    "test_labelT = torch.tensor( dataOrig['residual sugar'].values ).float()\n",
    "test_labelT = test_labelT[whichVals2nan,None] # the 'None' is transform to matrix\n",
    "\n",
    "# confirm sizes\n",
    "print(f'Original data: {data.shape}\\n')\n",
    "print(f'   Train data: {train_dataT.shape}\\n')\n",
    "print(f' Train labels: {train_labelT.shape}\\n')\n",
    "print(f'    Test data: {test_dataT.shape}\\n')\n",
    "print(f'  Test labels: {test_labelT.shape}')"
   ],
   "execution_count": null,
   "outputs": []
  },
  {
   "cell_type": "code",
   "metadata": {
    "id": "bbf064xxGa_x"
   },
   "source": [
    "# then convert them into PyTorch Dataset\n",
    "train_dataDataset = TensorDataset(train_dataT,train_labelT)\n",
    "\n",
    "# finally, translate into dataloader objects\n",
    "batchsize  = 32\n",
    "train_data = DataLoader(train_dataDataset,batch_size=batchsize,shuffle=True,drop_last=True)\n",
    "\n",
    "# note: we don't need a TEST dataloader; we'll just pass along the test tensor after training"
   ],
   "execution_count": null,
   "outputs": []
  },
  {
   "cell_type": "markdown",
   "metadata": {
    "id": "I7g0mivk5GqP"
   },
   "source": [
    "# Now for the DL part"
   ]
  },
  {
   "cell_type": "code",
   "metadata": {
    "id": "N0vAnQi9DNRa"
   },
   "source": [
    "# create a class for the model\n",
    "\n",
    "class ANNwine(nn.Module):\n",
    "  def __init__(self):\n",
    "    super().__init__()\n",
    "\n",
    "    ### input layer\n",
    "    self.input = nn.Linear(11,16)\n",
    "    \n",
    "    ### hidden layers\n",
    "    self.fc1 = nn.Linear(16,32)\n",
    "    self.fc2 = nn.Linear(32,32)\n",
    "\n",
    "    ### output layer\n",
    "    self.output = nn.Linear(32,1)\n",
    "  \n",
    "  # forward pass\n",
    "  def forward(self,x):\n",
    "    x = F.relu( self.input(x) )\n",
    "    x = F.relu( self.fc1(x) )\n",
    "    x = F.relu( self.fc2(x) )\n",
    "    return self.output(x) "
   ],
   "execution_count": null,
   "outputs": []
  },
  {
   "cell_type": "markdown",
   "metadata": {
    "id": "IuCixgNfDMZS"
   },
   "source": [
    "# Train the model"
   ]
  },
  {
   "cell_type": "code",
   "metadata": {
    "id": "0XRPe56rGp2k"
   },
   "source": [
    "# a function that trains the model\n",
    "\n",
    "# global parameter\n",
    "numepochs = 400\n",
    "\n",
    "def trainTheModel():\n",
    "\n",
    "  # loss function and optimizer\n",
    "  lossfun = nn.MSELoss()\n",
    "  optimizer = torch.optim.Adam(winenet.parameters(),lr=.01)\n",
    "\n",
    "  # initialize losses\n",
    "  trainLoss = torch.zeros(numepochs)\n",
    "\n",
    "  # loop over epochs\n",
    "  for epochi in range(numepochs):\n",
    "\n",
    "    # loop over training data batches\n",
    "    batchLoss = []\n",
    "    for X,y in train_data:\n",
    "\n",
    "      # forward pass and loss\n",
    "      yHat = winenet(X)\n",
    "      loss = lossfun(yHat,y)\n",
    "\n",
    "      # backprop\n",
    "      optimizer.zero_grad()\n",
    "      loss.backward()\n",
    "      optimizer.step()\n",
    "\n",
    "      # loss from this batch\n",
    "      batchLoss.append(loss.item())\n",
    "    # end of batch loop...\n",
    "\n",
    "    # get average losses across the batches\n",
    "    trainLoss[epochi] = np.mean(batchLoss)\n",
    "  \n",
    "  # function output\n",
    "  return trainLoss"
   ],
   "execution_count": null,
   "outputs": []
  },
  {
   "cell_type": "code",
   "metadata": {
    "id": "oL7EqhYjGp51"
   },
   "source": [
    "# create a model and train it\n",
    "winenet = ANNwine()\n",
    "trainLoss = trainTheModel()"
   ],
   "execution_count": null,
   "outputs": []
  },
  {
   "cell_type": "code",
   "metadata": {
    "id": "pAbIS6KCX0Jt"
   },
   "source": [
    "# get the predictions for the missing data\n",
    "yHatTrain = winenet(train_dataT)\n",
    "yHatTest  = winenet(test_dataT)"
   ],
   "execution_count": null,
   "outputs": []
  },
  {
   "cell_type": "code",
   "metadata": {
    "id": "_7mAB4utDMeh"
   },
   "source": [
    "# plot some results\n",
    "fig,ax = plt.subplots(1,2,figsize=(17,6))\n",
    "\n",
    "ax[0].plot(trainLoss,label='Train loss')\n",
    "ax[0].set_title('Train/Test loss')\n",
    "ax[0].set_xlabel('Epoch')\n",
    "ax[0].set_ylabel('Loss')\n",
    "ax[0].legend()\n",
    "ax[0].grid()\n",
    "\n",
    "\n",
    "ax[1].plot(yHatTrain.detach(),train_labelT,'ro')\n",
    "ax[1].plot(yHatTest.detach(),test_labelT,'b^')\n",
    "ax[1].set_xlabel('Model-predicted sugar')\n",
    "ax[1].set_ylabel('True sugar')\n",
    "ax[1].set_title('Model predictions vs. observations')\n",
    "\n",
    "# correlations between predictions and outputs\n",
    "corrTrain = np.corrcoef(yHatTrain.detach().T,train_labelT.T)[1,0]\n",
    "corrTest  = np.corrcoef(yHatTest.detach().T, test_labelT.T)[1,0]\n",
    "ax[1].legend([ f'Train r={corrTrain:.3f}',f'Test r={corrTest:.3f}' ])\n",
    "\n",
    "plt.show()"
   ],
   "execution_count": null,
   "outputs": []
  },
  {
   "cell_type": "code",
   "metadata": {
    "id": "3_QCT5V0LqWO"
   },
   "source": [
    ""
   ],
   "execution_count": null,
   "outputs": []
  },
  {
   "cell_type": "code",
   "metadata": {
    "id": "4q0b_2Pdh72w"
   },
   "source": [
    ""
   ],
   "execution_count": null,
   "outputs": []
  }
 ]
}