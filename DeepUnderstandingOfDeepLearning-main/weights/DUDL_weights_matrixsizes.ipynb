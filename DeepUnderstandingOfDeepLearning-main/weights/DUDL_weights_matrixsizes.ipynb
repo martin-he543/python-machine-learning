{
 "nbformat": 4,
 "nbformat_minor": 0,
 "metadata": {
  "colab": {
   "name": "DUDL_weights_matrixsizes.ipynb",
   "provenance": [
    {
     "file_id": "10_geQnah5AvMsm8VDAQwNPhypOXradar",
     "timestamp": 1619420451667
    },
    {
     "file_id": "1FtQ99beHYcDFDywLdaPgFm-KjBeI8PvD",
     "timestamp": 1615877547147
    }
   ],
   "collapsed_sections": [],
   "authorship_tag": "ABX9TyP9SNH3ckSFTyepnrN3b2L4"
  },
  "kernelspec": {
   "name": "python3",
   "display_name": "Python 3"
  }
 },
 "cells": [
  {
   "cell_type": "markdown",
   "metadata": {
    "id": "bhWV8oes-wKR"
   },
   "source": [
    "# COURSE: A deep understanding of deep learning\n",
    "## SECTION: Weight inits and investigations\n",
    "### LECTURE: Explanation of weight matrix sizes\n",
    "#### TEACHER: Mike X Cohen, sincxpress.com\n",
    "##### COURSE URL: udemy.com/course/deeplearning_x/?couponCode=202401"
   ]
  },
  {
   "cell_type": "code",
   "metadata": {
    "id": "j7-LiwqUMGYL"
   },
   "source": [
    "# import libraries\n",
    "import torch\n",
    "import torch.nn as nn"
   ],
   "execution_count": null,
   "outputs": []
  },
  {
   "cell_type": "markdown",
   "metadata": {
    "id": "y7sPkqG8ATnz"
   },
   "source": [
    "# Create a model and inspect its weight matrices sizes"
   ]
  },
  {
   "cell_type": "code",
   "metadata": {
    "id": "krQeh5wYMNla"
   },
   "source": [
    "# build a model\n",
    "aModel = nn.Sequential(\n",
    "    nn.Linear(10,14),  # input layer\n",
    "    nn.Linear(14,19),  # hidden layer\n",
    "    nn.Linear(19,8),   # output layer\n",
    "      )\n",
    "\n",
    "aModel"
   ],
   "execution_count": null,
   "outputs": []
  },
  {
   "cell_type": "code",
   "metadata": {
    "id": "YTHj0h7GEVMq"
   },
   "source": [
    "# print the sizes of the weights matrices in each layer\n",
    "for i in range(len(aModel)):\n",
    "  print( aModel[i].weight.shape )"
   ],
   "execution_count": null,
   "outputs": []
  },
  {
   "cell_type": "markdown",
   "metadata": {
    "id": "DGMwd5TCAZwr"
   },
   "source": [
    "# Build a model with inconsistent layer shapes"
   ]
  },
  {
   "cell_type": "code",
   "metadata": {
    "id": "sEMW2hT1_aTm"
   },
   "source": [
    "M2 = nn.Sequential(\n",
    "    nn.Linear(10,14),  # input layer\n",
    "    nn.Linear(14,9),   # hidden layer\n",
    "    nn.Linear(19,8),   # output layer\n",
    "      )\n",
    "\n",
    "for i in range(len(M2)):\n",
    "  print( M2[i].weight.shape )"
   ],
   "execution_count": null,
   "outputs": []
  },
  {
   "cell_type": "markdown",
   "metadata": {
    "id": "wwhD7qwnAbUz"
   },
   "source": [
    "# Test both models with fake data"
   ]
  },
  {
   "cell_type": "code",
   "metadata": {
    "id": "Gux-Zj2NAA60"
   },
   "source": [
    "# generate the data\n",
    "nsamples = 5\n",
    "nfeatures = 10\n",
    "\n",
    "fakedata = torch.randn(nsamples,nfeatures)"
   ],
   "execution_count": null,
   "outputs": []
  },
  {
   "cell_type": "code",
   "metadata": {
    "id": "HeYXIgQEAf03"
   },
   "source": [
    "# test the first model\n",
    "\n",
    "# does the size of the output make sense?\n",
    "aModel(fakedata).shape"
   ],
   "execution_count": null,
   "outputs": []
  },
  {
   "cell_type": "code",
   "metadata": {
    "id": "DutcYnW2AgA3"
   },
   "source": [
    "# test the second model\n",
    "\n",
    "# does the size of the output make sense?\n",
    "M2(fakedata).shape"
   ],
   "execution_count": null,
   "outputs": []
  },
  {
   "cell_type": "code",
   "metadata": {
    "id": "_mSUBBkdAgGK"
   },
   "source": [
    ""
   ],
   "execution_count": null,
   "outputs": []
  }
 ]
}