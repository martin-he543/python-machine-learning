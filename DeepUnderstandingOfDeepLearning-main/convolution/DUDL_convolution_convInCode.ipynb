{
 "nbformat": 4,
 "nbformat_minor": 0,
 "metadata": {
  "colab": {
   "name": "DUDL_convolution_convInCode.ipynb",
   "provenance": [
    {
     "file_id": "19G9gTeBlYPQ-s3VS_3K2bVFtKTP344j6",
     "timestamp": 1619444797767
    },
    {
     "file_id": "1FcEBC0NAESIlHQkv6_85R-XDUKGE8XbM",
     "timestamp": 1619155961717
    },
    {
     "file_id": "1qKgZ8kVcqNgwtBzHbWq5yJH_HqI6DxWW",
     "timestamp": 1617803880910
    },
    {
     "file_id": "15cpyHkJ435B4MqbyGjAH1poN4nCy_DE4",
     "timestamp": 1617737766196
    },
    {
     "file_id": "1OLuWuaFu0hcFgkQ2hh5BqbRuqUZD7XcQ",
     "timestamp": 1617734878578
    },
    {
     "file_id": "1XvzVGJPTJifVh8OpZVB7ykLxyUqYwQ1j",
     "timestamp": 1617196833019
    },
    {
     "file_id": "1bv1_y32e3KEExFKKlPfC3rpw1JxmBr8H",
     "timestamp": 1617124341706
    },
    {
     "file_id": "1GMq8u7KyHB2AE7Teyls9gK1T01OduQSn",
     "timestamp": 1616697516760
    },
    {
     "file_id": "1Ui3kyHim-e0XLgDs2mkBxVlYg7TKYtcg",
     "timestamp": 1616615469755
    },
    {
     "file_id": "1YpHocGI4rApOxIBb1ZghCU5L-hFnv4CK",
     "timestamp": 1616608248670
    }
   ],
   "collapsed_sections": [],
   "authorship_tag": "ABX9TyMagB6alg0xsCFP6lLVJBp1"
  },
  "kernelspec": {
   "name": "python3",
   "display_name": "Python 3"
  }
 },
 "cells": [
  {
   "cell_type": "markdown",
   "metadata": {
    "id": "bhWV8oes-wKR"
   },
   "source": [
    "# COURSE: A deep understanding of deep learning\n",
    "## SECTION: Convolution and transformations\n",
    "### LECTURE: Convolution in code\n",
    "#### TEACHER: Mike X Cohen, sincxpress.com\n",
    "##### COURSE URL: udemy.com/course/deeplearning_x/?couponCode=202401"
   ]
  },
  {
   "cell_type": "code",
   "metadata": {
    "id": "YeuAheYyhdZw"
   },
   "source": [
    "# import libraries\n",
    "import numpy as np\n",
    "\n",
    "# convolution\n",
    "from scipy.signal import convolve2d\n",
    "\n",
    "# to read an image from a url\n",
    "from imageio import imread\n",
    "\n",
    "import matplotlib.pyplot as plt\n",
    "import matplotlib_inline.backend_inline\n",
    "matplotlib_inline.backend_inline.set_matplotlib_formats('svg')"
   ],
   "execution_count": null,
   "outputs": []
  },
  {
   "cell_type": "markdown",
   "metadata": {
    "id": "0HOkOefftqyg"
   },
   "source": [
    "# Manual 2D convolution in numpy/scipy"
   ]
  },
  {
   "cell_type": "code",
   "metadata": {
    "id": "MU7rvmWuhjud"
   },
   "source": [
    "# image\n",
    "imgN = 20\n",
    "image = np.random.randn(imgN,imgN)\n",
    "\n",
    "# convolution kernel\n",
    "kernelN = 7\n",
    "Y,X = np.meshgrid(np.linspace(-3,3,kernelN),np.linspace(-3,3,kernelN))\n",
    "kernel = np.exp( -(X**2+Y**2)/7 )\n",
    "\n",
    "\n",
    "# let's see what they look like\n",
    "fig,ax = plt.subplots(1,2,figsize=(8,6))\n",
    "ax[0].imshow(image)\n",
    "ax[0].set_title('Image')\n",
    "\n",
    "ax[1].imshow(kernel)\n",
    "ax[1].set_title('Convolution kernel')\n",
    "\n",
    "plt.show()"
   ],
   "execution_count": null,
   "outputs": []
  },
  {
   "cell_type": "code",
   "metadata": {
    "id": "NhN7RYqYd915"
   },
   "source": [
    "# now for the convolution\n",
    "convoutput = np.zeros((imgN,imgN))\n",
    "halfKr = kernelN//2\n",
    "\n",
    "for rowi in range(halfKr,imgN-halfKr):\n",
    "  for coli in range(halfKr,imgN-halfKr):\n",
    "\n",
    "    # cut out a piece of the image\n",
    "    pieceOfImg = image[rowi-halfKr:rowi+halfKr+1,:]      # get the rows\n",
    "    pieceOfImg = pieceOfImg[:,coli-halfKr:coli+halfKr+1] # extract the columns\n",
    "\n",
    "    # dot product: element-wise multiply and sum (and flip the kernel for \"real convolution\")\n",
    "    dotprod = np.sum( pieceOfImg*kernel[::-1,::-1] )\n",
    "\n",
    "    # store the result for this pixel\n",
    "    convoutput[rowi,coli] = dotprod"
   ],
   "execution_count": null,
   "outputs": []
  },
  {
   "cell_type": "code",
   "metadata": {
    "id": "vMUjZ5E8YQpV"
   },
   "source": [
    "# using scipy\n",
    "convoutput2 = convolve2d(image,kernel,mode='valid')"
   ],
   "execution_count": null,
   "outputs": []
  },
  {
   "cell_type": "code",
   "metadata": {
    "id": "hMpyFzF-d95B"
   },
   "source": [
    "fig,ax = plt.subplots(2,2,figsize=(8,8))\n",
    "\n",
    "ax[0,0].imshow(image)\n",
    "ax[0,0].set_title('Image')\n",
    "\n",
    "ax[0,1].imshow(kernel)\n",
    "ax[0,1].set_title('Convolution kernel')\n",
    "\n",
    "ax[1,0].imshow(convoutput)\n",
    "ax[1,0].set_title('Manual convolution')\n",
    "\n",
    "ax[1,1].imshow(convoutput2)\n",
    "ax[1,1].set_title(\"Scipy's convolution\")\n",
    "\n",
    "plt.show()"
   ],
   "execution_count": null,
   "outputs": []
  },
  {
   "cell_type": "markdown",
   "metadata": {
    "id": "VAqVrcrGd98S"
   },
   "source": [
    "# Examples of convolution with different kernels in a real image"
   ]
  },
  {
   "cell_type": "code",
   "metadata": {
    "id": "BrGfeGmUiNUa"
   },
   "source": [
    "# read a pic from the web\n",
    "bathtub = imread('https://upload.wikimedia.org/wikipedia/commons/6/61/De_nieuwe_vleugel_van_het_Stedelijk_Museum_Amsterdam.jpg')\n",
    "\n",
    "# check the size\n",
    "print(bathtub.shape)\n",
    "\n",
    "# let's see what the famous Bathtub Museum looks like\n",
    "fig = plt.figure(figsize=(10,6))\n",
    "plt.imshow(bathtub);\n",
    "\n",
    "# transform image to 2D for convenience (not necessary for convolution!)\n",
    "bathtub = np.mean(bathtub,axis=2)\n",
    "bathtub = bathtub/np.max(bathtub)\n",
    "\n",
    "# check the size again\n",
    "print(bathtub.shape)"
   ],
   "execution_count": null,
   "outputs": []
  },
  {
   "cell_type": "code",
   "metadata": {
    "id": "9SnUUHPm7xQE"
   },
   "source": [
    "# hand-craft two convolution kernels\n",
    "\n",
    "# vertical kernel\n",
    "VK = np.array([ [1,0,-1],\n",
    "                [1,0,-1],\n",
    "                [1,0,-1] ])\n",
    "\n",
    "# horizontal kernel\n",
    "HK = np.array([ [ 1, 1, 1],\n",
    "                [ 0, 0, 0],\n",
    "                [-1,-1,-1] ])"
   ],
   "execution_count": null,
   "outputs": []
  },
  {
   "cell_type": "code",
   "metadata": {
    "id": "fCooGt9PiNb6"
   },
   "source": [
    "fig,ax = plt.subplots(2,2,figsize=(16,8))\n",
    "\n",
    "ax[0,0].imshow(VK)\n",
    "ax[0,0].set_title('Vertical kernel')\n",
    "\n",
    "ax[0,1].imshow(HK)\n",
    "ax[0,1].set_title('Horizontal kernel')\n",
    "\n",
    "\n",
    "# run convolution and show the result\n",
    "convres = convolve2d(bathtub,VK,mode='same')\n",
    "ax[1,0].imshow(convres,cmap='gray',vmin=0,vmax=.01)\n",
    "\n",
    "convres = convolve2d(bathtub,HK,mode='same')\n",
    "ax[1,1].imshow(convres,cmap='gray',vmin=0,vmax=.01)\n",
    "\n",
    "plt.show()"
   ],
   "execution_count": null,
   "outputs": []
  },
  {
   "cell_type": "markdown",
   "metadata": {
    "id": "o6yrsIt6iN6R"
   },
   "source": [
    "# Now in PyTorch"
   ]
  },
  {
   "cell_type": "code",
   "metadata": {
    "id": "TVXQlW-svDUE"
   },
   "source": [
    "# first, translate everything into a tensor\n",
    "import torch\n",
    "import torch.nn.functional as F\n",
    "\n",
    "VK_t = torch.tensor(VK).view(1,1,3,3).double()\n",
    "HK_t = torch.tensor(HK).view(1,1,3,3).double()\n",
    "bathtub_t = torch.tensor(bathtub).view(1,1,bathtub.shape[0],bathtub.shape[1])\n",
    "\n",
    "print(VK_t.shape)\n",
    "print(bathtub_t.shape)"
   ],
   "execution_count": null,
   "outputs": []
  },
  {
   "cell_type": "code",
   "metadata": {
    "id": "nViqoQuOvbZB"
   },
   "source": [
    "C = F.conv2d(bathtub_t,VK_t)\n",
    "print(C.shape)"
   ],
   "execution_count": null,
   "outputs": []
  },
  {
   "cell_type": "code",
   "metadata": {
    "id": "krSCIupgvGfS"
   },
   "source": [
    "fig,ax = plt.subplots(2,2,figsize=(16,8))\n",
    "\n",
    "ax[0,0].imshow(VK)\n",
    "ax[0,0].set_title('Vertical kernel')\n",
    "\n",
    "ax[0,1].imshow(HK)\n",
    "ax[0,1].set_title('Horizontal kernel')\n",
    "\n",
    "\n",
    "# run convolution and show the result\n",
    "convres = F.conv2d(bathtub_t,VK_t)\n",
    "img = torch.squeeze(convres.detach())\n",
    "ax[1,0].imshow(img,cmap='gray',vmin=0,vmax=.01)\n",
    "\n",
    "convres = F.conv2d(bathtub_t,HK_t)\n",
    "img = torch.squeeze(convres.detach())\n",
    "ax[1,1].imshow(img,cmap='gray',vmin=0,vmax=.01)\n",
    "\n",
    "plt.show()"
   ],
   "execution_count": null,
   "outputs": []
  },
  {
   "cell_type": "code",
   "metadata": {
    "id": "fgzyy0p6vDoz"
   },
   "source": [
    ""
   ],
   "execution_count": null,
   "outputs": []
  },
  {
   "cell_type": "markdown",
   "metadata": {
    "id": "l-X0KeFiCpdy"
   },
   "source": [
    "# Additional explorations"
   ]
  },
  {
   "cell_type": "code",
   "metadata": {
    "id": "iMenLd40CsXw"
   },
   "source": [
    "# 1) Try creating your own convolution kernels! It's fun and easy ;)\n",
    "#    Note that image kernels are often crafted to sum to zero, which prevents\n",
    "#    a global shift in the result. But you don't need to follow that convention.\n",
    "# "
   ],
   "execution_count": null,
   "outputs": []
  }
 ]
}