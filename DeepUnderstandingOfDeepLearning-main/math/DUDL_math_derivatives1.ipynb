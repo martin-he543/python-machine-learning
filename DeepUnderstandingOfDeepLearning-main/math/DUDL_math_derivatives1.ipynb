{
 "nbformat": 4,
 "nbformat_minor": 0,
 "metadata": {
  "colab": {
   "name": "DUDL_math_derivatives1.ipynb",
   "provenance": [],
   "collapsed_sections": [],
   "authorship_tag": "ABX9TyO9sexGvS+Zgx1ajxmKpDH3"
  },
  "kernelspec": {
   "name": "python3",
   "display_name": "Python 3"
  },
  "language_info": {
   "name": "python"
  }
 },
 "cells": [
  {
   "cell_type": "markdown",
   "metadata": {
    "id": "bhWV8oes-wKR"
   },
   "source": [
    "# COURSE: A deep understanding of deep learning\n",
    "## SECTION: Math prerequisites\n",
    "### LECTURE: Derivatives: intuition and polynomials\n",
    "#### TEACHER: Mike X Cohen, sincxpress.com\n",
    "##### COURSE URL: udemy.com/course/deeplearning_x/?couponCode=202401"
   ]
  },
  {
   "cell_type": "code",
   "metadata": {
    "id": "YvEj7AGdffUn"
   },
   "source": [
    "import numpy as np\n",
    "import matplotlib.pyplot as plt\n",
    "\n",
    "# sympy = symbolic math in Python\n",
    "import sympy as sym\n",
    "import sympy.plotting.plot as symplot"
   ],
   "execution_count": null,
   "outputs": []
  },
  {
   "cell_type": "code",
   "metadata": {
    "id": "2WUCrL06fngf"
   },
   "source": [
    "# create symbolic variables in sympy\n",
    "x = sym.symbols('x')\n",
    "\n",
    "# create a function\n",
    "fx = 2*x**2\n",
    "\n",
    "# compute its derivative\n",
    "df = sym.diff(fx,x)\n",
    "\n",
    "# print them\n",
    "print(fx)\n",
    "print(df)"
   ],
   "execution_count": null,
   "outputs": []
  },
  {
   "cell_type": "code",
   "metadata": {
    "id": "MSxztQoagCVt"
   },
   "source": [
    "# plot them\n",
    "symplot(fx,(x,-4,4),title='The function')\n",
    "plt.show()\n",
    "\n",
    "symplot(df,(x,-4,4),title='Its derivative')\n",
    "plt.show()\n"
   ],
   "execution_count": null,
   "outputs": []
  },
  {
   "cell_type": "code",
   "metadata": {
    "id": "BhMh2UGDhScO"
   },
   "source": [
    "# repeat with relu and sigmoid\n",
    "\n",
    "# create symbolic functions\n",
    "relu = sym.Max(0,x)\n",
    "sigmoid = 1 / (1+sym.exp(-x))\n",
    "\n",
    "# graph the functions\n",
    "p = symplot(relu,(x,-4,4),label='ReLU',show=False,line_color='blue')\n",
    "p.extend( symplot(sigmoid,(x,-4,4),label='Sigmoid',show=False,line_color='red') )\n",
    "p.legend = True\n",
    "p.title = 'The functions'\n",
    "p.show()\n",
    "\n",
    "\n",
    "# graph their derivatives\n",
    "p = symplot(sym.diff(relu),(x,-4,4),label='df(ReLU)',show=False,line_color='blue')\n",
    "p.extend( symplot(sym.diff(sigmoid),(x,-4,4),label='df(Sigmoid)',show=False,line_color='red') )\n",
    "p.legend = True\n",
    "p.title = 'The derivatives'\n",
    "p.show()\n"
   ],
   "execution_count": null,
   "outputs": []
  }
 ]
}