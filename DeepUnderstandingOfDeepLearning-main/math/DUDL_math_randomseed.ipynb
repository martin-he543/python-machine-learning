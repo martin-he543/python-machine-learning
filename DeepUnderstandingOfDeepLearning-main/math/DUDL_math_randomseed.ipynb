{
 "nbformat": 4,
 "nbformat_minor": 0,
 "metadata": {
  "colab": {
   "provenance": [
    {
     "file_id": "196i6MReeJLozrRYpZsltVy8BC6X1b9ik",
     "timestamp": 1619035090045
    },
    {
     "file_id": "1KX8lBi9Oey9iD2Aac8X6d-j3dMlyTodJ",
     "timestamp": 1617002781341
    }
   ],
   "authorship_tag": "ABX9TyOJyuFc3I4KRRovgrF3zmPZ"
  },
  "kernelspec": {
   "name": "python3",
   "display_name": "Python 3"
  },
  "language_info": {
   "name": "python"
  }
 },
 "cells": [
  {
   "cell_type": "markdown",
   "metadata": {
    "id": "bhWV8oes-wKR"
   },
   "source": [
    "# COURSE: A deep understanding of deep learning\n",
    "## SECTION: Math prerequisites\n",
    "### LECTURE: Identical randomness via seeding\n",
    "#### TEACHER: Mike X Cohen, sincxpress.com\n",
    "##### COURSE URL: udemy.com/course/deeplearning_x/?couponCode=202401"
   ]
  },
  {
   "cell_type": "code",
   "metadata": {
    "id": "wYjuZD1kPb3g",
    "executionInfo": {
     "status": "ok",
     "timestamp": 1676841300342,
     "user_tz": -540,
     "elapsed": 4400,
     "user": {
      "displayName": "Mike X Cohen",
      "userId": "13901636194183843661"
     }
    }
   },
   "source": [
    "# import libraries\n",
    "import numpy as np\n",
    "import torch"
   ],
   "execution_count": 1,
   "outputs": []
  },
  {
   "cell_type": "code",
   "metadata": {
    "id": "tJ_A2ykHS5RY"
   },
   "source": [
    "# generate a few random numbers\n",
    "np.random.randn(5)"
   ],
   "execution_count": null,
   "outputs": []
  },
  {
   "cell_type": "code",
   "metadata": {
    "id": "QZaS568IThAr"
   },
   "source": [
    "# repeat after fixing the seed (old-but-still-widely-used method)\n",
    "np.random.seed(17)\n",
    "print(np.random.randn(5))\n",
    "print(np.random.randn(5))\n",
    "\n",
    "# [ 0.27626589 -1.85462808  0.62390111  1.14531129  1.03719047]\n",
    "# [ 1.88663893 -0.11169829 -0.36210134  0.14867505 -0.43778315]"
   ],
   "execution_count": null,
   "outputs": []
  },
  {
   "cell_type": "markdown",
   "metadata": {
    "id": "v5VZW0g-DxLl"
   },
   "source": [
    "# New seed mechanism in numpy"
   ]
  },
  {
   "cell_type": "code",
   "metadata": {
    "id": "7Ctn7a0hChbA",
    "colab": {
     "base_uri": "https://localhost:8080/"
    },
    "executionInfo": {
     "status": "ok",
     "timestamp": 1676841327280,
     "user_tz": -540,
     "elapsed": 353,
     "user": {
      "displayName": "Mike X Cohen",
      "userId": "13901636194183843661"
     }
    },
    "outputId": "8478bc3a-8ce0-456e-fa86-4235bad9c46d"
   },
   "source": [
    "randseed1 = np.random.RandomState(17)\n",
    "randseed2 = np.random.RandomState(20210530)\n",
    "\n",
    "print( randseed1.randn(5) ) # same sequence\n",
    "print( randseed2.randn(5) ) # different from above, but same each time\n",
    "print( randseed1.randn(5) ) # same as two up\n",
    "print( randseed2.randn(5) ) # same as two up\n",
    "print( np.random.randn(5) ) # different every time\n",
    "\n",
    "# [ 0.27626589 -1.85462808  0.62390111  1.14531129  1.03719047]\n",
    "# [-0.24972681 -1.01951826  2.23461339  0.72764703  1.2921122 ]\n",
    "# [ 1.88663893 -0.11169829 -0.36210134  0.14867505 -0.43778315]\n",
    "# [ 1.15494929 -0.0015467  -0.11196868 -1.08136725  0.10265891]\n",
    "# [ 2.171257    1.15231025 -1.81881234 -0.13804934  0.53983961]"
   ],
   "execution_count": 7,
   "outputs": [
    {
     "output_type": "stream",
     "name": "stdout",
     "text": [
      "[ 0.27626589 -1.85462808  0.62390111  1.14531129  1.03719047]\n",
      "[-0.24972681 -1.01951826  2.23461339  0.72764703  1.2921122 ]\n",
      "[ 1.88663893 -0.11169829 -0.36210134  0.14867505 -0.43778315]\n",
      "[ 1.15494929 -0.0015467  -0.11196868 -1.08136725  0.10265891]\n",
      "[ 0.85266105 -0.59833972  3.29199531  0.15720173 -1.3930384 ]\n"
     ]
    }
   ]
  },
  {
   "cell_type": "code",
   "source": [],
   "metadata": {
    "colab": {
     "base_uri": "https://localhost:8080/"
    },
    "id": "ZUniXETYh52I",
    "executionInfo": {
     "status": "ok",
     "timestamp": 1676841345103,
     "user_tz": -540,
     "elapsed": 363,
     "user": {
      "displayName": "Mike X Cohen",
      "userId": "13901636194183843661"
     }
    },
    "outputId": "8f648038-068c-4f8c-da73-2794224daa3d"
   },
   "execution_count": 9,
   "outputs": [
    {
     "output_type": "stream",
     "name": "stdout",
     "text": [
      "[-1.77528229  1.31487654 -0.47344805 -1.0922299  -0.25002744]\n"
     ]
    }
   ]
  },
  {
   "cell_type": "markdown",
   "metadata": {
    "id": "Jy2WlM_oBjZy"
   },
   "source": [
    "# Now in pytorch"
   ]
  },
  {
   "cell_type": "code",
   "metadata": {
    "id": "oAUTsBE646fN"
   },
   "source": [
    "torch.randn(5)"
   ],
   "execution_count": null,
   "outputs": []
  },
  {
   "cell_type": "code",
   "metadata": {
    "id": "mdoWX2Fx5JIy"
   },
   "source": [
    "torch.manual_seed(17)\n",
    "print( torch.randn(5) )\n",
    "\n",
    "# torch's seed doesn't spread to numpy\n",
    "print( np.random.randn(5) )"
   ],
   "execution_count": null,
   "outputs": []
  }
 ]
}