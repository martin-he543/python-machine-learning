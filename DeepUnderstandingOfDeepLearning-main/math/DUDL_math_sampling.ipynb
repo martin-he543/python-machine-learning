{
 "nbformat": 4,
 "nbformat_minor": 0,
 "metadata": {
  "colab": {
   "name": "DUDL_math_sampling.ipynb",
   "provenance": [
    {
     "file_id": "196i6MReeJLozrRYpZsltVy8BC6X1b9ik",
     "timestamp": 1617003240706
    },
    {
     "file_id": "1KX8lBi9Oey9iD2Aac8X6d-j3dMlyTodJ",
     "timestamp": 1617002781341
    }
   ],
   "collapsed_sections": [],
   "authorship_tag": "ABX9TyOL7D04HBwew8NW+70XIQbD"
  },
  "kernelspec": {
   "name": "python3",
   "display_name": "Python 3"
  },
  "language_info": {
   "name": "python"
  }
 },
 "cells": [
  {
   "cell_type": "markdown",
   "metadata": {
    "id": "bhWV8oes-wKR"
   },
   "source": [
    "# COURSE: A deep understanding of deep learning\n",
    "## SECTION: Math prerequisites\n",
    "### LECTURE: Random sampling and sampling variability\n",
    "#### TEACHER: Mike X Cohen, sincxpress.com\n",
    "##### COURSE URL: udemy.com/course/deeplearning_x/?couponCode=202401"
   ]
  },
  {
   "cell_type": "code",
   "metadata": {
    "id": "wYjuZD1kPb3g"
   },
   "source": [
    "# import libraries\n",
    "import numpy as np\n",
    "import matplotlib.pyplot as plt"
   ],
   "execution_count": null,
   "outputs": []
  },
  {
   "cell_type": "code",
   "metadata": {
    "id": "tJ_A2ykHS5RY"
   },
   "source": [
    "# create a list of numbers to compute the mean and variance of\n",
    "x = [1,2,4,6,5,4,0,-4,5,-2,6,10,-9,1,3,-6]\n",
    "n = len(x)\n",
    "\n",
    "# compute the population mean\n",
    "popmean = np.mean(x)\n",
    "\n",
    "# compute a sample mean\n",
    "sample = np.random.choice(x,size=5,replace=True)\n",
    "sampmean = np.mean(sample)\n",
    "\n",
    "# print them\n",
    "print(popmean)\n",
    "print(sampmean)"
   ],
   "execution_count": null,
   "outputs": []
  },
  {
   "cell_type": "code",
   "metadata": {
    "id": "QZaS568IThAr"
   },
   "source": [
    "# compute lots of sample means\n",
    "\n",
    "# number of experiments to run\n",
    "nExpers = 10000\n",
    "\n",
    "# run the experiment!\n",
    "sampleMeans = np.zeros(nExpers)\n",
    "for i in range(nExpers):\n",
    "\n",
    "  # step 1: draw a sample\n",
    "  sample = np.random.choice(x,size=15,replace=True)\n",
    "\n",
    "  # step 2: compute its mean\n",
    "  sampleMeans[i] = np.mean(sample)\n",
    "\n",
    "\n",
    "\n",
    "# show the results as a histogram\n",
    "plt.hist(sampleMeans,bins=40,density=True)\n",
    "plt.plot([popmean,popmean],[0,.3],'m--')\n",
    "plt.ylabel('Count')\n",
    "plt.xlabel('Sample mean')\n",
    "plt.show()"
   ],
   "execution_count": null,
   "outputs": []
  }
 ]
}