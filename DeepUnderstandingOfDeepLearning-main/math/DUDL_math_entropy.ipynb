{
 "nbformat": 4,
 "nbformat_minor": 0,
 "metadata": {
  "colab": {
   "provenance": [
    {
     "file_id": "1oDaogKfz9gQYSAyQT-uF9xRI3EdrtokO",
     "timestamp": 1618209287295
    }
   ]
  },
  "kernelspec": {
   "name": "python3",
   "display_name": "Python 3"
  },
  "language_info": {
   "name": "python"
  }
 },
 "cells": [
  {
   "cell_type": "markdown",
   "metadata": {
    "id": "bhWV8oes-wKR"
   },
   "source": [
    "# COURSE: A deep understanding of deep learning\n",
    "## SECTION: Math prerequisites\n",
    "### LECTURE: Entropy and cross-entropy\n",
    "#### TEACHER: Mike X Cohen, sincxpress.com\n",
    "##### COURSE URL: udemy.com/course/deeplearning_x/?couponCode=202401"
   ]
  },
  {
   "cell_type": "code",
   "metadata": {
    "id": "2TD8IyfBGXiY"
   },
   "source": [
    "# import libraries\n",
    "import numpy as np\n",
    "import matplotlib.pyplot as plt"
   ],
   "execution_count": null,
   "outputs": []
  },
  {
   "cell_type": "markdown",
   "metadata": {
    "id": "yo63BJPf0cau"
   },
   "source": [
    "# Reminder of entropy:\n",
    "\n",
    "$$H(p) = -\\sum_x p(x)\\log(p(x))$$"
   ]
  },
  {
   "cell_type": "code",
   "metadata": {
    "id": "vmjUxlEqGbDu"
   },
   "source": [
    "# probability of an event happening\n",
    "p = .25\n",
    "\n",
    "# NOT the correct formula!\n",
    "H = -( p*np.log(p) )\n",
    "print('Wrong entropy: ' + str(H))"
   ],
   "execution_count": null,
   "outputs": []
  },
  {
   "cell_type": "code",
   "metadata": {
    "id": "WHx3wf4Y0TJH"
   },
   "source": [],
   "execution_count": null,
   "outputs": []
  },
  {
   "cell_type": "code",
   "metadata": {
    "id": "HdZadwd12RGv"
   },
   "source": [
    "# the correct way to compute entropy\n",
    "x = [.25,.75]\n",
    "\n",
    "H = 0\n",
    "for p in x:\n",
    "  H -= p*np.log(p)\n",
    "\n",
    "print('Correct entropy: ' + str(H))"
   ],
   "execution_count": null,
   "outputs": []
  },
  {
   "cell_type": "code",
   "metadata": {
    "id": "R_bGT7kd2ipR"
   },
   "source": [
    "# also correct, written out for N=2 events\n",
    "H = -( p*np.log(p) + (1-p)*np.log(1-p) )\n",
    "print('Correct entropy: ' + str(H))"
   ],
   "execution_count": null,
   "outputs": []
  },
  {
   "cell_type": "markdown",
   "metadata": {
    "id": "qFN5779d1ebD"
   },
   "source": [
    "# Cross-entropy"
   ]
  },
  {
   "cell_type": "code",
   "metadata": {
    "id": "sOug_tPzHY1y"
   },
   "source": [
    "# note: all probs must sum to 1!\n",
    "p = [   1,0   ] # sum=1\n",
    "q = [ .25,.75 ] # sum=1\n",
    "\n",
    "H = 0\n",
    "for i in range(len(p)):\n",
    "  H -= p[i]*np.log(q[i])\n",
    "\n",
    "print('Cross entropy: ' + str(H))"
   ],
   "execution_count": null,
   "outputs": []
  },
  {
   "cell_type": "code",
   "metadata": {
    "id": "8H1p7JUr3Pn4"
   },
   "source": [
    "# also correct, written out for N=2 events\n",
    "H = -( p[0]*np.log(q[0]) + p[1]*np.log(q[1]) )\n",
    "print('Correct entropy: ' + str(H))\n",
    "\n",
    "# simplification\n",
    "H = -np.log(q[0])\n",
    "print('Manually simplified: ' + str(H))"
   ],
   "execution_count": null,
   "outputs": []
  },
  {
   "cell_type": "code",
   "metadata": {
    "id": "fAHoba2V4QgO"
   },
   "source": [
    "# now using pytorch\n",
    "import torch\n",
    "import torch.nn.functional as F\n",
    "\n",
    "# note: inputs must be Tensors\n",
    "q_tensor = torch.Tensor(q)\n",
    "p_tensor = torch.Tensor(p)\n",
    "\n",
    "F.binary_cross_entropy(p,q)"
   ],
   "execution_count": null,
   "outputs": []
  },
  {
   "cell_type": "code",
   "source": [],
   "metadata": {
    "colab": {
     "base_uri": "https://localhost:8080/",
     "height": 36
    },
    "id": "QBQabnEEJisd",
    "executionInfo": {
     "status": "ok",
     "timestamp": 1692941200690,
     "user_tz": -180,
     "elapsed": 4,
     "user": {
      "displayName": "Mike X Cohen",
      "userId": "13901636194183843661"
     }
    },
    "outputId": "c0f67256-1c5e-4929-86b8-ec36f2db4f1d"
   },
   "execution_count": 14,
   "outputs": [
    {
     "output_type": "execute_result",
     "data": {
      "text/plain": [
       "'2.0.1+cu118'"
      ],
      "application/vnd.google.colaboratory.intrinsic+json": {
       "type": "string"
      }
     },
     "metadata": {},
     "execution_count": 14
    }
   ]
  }
 ]
}