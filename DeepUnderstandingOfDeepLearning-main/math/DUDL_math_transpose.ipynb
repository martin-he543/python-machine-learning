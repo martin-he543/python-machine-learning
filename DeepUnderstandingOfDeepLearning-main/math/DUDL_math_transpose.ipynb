{
 "nbformat": 4,
 "nbformat_minor": 0,
 "metadata": {
  "colab": {
   "name": "DUDL_math_transpose.ipynb",
   "provenance": [],
   "collapsed_sections": [],
   "authorship_tag": "ABX9TyMPFaV8b0XTO0Wj7WUXRZkF"
  },
  "kernelspec": {
   "name": "python3",
   "display_name": "Python 3"
  },
  "language_info": {
   "name": "python"
  }
 },
 "cells": [
  {
   "cell_type": "markdown",
   "metadata": {
    "id": "bhWV8oes-wKR"
   },
   "source": [
    "# COURSE: A deep understanding of deep learning\n",
    "## SECTION: Math prerequisites\n",
    "### LECTURE: Vector and matrix transpose\n",
    "#### TEACHER: Mike X Cohen, sincxpress.com\n",
    "##### COURSE URL: udemy.com/course/deeplearning_x/?couponCode=202401"
   ]
  },
  {
   "cell_type": "code",
   "metadata": {
    "id": "Yx_Rigz1AffS"
   },
   "source": [
    "# import libraries\n",
    "import numpy as np\n",
    "import torch"
   ],
   "execution_count": null,
   "outputs": []
  },
  {
   "cell_type": "markdown",
   "metadata": {
    "id": "uakMyq7UBzCP"
   },
   "source": [
    "# Using numpy"
   ]
  },
  {
   "cell_type": "code",
   "metadata": {
    "id": "nG3ur0N-AneX"
   },
   "source": [
    "# create a vector\n",
    "nv = np.array([ [1,2,3,4] ])\n",
    "print(nv), print(' ')\n",
    "\n",
    "# transpose it\n",
    "print(nv.T), print(' ')\n",
    "\n",
    "# transpose the transpose!\n",
    "nvT = nv.T\n",
    "print(nvT.T)"
   ],
   "execution_count": null,
   "outputs": []
  },
  {
   "cell_type": "code",
   "metadata": {
    "id": "Vmr-MkomA6K9"
   },
   "source": [
    "# repeat for a matrix\n",
    "nM = np.array([ [1,2,3,4],\n",
    "                [5,6,7,8] \n",
    "               ])\n",
    "print(nM), print(' ')\n",
    "\n",
    "# transpose it\n",
    "print(nM.T), print(' ')\n",
    "\n",
    "# transpose the transpose!\n",
    "nMT = nM.T\n",
    "print(nMT.T)"
   ],
   "execution_count": null,
   "outputs": []
  },
  {
   "cell_type": "markdown",
   "metadata": {
    "id": "oRLFXHk9BP1r"
   },
   "source": [
    "# Using pytorch"
   ]
  },
  {
   "cell_type": "code",
   "metadata": {
    "id": "Kjq-oGoUBTXs"
   },
   "source": [
    "# create a vector\n",
    "tv = torch.tensor([ [1,2,3,4] ])\n",
    "print(tv), print(' ')\n",
    "\n",
    "# transpose it\n",
    "print(tv.T), print(' ')\n",
    "\n",
    "# transpose the transpose!\n",
    "tvT = tv.T\n",
    "print(tvT.T)"
   ],
   "execution_count": null,
   "outputs": []
  },
  {
   "cell_type": "code",
   "metadata": {
    "id": "qwzG0O_aBfnv"
   },
   "source": [
    "# repeat for a matrix\n",
    "tM = torch.tensor([ [1,2,3,4],[5,6,7,8] ])\n",
    "print(tM), print(' ')\n",
    "\n",
    "# transpose it\n",
    "print(tM.T), print(' ')\n",
    "\n",
    "# transpose the transpose!\n",
    "tMT = tM.T\n",
    "print(tMT.T)"
   ],
   "execution_count": null,
   "outputs": []
  },
  {
   "cell_type": "code",
   "metadata": {
    "id": "cZJVgv8HBfwA"
   },
   "source": [
    ""
   ],
   "execution_count": null,
   "outputs": []
  },
  {
   "cell_type": "code",
   "metadata": {
    "id": "4J6zsIHoBfyp"
   },
   "source": [
    "# examine data types\n",
    "print(f'Variable nv is of type {type(nv)}')\n",
    "print(f'Variable nM is of type {type(nM)}')\n",
    "print(f'Variable tv is of type {type(tv)}')\n",
    "print(f'Variable tM is of type {type(tM)}')\n"
   ],
   "execution_count": null,
   "outputs": []
  }
 ]
}