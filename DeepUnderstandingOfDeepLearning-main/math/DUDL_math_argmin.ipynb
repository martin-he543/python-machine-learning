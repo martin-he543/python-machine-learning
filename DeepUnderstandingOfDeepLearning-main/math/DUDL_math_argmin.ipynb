{
 "cells": [
  {
   "cell_type": "markdown",
   "metadata": {
    "id": "bhWV8oes-wKR"
   },
   "source": [
    "# COURSE: A deep understanding of deep learning\n",
    "## SECTION: Math prerequisites\n",
    "### LECTURE: Min/max and argmin/max\n",
    "#### TEACHER: Mike X Cohen, sincxpress.com\n",
    "##### COURSE URL: udemy.com/course/deeplearning_x/?couponCode=202401"
   ]
  },
  {
   "cell_type": "code",
   "execution_count": 1,
   "metadata": {
    "id": "wYjuZD1kPb3g"
   },
   "outputs": [],
   "source": [
    "# import libraries\n",
    "import numpy as np\n",
    "import torch"
   ]
  },
  {
   "cell_type": "markdown",
   "metadata": {
    "id": "8HsmHiC6Pf3t"
   },
   "source": [
    "# Using numpy"
   ]
  },
  {
   "cell_type": "code",
   "execution_count": 2,
   "metadata": {
    "id": "eDMs2HT0Ph4r"
   },
   "outputs": [
    {
     "name": "stdout",
     "output_type": "stream",
     "text": [
      "Min,max: -3,40\n",
      "Min,max indices: 3,1\n",
      " \n",
      "Min val is -3, max val is 40\n"
     ]
    }
   ],
   "source": [
    "# create a vector\n",
    "v = np.array([ 1,40,2,-3 ])\n",
    "\n",
    "# find and report the maximum and minimum values\n",
    "minval = np.min(v)\n",
    "maxval = np.max(v)\n",
    "\n",
    "print('Min,max: %g,%g' %(minval,maxval) )\n",
    "\n",
    "\n",
    "# now for the argmin/max\n",
    "minidx = np.argmin(v)\n",
    "maxidx = np.argmax(v)\n",
    "\n",
    "print('Min,max indices: %g,%g' %(minidx,maxidx) ), print(' ')\n",
    "\n",
    "# confirm\n",
    "print(f'Min val is { v[minidx] }, max val is { v[maxidx] }')"
   ]
  },
  {
   "cell_type": "code",
   "execution_count": 3,
   "metadata": {
    "id": "KVsOLZ66Ph7s"
   },
   "outputs": [
    {
     "name": "stdout",
     "output_type": "stream",
     "text": [
      "[[ 0  1 10]\n",
      " [20  8  5]]\n",
      " \n",
      "0\n",
      "[0 1 5]\n",
      "[0 5]\n"
     ]
    }
   ],
   "source": [
    "# repeat with matrix\n",
    "M = np.array([ [0,1,10], [20,8,5] ])\n",
    "print(M), print(' ')\n",
    "\n",
    "# various minima in this matrix!\n",
    "minvals1 = np.min(M)        # minimum from ENTIRE matrix\n",
    "minvals2 = np.min(M,axis=0) # minimum of each column (across rows)\n",
    "minvals3 = np.min(M,axis=1) # minimum of each row (across columns)\n",
    "\n",
    "# print them out\n",
    "print(minvals1)\n",
    "print(minvals2)\n",
    "print(minvals3)"
   ]
  },
  {
   "cell_type": "code",
   "execution_count": 4,
   "metadata": {
    "id": "KygYLWYoTIT4"
   },
   "outputs": [
    {
     "name": "stdout",
     "output_type": "stream",
     "text": [
      "[[ 0  1 10]\n",
      " [20  8  5]]\n",
      " \n",
      "0\n",
      "[0 0 1]\n",
      "[0 2]\n"
     ]
    }
   ],
   "source": [
    "# various minima in this matrix!\n",
    "minidx1 = np.argmin(M)        # minimum from ENTIRE matrix\n",
    "minidx2 = np.argmin(M,axis=0) # minimum of each column (across rows)\n",
    "minidx3 = np.argmin(M,axis=1) # minimum of each row (across columns)\n",
    "\n",
    "# print them out\n",
    "print(M), print(' ') # reminder\n",
    "print(minidx1)\n",
    "print(minidx2)\n",
    "print(minidx3)"
   ]
  },
  {
   "cell_type": "markdown",
   "metadata": {
    "id": "-M4TujzAR5vb"
   },
   "source": [
    "# Now using pytorch"
   ]
  },
  {
   "cell_type": "code",
   "execution_count": null,
   "metadata": {
    "id": "4wYM8pGRR76s"
   },
   "outputs": [],
   "source": [
    "# create a vector\n",
    "v = torch.tensor([ 1,40,2,-3 ])\n",
    "\n",
    "# find and report the maximum and minimum values\n",
    "minval = torch.min(v)\n",
    "maxval = torch.max(v)\n",
    "\n",
    "print('Min,max: %g,%g' %(minval,maxval) )\n",
    "\n",
    "\n",
    "# now for the argmin/max\n",
    "minidx = torch.argmin(v)\n",
    "maxidx = torch.argmax(v)\n",
    "\n",
    "print('Min,max indices: %g,%g' %(minidx,maxidx) ), print(' ')\n",
    "\n",
    "# confirm\n",
    "print(f'Min val is { v[minidx] }, max val is { v[maxidx] }')"
   ]
  },
  {
   "cell_type": "code",
   "execution_count": null,
   "metadata": {
    "id": "7AP93vgZR788"
   },
   "outputs": [],
   "source": [
    "# repeat with matrix\n",
    "M = torch.tensor([ [0,1,10], [20,8,5] ])\n",
    "print(M), print(' ')\n",
    "\n",
    "# various minima in this matrix!\n",
    "min1 = torch.min(M)        # minimum from ENTIRE matrix\n",
    "min2 = torch.min(M,axis=0) # minimum of each column (across rows)\n",
    "min3 = torch.min(M,axis=1) # minimum of each row (across columns)\n",
    "\n",
    "# print them out\n",
    "print(min1), print(' ')\n",
    "print(min2), print(' ')\n",
    "print(min2.values)\n",
    "print(min2.indices)"
   ]
  },
  {
   "cell_type": "code",
   "execution_count": null,
   "metadata": {
    "id": "A5iVm1IWeP3_"
   },
   "outputs": [],
   "source": [
    "min2.count"
   ]
  }
 ],
 "metadata": {
  "colab": {
   "authorship_tag": "ABX9TyOAnDMLXriVbV0NCcYRd0xe",
   "collapsed_sections": [],
   "name": "DUDL_math_argmin.ipynb",
   "provenance": []
  },
  "kernelspec": {
   "display_name": "Python 3",
   "name": "python3"
  },
  "language_info": {
   "codemirror_mode": {
    "name": "ipython",
    "version": 3
   },
   "file_extension": ".py",
   "mimetype": "text/x-python",
   "name": "python",
   "nbconvert_exporter": "python",
   "pygments_lexer": "ipython3",
   "version": "3.13.1"
  }
 },
 "nbformat": 4,
 "nbformat_minor": 0
}
