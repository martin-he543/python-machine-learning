{
 "nbformat": 4,
 "nbformat_minor": 0,
 "metadata": {
  "colab": {
   "provenance": [
    {
     "file_id": "1Yp9bgltmsXuxkNPmbKEC1kn7bkBQD5WD",
     "timestamp": 1618250296221
    },
    {
     "file_id": "10_geQnah5AvMsm8VDAQwNPhypOXradar",
     "timestamp": 1617634658608
    },
    {
     "file_id": "1FtQ99beHYcDFDywLdaPgFm-KjBeI8PvD",
     "timestamp": 1615877547147
    }
   ]
  },
  "kernelspec": {
   "name": "python3",
   "display_name": "Python 3"
  }
 },
 "cells": [
  {
   "cell_type": "markdown",
   "metadata": {
    "id": "bhWV8oes-wKR"
   },
   "source": [
    "# COURSE: A deep understanding of deep learning\n",
    "## SECTION: More on data\n",
    "### LECTURE: Sample size and network depth\n",
    "#### TEACHER: Mike X Cohen, sincxpress.com\n",
    "##### COURSE URL: udemy.com/course/deeplearning_x/?couponCode=202401"
   ]
  },
  {
   "cell_type": "code",
   "metadata": {
    "id": "j7-LiwqUMGYL",
    "executionInfo": {
     "status": "ok",
     "timestamp": 1690473099356,
     "user_tz": 240,
     "elapsed": 12187,
     "user": {
      "displayName": "Mike X Cohen",
      "userId": "13901636194183843661"
     }
    }
   },
   "source": [
    "# import libraries\n",
    "import torch\n",
    "import torch.nn as nn\n",
    "import torch.nn.functional as F\n",
    "from torch.utils.data import DataLoader,TensorDataset\n",
    "from sklearn.model_selection import train_test_split\n",
    "\n",
    "import numpy as np\n",
    "\n",
    "import matplotlib.pyplot as plt\n",
    "import matplotlib_inline.backend_inline\n",
    "matplotlib_inline.backend_inline.set_matplotlib_formats('svg')"
   ],
   "execution_count": 1,
   "outputs": []
  },
  {
   "cell_type": "code",
   "metadata": {
    "id": "j-SP8NPsMNRL",
    "executionInfo": {
     "status": "ok",
     "timestamp": 1690473099357,
     "user_tz": 240,
     "elapsed": 7,
     "user": {
      "displayName": "Mike X Cohen",
      "userId": "13901636194183843661"
     }
    }
   },
   "source": [
    "# a function that creates data\n",
    "\n",
    "def createSomeData(nPerClust):\n",
    "\n",
    "  A = [ 1, 1 ]\n",
    "  B = [ 5, 1 ]\n",
    "  C = [ 4, 4 ]\n",
    "\n",
    "  # generate data\n",
    "  a = [ A[0]+np.random.randn(nPerClust) , A[1]+np.random.randn(nPerClust) ]\n",
    "  b = [ B[0]+np.random.randn(nPerClust) , B[1]+np.random.randn(nPerClust) ]\n",
    "  c = [ C[0]+np.random.randn(nPerClust) , C[1]+np.random.randn(nPerClust) ]\n",
    "\n",
    "  # true labels\n",
    "  labels_np = np.hstack(( np.zeros((nPerClust)),\n",
    "                          np.ones( (nPerClust)),\n",
    "                        1+np.ones( (nPerClust))  ))\n",
    "\n",
    "  # concatanate into a matrix, then convert to a pytorch tensor\n",
    "  data_np = np.hstack((a,b,c)).T\n",
    "\n",
    "  # NEW: put all outputs into a dictionary\n",
    "  output = {}\n",
    "  output['data'] = torch.tensor(data_np).float()\n",
    "  output['labels'] = torch.tensor(labels_np).long() # note: \"long\" format (integers) for labels\n",
    "\n",
    "  # use scikitlearn to split the data\n",
    "  train_data,test_data, train_labels,test_labels = train_test_split(output['data'], output['labels'], train_size=.9)\n",
    "\n",
    "  # then convert them into PyTorch Datasets (note: already converted to tensors)\n",
    "  train_data = TensorDataset(train_data,train_labels)\n",
    "  test_data  = TensorDataset(test_data,test_labels)\n",
    "\n",
    "  # finally, translate into dataloader objects\n",
    "  batchsize  = 8\n",
    "  output['train_data'] = DataLoader(train_data,batch_size=batchsize,shuffle=True,drop_last=True)\n",
    "  output['test_data']  = DataLoader(test_data,batch_size=test_data.tensors[0].shape[0])\n",
    "\n",
    "  return output"
   ],
   "execution_count": 2,
   "outputs": []
  },
  {
   "cell_type": "code",
   "metadata": {
    "id": "CMCgk85rPhB2",
    "colab": {
     "base_uri": "https://localhost:8080/",
     "height": 471
    },
    "executionInfo": {
     "status": "ok",
     "timestamp": 1690473101308,
     "user_tz": 240,
     "elapsed": 1955,
     "user": {
      "displayName": "Mike X Cohen",
      "userId": "13901636194183843661"
     }
    },
    "outputId": "d7daeb6e-c90e-4bfa-e969-83e080d8b6ea"
   },
   "source": [
    "# Check that the function works\n",
    "\n",
    "theData = createSomeData(50)\n",
    "\n",
    "data = theData['data']\n",
    "labels = theData['labels']\n",
    "\n",
    "# show the data\n",
    "fig = plt.figure(figsize=(5,5))\n",
    "plt.plot(data[np.where(labels==0)[0],0],data[np.where(labels==0)[0],1],'bs',alpha=.5)\n",
    "plt.plot(data[np.where(labels==1)[0],0],data[np.where(labels==1)[0],1],'ko',alpha=.5)\n",
    "plt.plot(data[np.where(labels==2)[0],0],data[np.where(labels==2)[0],1],'r^',alpha=.5)\n",
    "plt.title('The qwerties!')\n",
    "plt.xlabel('qwerty dimension 1')\n",
    "plt.ylabel('qwerty dimension 2')\n",
    "plt.show()"
   ],
   "execution_count": 3,
   "outputs": [
    {
     "output_type": "display_data",
     "data": {
      "text/plain": [
       "<Figure size 500x500 with 1 Axes>"
      ],
      "image/svg+xml": "<?xml version=\"1.0\" encoding=\"utf-8\" standalone=\"no\"?>\n<!DOCTYPE svg PUBLIC \"-//W3C//DTD SVG 1.1//EN\"\n  \"http://www.w3.org/Graphics/SVG/1.1/DTD/svg11.dtd\">\n<svg xmlns:xlink=\"http://www.w3.org/1999/xlink\" width=\"328.820312pt\" height=\"337.074375pt\" viewBox=\"0 0 328.820312 337.074375\" xmlns=\"http://www.w3.org/2000/svg\" version=\"1.1\">\n <metadata>\n  <rdf:RDF xmlns:dc=\"http://purl.org/dc/elements/1.1/\" xmlns:cc=\"http://creativecommons.org/ns#\" xmlns:rdf=\"http://www.w3.org/1999/02/22-rdf-syntax-ns#\">\n   <cc:Work>\n    <dc:type rdf:resource=\"http://purl.org/dc/dcmitype/StillImage\"/>\n    <dc:date>2023-07-27T15:51:52.304645</dc:date>\n    <dc:format>image/svg+xml</dc:format>\n    <dc:creator>\n     <cc:Agent>\n      <dc:title>Matplotlib v3.7.1, https://matplotlib.org/</dc:title>\n     </cc:Agent>\n    </dc:creator>\n   </cc:Work>\n  </rdf:RDF>\n </metadata>\n <defs>\n  <style type=\"text/css\">*{stroke-linejoin: round; stroke-linecap: butt}</style>\n </defs>\n <g id=\"figure_1\">\n  <g id=\"patch_1\">\n   <path d=\"M 0 337.074375 \nL 328.820312 337.074375 \nL 328.820312 0 \nL 0 0 \nz\n\" style=\"fill: #ffffff\"/>\n  </g>\n  <g id=\"axes_1\">\n   <g id=\"patch_2\">\n    <path d=\"M 42.620313 299.518125 \nL 321.620313 299.518125 \nL 321.620313 22.318125 \nL 42.620313 22.318125 \nz\n\" style=\"fill: #ffffff\"/>\n   </g>\n   <g id=\"matplotlib.axis_1\">\n    <g id=\"xtick_1\">\n     <g id=\"line2d_1\">\n      <defs>\n       <path id=\"m80692107ce\" d=\"M 0 0 \nL 0 3.5 \n\" style=\"stroke: #000000; stroke-width: 0.8\"/>\n      </defs>\n      <g>\n       <use xlink:href=\"#m80692107ce\" x=\"49.100035\" y=\"299.518125\" style=\"stroke: #000000; stroke-width: 0.8\"/>\n      </g>\n     </g>\n     <g id=\"text_1\">\n      <!-- \u22121 -->\n      <g transform=\"translate(41.728941 314.116563) scale(0.1 -0.1)\">\n       <defs>\n        <path id=\"DejaVuSans-2212\" d=\"M 678 2272 \nL 4684 2272 \nL 4684 1741 \nL 678 1741 \nL 678 2272 \nz\n\" transform=\"scale(0.015625)\"/>\n        <path id=\"DejaVuSans-31\" d=\"M 794 531 \nL 1825 531 \nL 1825 4091 \nL 703 3866 \nL 703 4441 \nL 1819 4666 \nL 2450 4666 \nL 2450 531 \nL 3481 531 \nL 3481 0 \nL 794 0 \nL 794 531 \nz\n\" transform=\"scale(0.015625)\"/>\n       </defs>\n       <use xlink:href=\"#DejaVuSans-2212\"/>\n       <use xlink:href=\"#DejaVuSans-31\" x=\"83.789062\"/>\n      </g>\n     </g>\n    </g>\n    <g id=\"xtick_2\">\n     <g id=\"line2d_2\">\n      <g>\n       <use xlink:href=\"#m80692107ce\" x=\"80.920312\" y=\"299.518125\" style=\"stroke: #000000; stroke-width: 0.8\"/>\n      </g>\n     </g>\n     <g id=\"text_2\">\n      <!-- 0 -->\n      <g transform=\"translate(77.739062 314.116563) scale(0.1 -0.1)\">\n       <defs>\n        <path id=\"DejaVuSans-30\" d=\"M 2034 4250 \nQ 1547 4250 1301 3770 \nQ 1056 3291 1056 2328 \nQ 1056 1369 1301 889 \nQ 1547 409 2034 409 \nQ 2525 409 2770 889 \nQ 3016 1369 3016 2328 \nQ 3016 3291 2770 3770 \nQ 2525 4250 2034 4250 \nz\nM 2034 4750 \nQ 2819 4750 3233 4129 \nQ 3647 3509 3647 2328 \nQ 3647 1150 3233 529 \nQ 2819 -91 2034 -91 \nQ 1250 -91 836 529 \nQ 422 1150 422 2328 \nQ 422 3509 836 4129 \nQ 1250 4750 2034 4750 \nz\n\" transform=\"scale(0.015625)\"/>\n       </defs>\n       <use xlink:href=\"#DejaVuSans-30\"/>\n      </g>\n     </g>\n    </g>\n    <g id=\"xtick_3\">\n     <g id=\"line2d_3\">\n      <g>\n       <use xlink:href=\"#m80692107ce\" x=\"112.740589\" y=\"299.518125\" style=\"stroke: #000000; stroke-width: 0.8\"/>\n      </g>\n     </g>\n     <g id=\"text_3\">\n      <!-- 1 -->\n      <g transform=\"translate(109.559339 314.116563) scale(0.1 -0.1)\">\n       <use xlink:href=\"#DejaVuSans-31\"/>\n      </g>\n     </g>\n    </g>\n    <g id=\"xtick_4\">\n     <g id=\"line2d_4\">\n      <g>\n       <use xlink:href=\"#m80692107ce\" x=\"144.560866\" y=\"299.518125\" style=\"stroke: #000000; stroke-width: 0.8\"/>\n      </g>\n     </g>\n     <g id=\"text_4\">\n      <!-- 2 -->\n      <g transform=\"translate(141.379616 314.116563) scale(0.1 -0.1)\">\n       <defs>\n        <path id=\"DejaVuSans-32\" d=\"M 1228 531 \nL 3431 531 \nL 3431 0 \nL 469 0 \nL 469 531 \nQ 828 903 1448 1529 \nQ 2069 2156 2228 2338 \nQ 2531 2678 2651 2914 \nQ 2772 3150 2772 3378 \nQ 2772 3750 2511 3984 \nQ 2250 4219 1831 4219 \nQ 1534 4219 1204 4116 \nQ 875 4013 500 3803 \nL 500 4441 \nQ 881 4594 1212 4672 \nQ 1544 4750 1819 4750 \nQ 2544 4750 2975 4387 \nQ 3406 4025 3406 3419 \nQ 3406 3131 3298 2873 \nQ 3191 2616 2906 2266 \nQ 2828 2175 2409 1742 \nQ 1991 1309 1228 531 \nz\n\" transform=\"scale(0.015625)\"/>\n       </defs>\n       <use xlink:href=\"#DejaVuSans-32\"/>\n      </g>\n     </g>\n    </g>\n    <g id=\"xtick_5\">\n     <g id=\"line2d_5\">\n      <g>\n       <use xlink:href=\"#m80692107ce\" x=\"176.381142\" y=\"299.518125\" style=\"stroke: #000000; stroke-width: 0.8\"/>\n      </g>\n     </g>\n     <g id=\"text_5\">\n      <!-- 3 -->\n      <g transform=\"translate(173.199892 314.116563) scale(0.1 -0.1)\">\n       <defs>\n        <path id=\"DejaVuSans-33\" d=\"M 2597 2516 \nQ 3050 2419 3304 2112 \nQ 3559 1806 3559 1356 \nQ 3559 666 3084 287 \nQ 2609 -91 1734 -91 \nQ 1441 -91 1130 -33 \nQ 819 25 488 141 \nL 488 750 \nQ 750 597 1062 519 \nQ 1375 441 1716 441 \nQ 2309 441 2620 675 \nQ 2931 909 2931 1356 \nQ 2931 1769 2642 2001 \nQ 2353 2234 1838 2234 \nL 1294 2234 \nL 1294 2753 \nL 1863 2753 \nQ 2328 2753 2575 2939 \nQ 2822 3125 2822 3475 \nQ 2822 3834 2567 4026 \nQ 2313 4219 1838 4219 \nQ 1578 4219 1281 4162 \nQ 984 4106 628 3988 \nL 628 4550 \nQ 988 4650 1302 4700 \nQ 1616 4750 1894 4750 \nQ 2613 4750 3031 4423 \nQ 3450 4097 3450 3541 \nQ 3450 3153 3228 2886 \nQ 3006 2619 2597 2516 \nz\n\" transform=\"scale(0.015625)\"/>\n       </defs>\n       <use xlink:href=\"#DejaVuSans-33\"/>\n      </g>\n     </g>\n    </g>\n    <g id=\"xtick_6\">\n     <g id=\"line2d_6\">\n      <g>\n       <use xlink:href=\"#m80692107ce\" x=\"208.201419\" y=\"299.518125\" style=\"stroke: #000000; stroke-width: 0.8\"/>\n      </g>\n     </g>\n     <g id=\"text_6\">\n      <!-- 4 -->\n      <g transform=\"translate(205.020169 314.116563) scale(0.1 -0.1)\">\n       <defs>\n        <path id=\"DejaVuSans-34\" d=\"M 2419 4116 \nL 825 1625 \nL 2419 1625 \nL 2419 4116 \nz\nM 2253 4666 \nL 3047 4666 \nL 3047 1625 \nL 3713 1625 \nL 3713 1100 \nL 3047 1100 \nL 3047 0 \nL 2419 0 \nL 2419 1100 \nL 313 1100 \nL 313 1709 \nL 2253 4666 \nz\n\" transform=\"scale(0.015625)\"/>\n       </defs>\n       <use xlink:href=\"#DejaVuSans-34\"/>\n      </g>\n     </g>\n    </g>\n    <g id=\"xtick_7\">\n     <g id=\"line2d_7\">\n      <g>\n       <use xlink:href=\"#m80692107ce\" x=\"240.021696\" y=\"299.518125\" style=\"stroke: #000000; stroke-width: 0.8\"/>\n      </g>\n     </g>\n     <g id=\"text_7\">\n      <!-- 5 -->\n      <g transform=\"translate(236.840446 314.116563) scale(0.1 -0.1)\">\n       <defs>\n        <path id=\"DejaVuSans-35\" d=\"M 691 4666 \nL 3169 4666 \nL 3169 4134 \nL 1269 4134 \nL 1269 2991 \nQ 1406 3038 1543 3061 \nQ 1681 3084 1819 3084 \nQ 2600 3084 3056 2656 \nQ 3513 2228 3513 1497 \nQ 3513 744 3044 326 \nQ 2575 -91 1722 -91 \nQ 1428 -91 1123 -41 \nQ 819 9 494 109 \nL 494 744 \nQ 775 591 1075 516 \nQ 1375 441 1709 441 \nQ 2250 441 2565 725 \nQ 2881 1009 2881 1497 \nQ 2881 1984 2565 2268 \nQ 2250 2553 1709 2553 \nQ 1456 2553 1204 2497 \nQ 953 2441 691 2322 \nL 691 4666 \nz\n\" transform=\"scale(0.015625)\"/>\n       </defs>\n       <use xlink:href=\"#DejaVuSans-35\"/>\n      </g>\n     </g>\n    </g>\n    <g id=\"xtick_8\">\n     <g id=\"line2d_8\">\n      <g>\n       <use xlink:href=\"#m80692107ce\" x=\"271.841973\" y=\"299.518125\" style=\"stroke: #000000; stroke-width: 0.8\"/>\n      </g>\n     </g>\n     <g id=\"text_8\">\n      <!-- 6 -->\n      <g transform=\"translate(268.660723 314.116563) scale(0.1 -0.1)\">\n       <defs>\n        <path id=\"DejaVuSans-36\" d=\"M 2113 2584 \nQ 1688 2584 1439 2293 \nQ 1191 2003 1191 1497 \nQ 1191 994 1439 701 \nQ 1688 409 2113 409 \nQ 2538 409 2786 701 \nQ 3034 994 3034 1497 \nQ 3034 2003 2786 2293 \nQ 2538 2584 2113 2584 \nz\nM 3366 4563 \nL 3366 3988 \nQ 3128 4100 2886 4159 \nQ 2644 4219 2406 4219 \nQ 1781 4219 1451 3797 \nQ 1122 3375 1075 2522 \nQ 1259 2794 1537 2939 \nQ 1816 3084 2150 3084 \nQ 2853 3084 3261 2657 \nQ 3669 2231 3669 1497 \nQ 3669 778 3244 343 \nQ 2819 -91 2113 -91 \nQ 1303 -91 875 529 \nQ 447 1150 447 2328 \nQ 447 3434 972 4092 \nQ 1497 4750 2381 4750 \nQ 2619 4750 2861 4703 \nQ 3103 4656 3366 4563 \nz\n\" transform=\"scale(0.015625)\"/>\n       </defs>\n       <use xlink:href=\"#DejaVuSans-36\"/>\n      </g>\n     </g>\n    </g>\n    <g id=\"xtick_9\">\n     <g id=\"line2d_9\">\n      <g>\n       <use xlink:href=\"#m80692107ce\" x=\"303.662249\" y=\"299.518125\" style=\"stroke: #000000; stroke-width: 0.8\"/>\n      </g>\n     </g>\n     <g id=\"text_9\">\n      <!-- 7 -->\n      <g transform=\"translate(300.480999 314.116563) scale(0.1 -0.1)\">\n       <defs>\n        <path id=\"DejaVuSans-37\" d=\"M 525 4666 \nL 3525 4666 \nL 3525 4397 \nL 1831 0 \nL 1172 0 \nL 2766 4134 \nL 525 4134 \nL 525 4666 \nz\n\" transform=\"scale(0.015625)\"/>\n       </defs>\n       <use xlink:href=\"#DejaVuSans-37\"/>\n      </g>\n     </g>\n    </g>\n    <g id=\"text_10\">\n     <!-- qwerty dimension 1 -->\n     <g transform=\"translate(132.545313 327.794688) scale(0.1 -0.1)\">\n      <defs>\n       <path id=\"DejaVuSans-71\" d=\"M 947 1747 \nQ 947 1113 1208 752 \nQ 1469 391 1925 391 \nQ 2381 391 2643 752 \nQ 2906 1113 2906 1747 \nQ 2906 2381 2643 2742 \nQ 2381 3103 1925 3103 \nQ 1469 3103 1208 2742 \nQ 947 2381 947 1747 \nz\nM 2906 525 \nQ 2725 213 2448 61 \nQ 2172 -91 1784 -91 \nQ 1150 -91 751 415 \nQ 353 922 353 1747 \nQ 353 2572 751 3078 \nQ 1150 3584 1784 3584 \nQ 2172 3584 2448 3432 \nQ 2725 3281 2906 2969 \nL 2906 3500 \nL 3481 3500 \nL 3481 -1331 \nL 2906 -1331 \nL 2906 525 \nz\n\" transform=\"scale(0.015625)\"/>\n       <path id=\"DejaVuSans-77\" d=\"M 269 3500 \nL 844 3500 \nL 1563 769 \nL 2278 3500 \nL 2956 3500 \nL 3675 769 \nL 4391 3500 \nL 4966 3500 \nL 4050 0 \nL 3372 0 \nL 2619 2869 \nL 1863 0 \nL 1184 0 \nL 269 3500 \nz\n\" transform=\"scale(0.015625)\"/>\n       <path id=\"DejaVuSans-65\" d=\"M 3597 1894 \nL 3597 1613 \nL 953 1613 \nQ 991 1019 1311 708 \nQ 1631 397 2203 397 \nQ 2534 397 2845 478 \nQ 3156 559 3463 722 \nL 3463 178 \nQ 3153 47 2828 -22 \nQ 2503 -91 2169 -91 \nQ 1331 -91 842 396 \nQ 353 884 353 1716 \nQ 353 2575 817 3079 \nQ 1281 3584 2069 3584 \nQ 2775 3584 3186 3129 \nQ 3597 2675 3597 1894 \nz\nM 3022 2063 \nQ 3016 2534 2758 2815 \nQ 2500 3097 2075 3097 \nQ 1594 3097 1305 2825 \nQ 1016 2553 972 2059 \nL 3022 2063 \nz\n\" transform=\"scale(0.015625)\"/>\n       <path id=\"DejaVuSans-72\" d=\"M 2631 2963 \nQ 2534 3019 2420 3045 \nQ 2306 3072 2169 3072 \nQ 1681 3072 1420 2755 \nQ 1159 2438 1159 1844 \nL 1159 0 \nL 581 0 \nL 581 3500 \nL 1159 3500 \nL 1159 2956 \nQ 1341 3275 1631 3429 \nQ 1922 3584 2338 3584 \nQ 2397 3584 2469 3576 \nQ 2541 3569 2628 3553 \nL 2631 2963 \nz\n\" transform=\"scale(0.015625)\"/>\n       <path id=\"DejaVuSans-74\" d=\"M 1172 4494 \nL 1172 3500 \nL 2356 3500 \nL 2356 3053 \nL 1172 3053 \nL 1172 1153 \nQ 1172 725 1289 603 \nQ 1406 481 1766 481 \nL 2356 481 \nL 2356 0 \nL 1766 0 \nQ 1100 0 847 248 \nQ 594 497 594 1153 \nL 594 3053 \nL 172 3053 \nL 172 3500 \nL 594 3500 \nL 594 4494 \nL 1172 4494 \nz\n\" transform=\"scale(0.015625)\"/>\n       <path id=\"DejaVuSans-79\" d=\"M 2059 -325 \nQ 1816 -950 1584 -1140 \nQ 1353 -1331 966 -1331 \nL 506 -1331 \nL 506 -850 \nL 844 -850 \nQ 1081 -850 1212 -737 \nQ 1344 -625 1503 -206 \nL 1606 56 \nL 191 3500 \nL 800 3500 \nL 1894 763 \nL 2988 3500 \nL 3597 3500 \nL 2059 -325 \nz\n\" transform=\"scale(0.015625)\"/>\n       <path id=\"DejaVuSans-20\" transform=\"scale(0.015625)\"/>\n       <path id=\"DejaVuSans-64\" d=\"M 2906 2969 \nL 2906 4863 \nL 3481 4863 \nL 3481 0 \nL 2906 0 \nL 2906 525 \nQ 2725 213 2448 61 \nQ 2172 -91 1784 -91 \nQ 1150 -91 751 415 \nQ 353 922 353 1747 \nQ 353 2572 751 3078 \nQ 1150 3584 1784 3584 \nQ 2172 3584 2448 3432 \nQ 2725 3281 2906 2969 \nz\nM 947 1747 \nQ 947 1113 1208 752 \nQ 1469 391 1925 391 \nQ 2381 391 2643 752 \nQ 2906 1113 2906 1747 \nQ 2906 2381 2643 2742 \nQ 2381 3103 1925 3103 \nQ 1469 3103 1208 2742 \nQ 947 2381 947 1747 \nz\n\" transform=\"scale(0.015625)\"/>\n       <path id=\"DejaVuSans-69\" d=\"M 603 3500 \nL 1178 3500 \nL 1178 0 \nL 603 0 \nL 603 3500 \nz\nM 603 4863 \nL 1178 4863 \nL 1178 4134 \nL 603 4134 \nL 603 4863 \nz\n\" transform=\"scale(0.015625)\"/>\n       <path id=\"DejaVuSans-6d\" d=\"M 3328 2828 \nQ 3544 3216 3844 3400 \nQ 4144 3584 4550 3584 \nQ 5097 3584 5394 3201 \nQ 5691 2819 5691 2113 \nL 5691 0 \nL 5113 0 \nL 5113 2094 \nQ 5113 2597 4934 2840 \nQ 4756 3084 4391 3084 \nQ 3944 3084 3684 2787 \nQ 3425 2491 3425 1978 \nL 3425 0 \nL 2847 0 \nL 2847 2094 \nQ 2847 2600 2669 2842 \nQ 2491 3084 2119 3084 \nQ 1678 3084 1418 2786 \nQ 1159 2488 1159 1978 \nL 1159 0 \nL 581 0 \nL 581 3500 \nL 1159 3500 \nL 1159 2956 \nQ 1356 3278 1631 3431 \nQ 1906 3584 2284 3584 \nQ 2666 3584 2933 3390 \nQ 3200 3197 3328 2828 \nz\n\" transform=\"scale(0.015625)\"/>\n       <path id=\"DejaVuSans-6e\" d=\"M 3513 2113 \nL 3513 0 \nL 2938 0 \nL 2938 2094 \nQ 2938 2591 2744 2837 \nQ 2550 3084 2163 3084 \nQ 1697 3084 1428 2787 \nQ 1159 2491 1159 1978 \nL 1159 0 \nL 581 0 \nL 581 3500 \nL 1159 3500 \nL 1159 2956 \nQ 1366 3272 1645 3428 \nQ 1925 3584 2291 3584 \nQ 2894 3584 3203 3211 \nQ 3513 2838 3513 2113 \nz\n\" transform=\"scale(0.015625)\"/>\n       <path id=\"DejaVuSans-73\" d=\"M 2834 3397 \nL 2834 2853 \nQ 2591 2978 2328 3040 \nQ 2066 3103 1784 3103 \nQ 1356 3103 1142 2972 \nQ 928 2841 928 2578 \nQ 928 2378 1081 2264 \nQ 1234 2150 1697 2047 \nL 1894 2003 \nQ 2506 1872 2764 1633 \nQ 3022 1394 3022 966 \nQ 3022 478 2636 193 \nQ 2250 -91 1575 -91 \nQ 1294 -91 989 -36 \nQ 684 19 347 128 \nL 347 722 \nQ 666 556 975 473 \nQ 1284 391 1588 391 \nQ 1994 391 2212 530 \nQ 2431 669 2431 922 \nQ 2431 1156 2273 1281 \nQ 2116 1406 1581 1522 \nL 1381 1569 \nQ 847 1681 609 1914 \nQ 372 2147 372 2553 \nQ 372 3047 722 3315 \nQ 1072 3584 1716 3584 \nQ 2034 3584 2315 3537 \nQ 2597 3491 2834 3397 \nz\n\" transform=\"scale(0.015625)\"/>\n       <path id=\"DejaVuSans-6f\" d=\"M 1959 3097 \nQ 1497 3097 1228 2736 \nQ 959 2375 959 1747 \nQ 959 1119 1226 758 \nQ 1494 397 1959 397 \nQ 2419 397 2687 759 \nQ 2956 1122 2956 1747 \nQ 2956 2369 2687 2733 \nQ 2419 3097 1959 3097 \nz\nM 1959 3584 \nQ 2709 3584 3137 3096 \nQ 3566 2609 3566 1747 \nQ 3566 888 3137 398 \nQ 2709 -91 1959 -91 \nQ 1206 -91 779 398 \nQ 353 888 353 1747 \nQ 353 2609 779 3096 \nQ 1206 3584 1959 3584 \nz\n\" transform=\"scale(0.015625)\"/>\n      </defs>\n      <use xlink:href=\"#DejaVuSans-71\"/>\n      <use xlink:href=\"#DejaVuSans-77\" x=\"63.476562\"/>\n      <use xlink:href=\"#DejaVuSans-65\" x=\"145.263672\"/>\n      <use xlink:href=\"#DejaVuSans-72\" x=\"206.787109\"/>\n      <use xlink:href=\"#DejaVuSans-74\" x=\"247.900391\"/>\n      <use xlink:href=\"#DejaVuSans-79\" x=\"287.109375\"/>\n      <use xlink:href=\"#DejaVuSans-20\" x=\"346.289062\"/>\n      <use xlink:href=\"#DejaVuSans-64\" x=\"378.076172\"/>\n      <use xlink:href=\"#DejaVuSans-69\" x=\"441.552734\"/>\n      <use xlink:href=\"#DejaVuSans-6d\" x=\"469.335938\"/>\n      <use xlink:href=\"#DejaVuSans-65\" x=\"566.748047\"/>\n      <use xlink:href=\"#DejaVuSans-6e\" x=\"628.271484\"/>\n      <use xlink:href=\"#DejaVuSans-73\" x=\"691.650391\"/>\n      <use xlink:href=\"#DejaVuSans-69\" x=\"743.75\"/>\n      <use xlink:href=\"#DejaVuSans-6f\" x=\"771.533203\"/>\n      <use xlink:href=\"#DejaVuSans-6e\" x=\"832.714844\"/>\n      <use xlink:href=\"#DejaVuSans-20\" x=\"896.09375\"/>\n      <use xlink:href=\"#DejaVuSans-31\" x=\"927.880859\"/>\n     </g>\n    </g>\n   </g>\n   <g id=\"matplotlib.axis_2\">\n    <g id=\"ytick_1\">\n     <g id=\"line2d_10\">\n      <defs>\n       <path id=\"m71b99a8501\" d=\"M 0 0 \nL -3.5 0 \n\" style=\"stroke: #000000; stroke-width: 0.8\"/>\n      </defs>\n      <g>\n       <use xlink:href=\"#m71b99a8501\" x=\"42.620313\" y=\"284.235678\" style=\"stroke: #000000; stroke-width: 0.8\"/>\n      </g>\n     </g>\n     <g id=\"text_11\">\n      <!-- \u22121 -->\n      <g transform=\"translate(20.878125 288.034896) scale(0.1 -0.1)\">\n       <use xlink:href=\"#DejaVuSans-2212\"/>\n       <use xlink:href=\"#DejaVuSans-31\" x=\"83.789062\"/>\n      </g>\n     </g>\n    </g>\n    <g id=\"ytick_2\">\n     <g id=\"line2d_11\">\n      <g>\n       <use xlink:href=\"#m71b99a8501\" x=\"42.620313\" y=\"247.065637\" style=\"stroke: #000000; stroke-width: 0.8\"/>\n      </g>\n     </g>\n     <g id=\"text_12\">\n      <!-- 0 -->\n      <g transform=\"translate(29.257813 250.864855) scale(0.1 -0.1)\">\n       <use xlink:href=\"#DejaVuSans-30\"/>\n      </g>\n     </g>\n    </g>\n    <g id=\"ytick_3\">\n     <g id=\"line2d_12\">\n      <g>\n       <use xlink:href=\"#m71b99a8501\" x=\"42.620313\" y=\"209.895596\" style=\"stroke: #000000; stroke-width: 0.8\"/>\n      </g>\n     </g>\n     <g id=\"text_13\">\n      <!-- 1 -->\n      <g transform=\"translate(29.257813 213.694815) scale(0.1 -0.1)\">\n       <use xlink:href=\"#DejaVuSans-31\"/>\n      </g>\n     </g>\n    </g>\n    <g id=\"ytick_4\">\n     <g id=\"line2d_13\">\n      <g>\n       <use xlink:href=\"#m71b99a8501\" x=\"42.620313\" y=\"172.725555\" style=\"stroke: #000000; stroke-width: 0.8\"/>\n      </g>\n     </g>\n     <g id=\"text_14\">\n      <!-- 2 -->\n      <g transform=\"translate(29.257813 176.524774) scale(0.1 -0.1)\">\n       <use xlink:href=\"#DejaVuSans-32\"/>\n      </g>\n     </g>\n    </g>\n    <g id=\"ytick_5\">\n     <g id=\"line2d_14\">\n      <g>\n       <use xlink:href=\"#m71b99a8501\" x=\"42.620313\" y=\"135.555514\" style=\"stroke: #000000; stroke-width: 0.8\"/>\n      </g>\n     </g>\n     <g id=\"text_15\">\n      <!-- 3 -->\n      <g transform=\"translate(29.257813 139.354733) scale(0.1 -0.1)\">\n       <use xlink:href=\"#DejaVuSans-33\"/>\n      </g>\n     </g>\n    </g>\n    <g id=\"ytick_6\">\n     <g id=\"line2d_15\">\n      <g>\n       <use xlink:href=\"#m71b99a8501\" x=\"42.620313\" y=\"98.385473\" style=\"stroke: #000000; stroke-width: 0.8\"/>\n      </g>\n     </g>\n     <g id=\"text_16\">\n      <!-- 4 -->\n      <g transform=\"translate(29.257813 102.184692) scale(0.1 -0.1)\">\n       <use xlink:href=\"#DejaVuSans-34\"/>\n      </g>\n     </g>\n    </g>\n    <g id=\"ytick_7\">\n     <g id=\"line2d_16\">\n      <g>\n       <use xlink:href=\"#m71b99a8501\" x=\"42.620313\" y=\"61.215432\" style=\"stroke: #000000; stroke-width: 0.8\"/>\n      </g>\n     </g>\n     <g id=\"text_17\">\n      <!-- 5 -->\n      <g transform=\"translate(29.257813 65.014651) scale(0.1 -0.1)\">\n       <use xlink:href=\"#DejaVuSans-35\"/>\n      </g>\n     </g>\n    </g>\n    <g id=\"ytick_8\">\n     <g id=\"line2d_17\">\n      <g>\n       <use xlink:href=\"#m71b99a8501\" x=\"42.620313\" y=\"24.045391\" style=\"stroke: #000000; stroke-width: 0.8\"/>\n      </g>\n     </g>\n     <g id=\"text_18\">\n      <!-- 6 -->\n      <g transform=\"translate(29.257813 27.84461) scale(0.1 -0.1)\">\n       <use xlink:href=\"#DejaVuSans-36\"/>\n      </g>\n     </g>\n    </g>\n    <g id=\"text_19\">\n     <!-- qwerty dimension 2 -->\n     <g transform=\"translate(14.798438 210.493125) rotate(-90) scale(0.1 -0.1)\">\n      <use xlink:href=\"#DejaVuSans-71\"/>\n      <use xlink:href=\"#DejaVuSans-77\" x=\"63.476562\"/>\n      <use xlink:href=\"#DejaVuSans-65\" x=\"145.263672\"/>\n      <use xlink:href=\"#DejaVuSans-72\" x=\"206.787109\"/>\n      <use xlink:href=\"#DejaVuSans-74\" x=\"247.900391\"/>\n      <use xlink:href=\"#DejaVuSans-79\" x=\"287.109375\"/>\n      <use xlink:href=\"#DejaVuSans-20\" x=\"346.289062\"/>\n      <use xlink:href=\"#DejaVuSans-64\" x=\"378.076172\"/>\n      <use xlink:href=\"#DejaVuSans-69\" x=\"441.552734\"/>\n      <use xlink:href=\"#DejaVuSans-6d\" x=\"469.335938\"/>\n      <use xlink:href=\"#DejaVuSans-65\" x=\"566.748047\"/>\n      <use xlink:href=\"#DejaVuSans-6e\" x=\"628.271484\"/>\n      <use xlink:href=\"#DejaVuSans-73\" x=\"691.650391\"/>\n      <use xlink:href=\"#DejaVuSans-69\" x=\"743.75\"/>\n      <use xlink:href=\"#DejaVuSans-6f\" x=\"771.533203\"/>\n      <use xlink:href=\"#DejaVuSans-6e\" x=\"832.714844\"/>\n      <use xlink:href=\"#DejaVuSans-20\" x=\"896.09375\"/>\n      <use xlink:href=\"#DejaVuSans-32\" x=\"927.880859\"/>\n     </g>\n    </g>\n   </g>\n   <g id=\"line2d_18\">\n    <defs>\n     <path id=\"m97f026e8f5\" d=\"M -3 3 \nL 3 3 \nL 3 -3 \nL -3 -3 \nz\n\" style=\"stroke: #0000ff; stroke-opacity: 0.5; stroke-linejoin: miter\"/>\n    </defs>\n    <g clip-path=\"url(#p8cd00eb3d0)\">\n     <use xlink:href=\"#m97f026e8f5\" x=\"131.236848\" y=\"182.666402\" style=\"fill: #0000ff; fill-opacity: 0.5; stroke: #0000ff; stroke-opacity: 0.5; stroke-linejoin: miter\"/>\n     <use xlink:href=\"#m97f026e8f5\" x=\"79.675451\" y=\"198.808099\" style=\"fill: #0000ff; fill-opacity: 0.5; stroke: #0000ff; stroke-opacity: 0.5; stroke-linejoin: miter\"/>\n     <use xlink:href=\"#m97f026e8f5\" x=\"67.549627\" y=\"220.283858\" style=\"fill: #0000ff; fill-opacity: 0.5; stroke: #0000ff; stroke-opacity: 0.5; stroke-linejoin: miter\"/>\n     <use xlink:href=\"#m97f026e8f5\" x=\"113.459513\" y=\"196.301519\" style=\"fill: #0000ff; fill-opacity: 0.5; stroke: #0000ff; stroke-opacity: 0.5; stroke-linejoin: miter\"/>\n     <use xlink:href=\"#m97f026e8f5\" x=\"203.423398\" y=\"281.528527\" style=\"fill: #0000ff; fill-opacity: 0.5; stroke: #0000ff; stroke-opacity: 0.5; stroke-linejoin: miter\"/>\n     <use xlink:href=\"#m97f026e8f5\" x=\"136.206824\" y=\"207.192504\" style=\"fill: #0000ff; fill-opacity: 0.5; stroke: #0000ff; stroke-opacity: 0.5; stroke-linejoin: miter\"/>\n     <use xlink:href=\"#m97f026e8f5\" x=\"66.113705\" y=\"185.337134\" style=\"fill: #0000ff; fill-opacity: 0.5; stroke: #0000ff; stroke-opacity: 0.5; stroke-linejoin: miter\"/>\n     <use xlink:href=\"#m97f026e8f5\" x=\"73.703578\" y=\"222.334518\" style=\"fill: #0000ff; fill-opacity: 0.5; stroke: #0000ff; stroke-opacity: 0.5; stroke-linejoin: miter\"/>\n     <use xlink:href=\"#m97f026e8f5\" x=\"116.898653\" y=\"177.06467\" style=\"fill: #0000ff; fill-opacity: 0.5; stroke: #0000ff; stroke-opacity: 0.5; stroke-linejoin: miter\"/>\n     <use xlink:href=\"#m97f026e8f5\" x=\"93.134893\" y=\"182.144983\" style=\"fill: #0000ff; fill-opacity: 0.5; stroke: #0000ff; stroke-opacity: 0.5; stroke-linejoin: miter\"/>\n     <use xlink:href=\"#m97f026e8f5\" x=\"126.606309\" y=\"159.154581\" style=\"fill: #0000ff; fill-opacity: 0.5; stroke: #0000ff; stroke-opacity: 0.5; stroke-linejoin: miter\"/>\n     <use xlink:href=\"#m97f026e8f5\" x=\"90.433387\" y=\"250.501317\" style=\"fill: #0000ff; fill-opacity: 0.5; stroke: #0000ff; stroke-opacity: 0.5; stroke-linejoin: miter\"/>\n     <use xlink:href=\"#m97f026e8f5\" x=\"91.009988\" y=\"135.224083\" style=\"fill: #0000ff; fill-opacity: 0.5; stroke: #0000ff; stroke-opacity: 0.5; stroke-linejoin: miter\"/>\n     <use xlink:href=\"#m97f026e8f5\" x=\"156.082567\" y=\"264.12986\" style=\"fill: #0000ff; fill-opacity: 0.5; stroke: #0000ff; stroke-opacity: 0.5; stroke-linejoin: miter\"/>\n     <use xlink:href=\"#m97f026e8f5\" x=\"130.389271\" y=\"208.955849\" style=\"fill: #0000ff; fill-opacity: 0.5; stroke: #0000ff; stroke-opacity: 0.5; stroke-linejoin: miter\"/>\n     <use xlink:href=\"#m97f026e8f5\" x=\"86.363378\" y=\"268.701534\" style=\"fill: #0000ff; fill-opacity: 0.5; stroke: #0000ff; stroke-opacity: 0.5; stroke-linejoin: miter\"/>\n     <use xlink:href=\"#m97f026e8f5\" x=\"110.917161\" y=\"237.099248\" style=\"fill: #0000ff; fill-opacity: 0.5; stroke: #0000ff; stroke-opacity: 0.5; stroke-linejoin: miter\"/>\n     <use xlink:href=\"#m97f026e8f5\" x=\"112.773461\" y=\"265.805029\" style=\"fill: #0000ff; fill-opacity: 0.5; stroke: #0000ff; stroke-opacity: 0.5; stroke-linejoin: miter\"/>\n     <use xlink:href=\"#m97f026e8f5\" x=\"112.657277\" y=\"186.174215\" style=\"fill: #0000ff; fill-opacity: 0.5; stroke: #0000ff; stroke-opacity: 0.5; stroke-linejoin: miter\"/>\n     <use xlink:href=\"#m97f026e8f5\" x=\"102.226123\" y=\"211.621872\" style=\"fill: #0000ff; fill-opacity: 0.5; stroke: #0000ff; stroke-opacity: 0.5; stroke-linejoin: miter\"/>\n     <use xlink:href=\"#m97f026e8f5\" x=\"102.621533\" y=\"204.470585\" style=\"fill: #0000ff; fill-opacity: 0.5; stroke: #0000ff; stroke-opacity: 0.5; stroke-linejoin: miter\"/>\n     <use xlink:href=\"#m97f026e8f5\" x=\"98.318136\" y=\"227.362042\" style=\"fill: #0000ff; fill-opacity: 0.5; stroke: #0000ff; stroke-opacity: 0.5; stroke-linejoin: miter\"/>\n     <use xlink:href=\"#m97f026e8f5\" x=\"106.72744\" y=\"241.2301\" style=\"fill: #0000ff; fill-opacity: 0.5; stroke: #0000ff; stroke-opacity: 0.5; stroke-linejoin: miter\"/>\n     <use xlink:href=\"#m97f026e8f5\" x=\"136.759879\" y=\"182.33595\" style=\"fill: #0000ff; fill-opacity: 0.5; stroke: #0000ff; stroke-opacity: 0.5; stroke-linejoin: miter\"/>\n     <use xlink:href=\"#m97f026e8f5\" x=\"104.718491\" y=\"219.216577\" style=\"fill: #0000ff; fill-opacity: 0.5; stroke: #0000ff; stroke-opacity: 0.5; stroke-linejoin: miter\"/>\n     <use xlink:href=\"#m97f026e8f5\" x=\"153.465315\" y=\"212.762923\" style=\"fill: #0000ff; fill-opacity: 0.5; stroke: #0000ff; stroke-opacity: 0.5; stroke-linejoin: miter\"/>\n     <use xlink:href=\"#m97f026e8f5\" x=\"117.944921\" y=\"202.296686\" style=\"fill: #0000ff; fill-opacity: 0.5; stroke: #0000ff; stroke-opacity: 0.5; stroke-linejoin: miter\"/>\n     <use xlink:href=\"#m97f026e8f5\" x=\"126.792069\" y=\"197.860323\" style=\"fill: #0000ff; fill-opacity: 0.5; stroke: #0000ff; stroke-opacity: 0.5; stroke-linejoin: miter\"/>\n     <use xlink:href=\"#m97f026e8f5\" x=\"147.962809\" y=\"263.906974\" style=\"fill: #0000ff; fill-opacity: 0.5; stroke: #0000ff; stroke-opacity: 0.5; stroke-linejoin: miter\"/>\n     <use xlink:href=\"#m97f026e8f5\" x=\"116.170416\" y=\"262.46327\" style=\"fill: #0000ff; fill-opacity: 0.5; stroke: #0000ff; stroke-opacity: 0.5; stroke-linejoin: miter\"/>\n     <use xlink:href=\"#m97f026e8f5\" x=\"114.725498\" y=\"214.106989\" style=\"fill: #0000ff; fill-opacity: 0.5; stroke: #0000ff; stroke-opacity: 0.5; stroke-linejoin: miter\"/>\n     <use xlink:href=\"#m97f026e8f5\" x=\"116.05009\" y=\"233.177418\" style=\"fill: #0000ff; fill-opacity: 0.5; stroke: #0000ff; stroke-opacity: 0.5; stroke-linejoin: miter\"/>\n     <use xlink:href=\"#m97f026e8f5\" x=\"97.649985\" y=\"207.404041\" style=\"fill: #0000ff; fill-opacity: 0.5; stroke: #0000ff; stroke-opacity: 0.5; stroke-linejoin: miter\"/>\n     <use xlink:href=\"#m97f026e8f5\" x=\"85.251137\" y=\"273.0136\" style=\"fill: #0000ff; fill-opacity: 0.5; stroke: #0000ff; stroke-opacity: 0.5; stroke-linejoin: miter\"/>\n     <use xlink:href=\"#m97f026e8f5\" x=\"140.05852\" y=\"218.332778\" style=\"fill: #0000ff; fill-opacity: 0.5; stroke: #0000ff; stroke-opacity: 0.5; stroke-linejoin: miter\"/>\n     <use xlink:href=\"#m97f026e8f5\" x=\"115.859326\" y=\"222.982813\" style=\"fill: #0000ff; fill-opacity: 0.5; stroke: #0000ff; stroke-opacity: 0.5; stroke-linejoin: miter\"/>\n     <use xlink:href=\"#m97f026e8f5\" x=\"90.22781\" y=\"155.703149\" style=\"fill: #0000ff; fill-opacity: 0.5; stroke: #0000ff; stroke-opacity: 0.5; stroke-linejoin: miter\"/>\n     <use xlink:href=\"#m97f026e8f5\" x=\"127.311281\" y=\"217.435403\" style=\"fill: #0000ff; fill-opacity: 0.5; stroke: #0000ff; stroke-opacity: 0.5; stroke-linejoin: miter\"/>\n     <use xlink:href=\"#m97f026e8f5\" x=\"89.063207\" y=\"209.504763\" style=\"fill: #0000ff; fill-opacity: 0.5; stroke: #0000ff; stroke-opacity: 0.5; stroke-linejoin: miter\"/>\n     <use xlink:href=\"#m97f026e8f5\" x=\"108.269889\" y=\"153.459736\" style=\"fill: #0000ff; fill-opacity: 0.5; stroke: #0000ff; stroke-opacity: 0.5; stroke-linejoin: miter\"/>\n     <use xlink:href=\"#m97f026e8f5\" x=\"134.331195\" y=\"248.869197\" style=\"fill: #0000ff; fill-opacity: 0.5; stroke: #0000ff; stroke-opacity: 0.5; stroke-linejoin: miter\"/>\n     <use xlink:href=\"#m97f026e8f5\" x=\"111.685397\" y=\"167.398466\" style=\"fill: #0000ff; fill-opacity: 0.5; stroke: #0000ff; stroke-opacity: 0.5; stroke-linejoin: miter\"/>\n     <use xlink:href=\"#m97f026e8f5\" x=\"92.512611\" y=\"259.253044\" style=\"fill: #0000ff; fill-opacity: 0.5; stroke: #0000ff; stroke-opacity: 0.5; stroke-linejoin: miter\"/>\n     <use xlink:href=\"#m97f026e8f5\" x=\"83.672101\" y=\"190.698985\" style=\"fill: #0000ff; fill-opacity: 0.5; stroke: #0000ff; stroke-opacity: 0.5; stroke-linejoin: miter\"/>\n     <use xlink:href=\"#m97f026e8f5\" x=\"115.077396\" y=\"154.446381\" style=\"fill: #0000ff; fill-opacity: 0.5; stroke: #0000ff; stroke-opacity: 0.5; stroke-linejoin: miter\"/>\n     <use xlink:href=\"#m97f026e8f5\" x=\"128.957364\" y=\"209.783943\" style=\"fill: #0000ff; fill-opacity: 0.5; stroke: #0000ff; stroke-opacity: 0.5; stroke-linejoin: miter\"/>\n     <use xlink:href=\"#m97f026e8f5\" x=\"150.750599\" y=\"221.731568\" style=\"fill: #0000ff; fill-opacity: 0.5; stroke: #0000ff; stroke-opacity: 0.5; stroke-linejoin: miter\"/>\n     <use xlink:href=\"#m97f026e8f5\" x=\"119.972971\" y=\"195.329191\" style=\"fill: #0000ff; fill-opacity: 0.5; stroke: #0000ff; stroke-opacity: 0.5; stroke-linejoin: miter\"/>\n     <use xlink:href=\"#m97f026e8f5\" x=\"80.178295\" y=\"247.797595\" style=\"fill: #0000ff; fill-opacity: 0.5; stroke: #0000ff; stroke-opacity: 0.5; stroke-linejoin: miter\"/>\n     <use xlink:href=\"#m97f026e8f5\" x=\"55.302131\" y=\"161.307381\" style=\"fill: #0000ff; fill-opacity: 0.5; stroke: #0000ff; stroke-opacity: 0.5; stroke-linejoin: miter\"/>\n    </g>\n   </g>\n   <g id=\"line2d_19\">\n    <defs>\n     <path id=\"mfbed361534\" d=\"M 0 3 \nC 0.795609 3 1.55874 2.683901 2.12132 2.12132 \nC 2.683901 1.55874 3 0.795609 3 0 \nC 3 -0.795609 2.683901 -1.55874 2.12132 -2.12132 \nC 1.55874 -2.683901 0.795609 -3 0 -3 \nC -0.795609 -3 -1.55874 -2.683901 -2.12132 -2.12132 \nC -2.683901 -1.55874 -3 -0.795609 -3 0 \nC -3 0.795609 -2.683901 1.55874 -2.12132 2.12132 \nC -1.55874 2.683901 -0.795609 3 0 3 \nz\n\" style=\"stroke: #000000; stroke-opacity: 0.5\"/>\n    </defs>\n    <g clip-path=\"url(#p8cd00eb3d0)\">\n     <use xlink:href=\"#mfbed361534\" x=\"219.924831\" y=\"232.165465\" style=\"fill-opacity: 0.5; stroke: #000000; stroke-opacity: 0.5\"/>\n     <use xlink:href=\"#mfbed361534\" x=\"274.729943\" y=\"205.905698\" style=\"fill-opacity: 0.5; stroke: #000000; stroke-opacity: 0.5\"/>\n     <use xlink:href=\"#mfbed361534\" x=\"222.235602\" y=\"226.586125\" style=\"fill-opacity: 0.5; stroke: #000000; stroke-opacity: 0.5\"/>\n     <use xlink:href=\"#mfbed361534\" x=\"230.914883\" y=\"211.49388\" style=\"fill-opacity: 0.5; stroke: #000000; stroke-opacity: 0.5\"/>\n     <use xlink:href=\"#mfbed361534\" x=\"207.352318\" y=\"197.696526\" style=\"fill-opacity: 0.5; stroke: #000000; stroke-opacity: 0.5\"/>\n     <use xlink:href=\"#mfbed361534\" x=\"229.610285\" y=\"215.75076\" style=\"fill-opacity: 0.5; stroke: #000000; stroke-opacity: 0.5\"/>\n     <use xlink:href=\"#mfbed361534\" x=\"201.87418\" y=\"231.945331\" style=\"fill-opacity: 0.5; stroke: #000000; stroke-opacity: 0.5\"/>\n     <use xlink:href=\"#mfbed361534\" x=\"261.361889\" y=\"154.556279\" style=\"fill-opacity: 0.5; stroke: #000000; stroke-opacity: 0.5\"/>\n     <use xlink:href=\"#mfbed361534\" x=\"222.364513\" y=\"195.650111\" style=\"fill-opacity: 0.5; stroke: #000000; stroke-opacity: 0.5\"/>\n     <use xlink:href=\"#mfbed361534\" x=\"286.165886\" y=\"234.175499\" style=\"fill-opacity: 0.5; stroke: #000000; stroke-opacity: 0.5\"/>\n     <use xlink:href=\"#mfbed361534\" x=\"187.18898\" y=\"196.694696\" style=\"fill-opacity: 0.5; stroke: #000000; stroke-opacity: 0.5\"/>\n     <use xlink:href=\"#mfbed361534\" x=\"219.761493\" y=\"242.59823\" style=\"fill-opacity: 0.5; stroke: #000000; stroke-opacity: 0.5\"/>\n     <use xlink:href=\"#mfbed361534\" x=\"207.70969\" y=\"257.490838\" style=\"fill-opacity: 0.5; stroke: #000000; stroke-opacity: 0.5\"/>\n     <use xlink:href=\"#mfbed361534\" x=\"219.041864\" y=\"176.961644\" style=\"fill-opacity: 0.5; stroke: #000000; stroke-opacity: 0.5\"/>\n     <use xlink:href=\"#mfbed361534\" x=\"201.54616\" y=\"185.422719\" style=\"fill-opacity: 0.5; stroke: #000000; stroke-opacity: 0.5\"/>\n     <use xlink:href=\"#mfbed361534\" x=\"284.454164\" y=\"154.10412\" style=\"fill-opacity: 0.5; stroke: #000000; stroke-opacity: 0.5\"/>\n     <use xlink:href=\"#mfbed361534\" x=\"234.069884\" y=\"179.950332\" style=\"fill-opacity: 0.5; stroke: #000000; stroke-opacity: 0.5\"/>\n     <use xlink:href=\"#mfbed361534\" x=\"225.503082\" y=\"253.759748\" style=\"fill-opacity: 0.5; stroke: #000000; stroke-opacity: 0.5\"/>\n     <use xlink:href=\"#mfbed361534\" x=\"252.225655\" y=\"218.752267\" style=\"fill-opacity: 0.5; stroke: #000000; stroke-opacity: 0.5\"/>\n     <use xlink:href=\"#mfbed361534\" x=\"219.440764\" y=\"257.368026\" style=\"fill-opacity: 0.5; stroke: #000000; stroke-opacity: 0.5\"/>\n     <use xlink:href=\"#mfbed361534\" x=\"252.945603\" y=\"205.83435\" style=\"fill-opacity: 0.5; stroke: #000000; stroke-opacity: 0.5\"/>\n     <use xlink:href=\"#mfbed361534\" x=\"182.710673\" y=\"214.36872\" style=\"fill-opacity: 0.5; stroke: #000000; stroke-opacity: 0.5\"/>\n     <use xlink:href=\"#mfbed361534\" x=\"216.508125\" y=\"286.918125\" style=\"fill-opacity: 0.5; stroke: #000000; stroke-opacity: 0.5\"/>\n     <use xlink:href=\"#mfbed361534\" x=\"231.684765\" y=\"262.706007\" style=\"fill-opacity: 0.5; stroke: #000000; stroke-opacity: 0.5\"/>\n     <use xlink:href=\"#mfbed361534\" x=\"237.009944\" y=\"218.670307\" style=\"fill-opacity: 0.5; stroke: #000000; stroke-opacity: 0.5\"/>\n     <use xlink:href=\"#mfbed361534\" x=\"231.683582\" y=\"203.141813\" style=\"fill-opacity: 0.5; stroke: #000000; stroke-opacity: 0.5\"/>\n     <use xlink:href=\"#mfbed361534\" x=\"225.598065\" y=\"277.749479\" style=\"fill-opacity: 0.5; stroke: #000000; stroke-opacity: 0.5\"/>\n     <use xlink:href=\"#mfbed361534\" x=\"216.166958\" y=\"221.16738\" style=\"fill-opacity: 0.5; stroke: #000000; stroke-opacity: 0.5\"/>\n     <use xlink:href=\"#mfbed361534\" x=\"264.040956\" y=\"192.55273\" style=\"fill-opacity: 0.5; stroke: #000000; stroke-opacity: 0.5\"/>\n     <use xlink:href=\"#mfbed361534\" x=\"244.95207\" y=\"205.422877\" style=\"fill-opacity: 0.5; stroke: #000000; stroke-opacity: 0.5\"/>\n     <use xlink:href=\"#mfbed361534\" x=\"249.817929\" y=\"228.97851\" style=\"fill-opacity: 0.5; stroke: #000000; stroke-opacity: 0.5\"/>\n     <use xlink:href=\"#mfbed361534\" x=\"232.430948\" y=\"182.380806\" style=\"fill-opacity: 0.5; stroke: #000000; stroke-opacity: 0.5\"/>\n     <use xlink:href=\"#mfbed361534\" x=\"249.626596\" y=\"230.444626\" style=\"fill-opacity: 0.5; stroke: #000000; stroke-opacity: 0.5\"/>\n     <use xlink:href=\"#mfbed361534\" x=\"234.506611\" y=\"269.793797\" style=\"fill-opacity: 0.5; stroke: #000000; stroke-opacity: 0.5\"/>\n     <use xlink:href=\"#mfbed361534\" x=\"219.814705\" y=\"216.447468\" style=\"fill-opacity: 0.5; stroke: #000000; stroke-opacity: 0.5\"/>\n     <use xlink:href=\"#mfbed361534\" x=\"219.212849\" y=\"272.592\" style=\"fill-opacity: 0.5; stroke: #000000; stroke-opacity: 0.5\"/>\n     <use xlink:href=\"#mfbed361534\" x=\"191.093676\" y=\"218.349153\" style=\"fill-opacity: 0.5; stroke: #000000; stroke-opacity: 0.5\"/>\n     <use xlink:href=\"#mfbed361534\" x=\"262.151178\" y=\"187.435569\" style=\"fill-opacity: 0.5; stroke: #000000; stroke-opacity: 0.5\"/>\n     <use xlink:href=\"#mfbed361534\" x=\"272.912055\" y=\"210.33661\" style=\"fill-opacity: 0.5; stroke: #000000; stroke-opacity: 0.5\"/>\n     <use xlink:href=\"#mfbed361534\" x=\"308.938494\" y=\"181.241711\" style=\"fill-opacity: 0.5; stroke: #000000; stroke-opacity: 0.5\"/>\n     <use xlink:href=\"#mfbed361534\" x=\"256.374008\" y=\"278.479141\" style=\"fill-opacity: 0.5; stroke: #000000; stroke-opacity: 0.5\"/>\n     <use xlink:href=\"#mfbed361534\" x=\"216.618023\" y=\"239.443036\" style=\"fill-opacity: 0.5; stroke: #000000; stroke-opacity: 0.5\"/>\n     <use xlink:href=\"#mfbed361534\" x=\"254.384498\" y=\"282.70172\" style=\"fill-opacity: 0.5; stroke: #000000; stroke-opacity: 0.5\"/>\n     <use xlink:href=\"#mfbed361534\" x=\"265.967832\" y=\"219.759886\" style=\"fill-opacity: 0.5; stroke: #000000; stroke-opacity: 0.5\"/>\n     <use xlink:href=\"#mfbed361534\" x=\"281.801407\" y=\"224.132905\" style=\"fill-opacity: 0.5; stroke: #000000; stroke-opacity: 0.5\"/>\n     <use xlink:href=\"#mfbed361534\" x=\"217.498412\" y=\"138.456215\" style=\"fill-opacity: 0.5; stroke: #000000; stroke-opacity: 0.5\"/>\n     <use xlink:href=\"#mfbed361534\" x=\"246.383636\" y=\"216.074084\" style=\"fill-opacity: 0.5; stroke: #000000; stroke-opacity: 0.5\"/>\n     <use xlink:href=\"#mfbed361534\" x=\"208.246331\" y=\"187.110492\" style=\"fill-opacity: 0.5; stroke: #000000; stroke-opacity: 0.5\"/>\n     <use xlink:href=\"#mfbed361534\" x=\"255.186623\" y=\"234.31758\" style=\"fill-opacity: 0.5; stroke: #000000; stroke-opacity: 0.5\"/>\n     <use xlink:href=\"#mfbed361534\" x=\"183.989294\" y=\"223.090691\" style=\"fill-opacity: 0.5; stroke: #000000; stroke-opacity: 0.5\"/>\n    </g>\n   </g>\n   <g id=\"line2d_20\">\n    <defs>\n     <path id=\"me10bc1f892\" d=\"M 0 -3 \nL -3 3 \nL 3 3 \nz\n\" style=\"stroke: #ff0000; stroke-opacity: 0.5; stroke-linejoin: miter\"/>\n    </defs>\n    <g clip-path=\"url(#p8cd00eb3d0)\">\n     <use xlink:href=\"#me10bc1f892\" x=\"218.684219\" y=\"89.062336\" style=\"fill: #ff0000; fill-opacity: 0.5; stroke: #ff0000; stroke-opacity: 0.5; stroke-linejoin: miter\"/>\n     <use xlink:href=\"#me10bc1f892\" x=\"246.614571\" y=\"133.822527\" style=\"fill: #ff0000; fill-opacity: 0.5; stroke: #ff0000; stroke-opacity: 0.5; stroke-linejoin: miter\"/>\n     <use xlink:href=\"#me10bc1f892\" x=\"118.003641\" y=\"114.372776\" style=\"fill: #ff0000; fill-opacity: 0.5; stroke: #ff0000; stroke-opacity: 0.5; stroke-linejoin: miter\"/>\n     <use xlink:href=\"#me10bc1f892\" x=\"295.274368\" y=\"112.303997\" style=\"fill: #ff0000; fill-opacity: 0.5; stroke: #ff0000; stroke-opacity: 0.5; stroke-linejoin: miter\"/>\n     <use xlink:href=\"#me10bc1f892\" x=\"224.506285\" y=\"90.186803\" style=\"fill: #ff0000; fill-opacity: 0.5; stroke: #ff0000; stroke-opacity: 0.5; stroke-linejoin: miter\"/>\n     <use xlink:href=\"#me10bc1f892\" x=\"275.523602\" y=\"97.345691\" style=\"fill: #ff0000; fill-opacity: 0.5; stroke: #ff0000; stroke-opacity: 0.5; stroke-linejoin: miter\"/>\n     <use xlink:href=\"#me10bc1f892\" x=\"177.208842\" y=\"126.55849\" style=\"fill: #ff0000; fill-opacity: 0.5; stroke: #ff0000; stroke-opacity: 0.5; stroke-linejoin: miter\"/>\n     <use xlink:href=\"#me10bc1f892\" x=\"227.277468\" y=\"104.485189\" style=\"fill: #ff0000; fill-opacity: 0.5; stroke: #ff0000; stroke-opacity: 0.5; stroke-linejoin: miter\"/>\n     <use xlink:href=\"#me10bc1f892\" x=\"234.279743\" y=\"143.869851\" style=\"fill: #ff0000; fill-opacity: 0.5; stroke: #ff0000; stroke-opacity: 0.5; stroke-linejoin: miter\"/>\n     <use xlink:href=\"#me10bc1f892\" x=\"184.225266\" y=\"35.94534\" style=\"fill: #ff0000; fill-opacity: 0.5; stroke: #ff0000; stroke-opacity: 0.5; stroke-linejoin: miter\"/>\n     <use xlink:href=\"#me10bc1f892\" x=\"212.199604\" y=\"198.256943\" style=\"fill: #ff0000; fill-opacity: 0.5; stroke: #ff0000; stroke-opacity: 0.5; stroke-linejoin: miter\"/>\n     <use xlink:href=\"#me10bc1f892\" x=\"162.496794\" y=\"66.771906\" style=\"fill: #ff0000; fill-opacity: 0.5; stroke: #ff0000; stroke-opacity: 0.5; stroke-linejoin: miter\"/>\n     <use xlink:href=\"#me10bc1f892\" x=\"246.947711\" y=\"130.937015\" style=\"fill: #ff0000; fill-opacity: 0.5; stroke: #ff0000; stroke-opacity: 0.5; stroke-linejoin: miter\"/>\n     <use xlink:href=\"#me10bc1f892\" x=\"209.854148\" y=\"65.25712\" style=\"fill: #ff0000; fill-opacity: 0.5; stroke: #ff0000; stroke-opacity: 0.5; stroke-linejoin: miter\"/>\n     <use xlink:href=\"#me10bc1f892\" x=\"229.110666\" y=\"34.918125\" style=\"fill: #ff0000; fill-opacity: 0.5; stroke: #ff0000; stroke-opacity: 0.5; stroke-linejoin: miter\"/>\n     <use xlink:href=\"#me10bc1f892\" x=\"185.689355\" y=\"95.23543\" style=\"fill: #ff0000; fill-opacity: 0.5; stroke: #ff0000; stroke-opacity: 0.5; stroke-linejoin: miter\"/>\n     <use xlink:href=\"#me10bc1f892\" x=\"214.43935\" y=\"57.892083\" style=\"fill: #ff0000; fill-opacity: 0.5; stroke: #ff0000; stroke-opacity: 0.5; stroke-linejoin: miter\"/>\n     <use xlink:href=\"#me10bc1f892\" x=\"255.892187\" y=\"82.046923\" style=\"fill: #ff0000; fill-opacity: 0.5; stroke: #ff0000; stroke-opacity: 0.5; stroke-linejoin: miter\"/>\n     <use xlink:href=\"#me10bc1f892\" x=\"228.382449\" y=\"62.050944\" style=\"fill: #ff0000; fill-opacity: 0.5; stroke: #ff0000; stroke-opacity: 0.5; stroke-linejoin: miter\"/>\n     <use xlink:href=\"#me10bc1f892\" x=\"235.641634\" y=\"90.915421\" style=\"fill: #ff0000; fill-opacity: 0.5; stroke: #ff0000; stroke-opacity: 0.5; stroke-linejoin: miter\"/>\n     <use xlink:href=\"#me10bc1f892\" x=\"135.211647\" y=\"87.192129\" style=\"fill: #ff0000; fill-opacity: 0.5; stroke: #ff0000; stroke-opacity: 0.5; stroke-linejoin: miter\"/>\n     <use xlink:href=\"#me10bc1f892\" x=\"171.408921\" y=\"149.951649\" style=\"fill: #ff0000; fill-opacity: 0.5; stroke: #ff0000; stroke-opacity: 0.5; stroke-linejoin: miter\"/>\n     <use xlink:href=\"#me10bc1f892\" x=\"154.223476\" y=\"44.087878\" style=\"fill: #ff0000; fill-opacity: 0.5; stroke: #ff0000; stroke-opacity: 0.5; stroke-linejoin: miter\"/>\n     <use xlink:href=\"#me10bc1f892\" x=\"190.325872\" y=\"96.02431\" style=\"fill: #ff0000; fill-opacity: 0.5; stroke: #ff0000; stroke-opacity: 0.5; stroke-linejoin: miter\"/>\n     <use xlink:href=\"#me10bc1f892\" x=\"244.856222\" y=\"142.644623\" style=\"fill: #ff0000; fill-opacity: 0.5; stroke: #ff0000; stroke-opacity: 0.5; stroke-linejoin: miter\"/>\n     <use xlink:href=\"#me10bc1f892\" x=\"176.18154\" y=\"61.631256\" style=\"fill: #ff0000; fill-opacity: 0.5; stroke: #ff0000; stroke-opacity: 0.5; stroke-linejoin: miter\"/>\n     <use xlink:href=\"#me10bc1f892\" x=\"156.484631\" y=\"101.596035\" style=\"fill: #ff0000; fill-opacity: 0.5; stroke: #ff0000; stroke-opacity: 0.5; stroke-linejoin: miter\"/>\n     <use xlink:href=\"#me10bc1f892\" x=\"228.278073\" y=\"131.104206\" style=\"fill: #ff0000; fill-opacity: 0.5; stroke: #ff0000; stroke-opacity: 0.5; stroke-linejoin: miter\"/>\n     <use xlink:href=\"#me10bc1f892\" x=\"159.264584\" y=\"109.823888\" style=\"fill: #ff0000; fill-opacity: 0.5; stroke: #ff0000; stroke-opacity: 0.5; stroke-linejoin: miter\"/>\n     <use xlink:href=\"#me10bc1f892\" x=\"233.259489\" y=\"75.26515\" style=\"fill: #ff0000; fill-opacity: 0.5; stroke: #ff0000; stroke-opacity: 0.5; stroke-linejoin: miter\"/>\n     <use xlink:href=\"#me10bc1f892\" x=\"199.443132\" y=\"83.869984\" style=\"fill: #ff0000; fill-opacity: 0.5; stroke: #ff0000; stroke-opacity: 0.5; stroke-linejoin: miter\"/>\n     <use xlink:href=\"#me10bc1f892\" x=\"222.376196\" y=\"114.932315\" style=\"fill: #ff0000; fill-opacity: 0.5; stroke: #ff0000; stroke-opacity: 0.5; stroke-linejoin: miter\"/>\n     <use xlink:href=\"#me10bc1f892\" x=\"216.077619\" y=\"70.329532\" style=\"fill: #ff0000; fill-opacity: 0.5; stroke: #ff0000; stroke-opacity: 0.5; stroke-linejoin: miter\"/>\n     <use xlink:href=\"#me10bc1f892\" x=\"153.967286\" y=\"36.379793\" style=\"fill: #ff0000; fill-opacity: 0.5; stroke: #ff0000; stroke-opacity: 0.5; stroke-linejoin: miter\"/>\n     <use xlink:href=\"#me10bc1f892\" x=\"184.155151\" y=\"139.586239\" style=\"fill: #ff0000; fill-opacity: 0.5; stroke: #ff0000; stroke-opacity: 0.5; stroke-linejoin: miter\"/>\n     <use xlink:href=\"#me10bc1f892\" x=\"215.786189\" y=\"120.229726\" style=\"fill: #ff0000; fill-opacity: 0.5; stroke: #ff0000; stroke-opacity: 0.5; stroke-linejoin: miter\"/>\n     <use xlink:href=\"#me10bc1f892\" x=\"226.51103\" y=\"132.087554\" style=\"fill: #ff0000; fill-opacity: 0.5; stroke: #ff0000; stroke-opacity: 0.5; stroke-linejoin: miter\"/>\n     <use xlink:href=\"#me10bc1f892\" x=\"130.535646\" y=\"81.303222\" style=\"fill: #ff0000; fill-opacity: 0.5; stroke: #ff0000; stroke-opacity: 0.5; stroke-linejoin: miter\"/>\n     <use xlink:href=\"#me10bc1f892\" x=\"210.989368\" y=\"96.5231\" style=\"fill: #ff0000; fill-opacity: 0.5; stroke: #ff0000; stroke-opacity: 0.5; stroke-linejoin: miter\"/>\n     <use xlink:href=\"#me10bc1f892\" x=\"149.355805\" y=\"131.727977\" style=\"fill: #ff0000; fill-opacity: 0.5; stroke: #ff0000; stroke-opacity: 0.5; stroke-linejoin: miter\"/>\n     <use xlink:href=\"#me10bc1f892\" x=\"221.426209\" y=\"81.677324\" style=\"fill: #ff0000; fill-opacity: 0.5; stroke: #ff0000; stroke-opacity: 0.5; stroke-linejoin: miter\"/>\n     <use xlink:href=\"#me10bc1f892\" x=\"163.826085\" y=\"90.235562\" style=\"fill: #ff0000; fill-opacity: 0.5; stroke: #ff0000; stroke-opacity: 0.5; stroke-linejoin: miter\"/>\n     <use xlink:href=\"#me10bc1f892\" x=\"194.023281\" y=\"94.309578\" style=\"fill: #ff0000; fill-opacity: 0.5; stroke: #ff0000; stroke-opacity: 0.5; stroke-linejoin: miter\"/>\n     <use xlink:href=\"#me10bc1f892\" x=\"240.683895\" y=\"67.31015\" style=\"fill: #ff0000; fill-opacity: 0.5; stroke: #ff0000; stroke-opacity: 0.5; stroke-linejoin: miter\"/>\n     <use xlink:href=\"#me10bc1f892\" x=\"185.334464\" y=\"78.42558\" style=\"fill: #ff0000; fill-opacity: 0.5; stroke: #ff0000; stroke-opacity: 0.5; stroke-linejoin: miter\"/>\n     <use xlink:href=\"#me10bc1f892\" x=\"166.213601\" y=\"71.496289\" style=\"fill: #ff0000; fill-opacity: 0.5; stroke: #ff0000; stroke-opacity: 0.5; stroke-linejoin: miter\"/>\n     <use xlink:href=\"#me10bc1f892\" x=\"198.11312\" y=\"156.590096\" style=\"fill: #ff0000; fill-opacity: 0.5; stroke: #ff0000; stroke-opacity: 0.5; stroke-linejoin: miter\"/>\n     <use xlink:href=\"#me10bc1f892\" x=\"140.68111\" y=\"112.449131\" style=\"fill: #ff0000; fill-opacity: 0.5; stroke: #ff0000; stroke-opacity: 0.5; stroke-linejoin: miter\"/>\n     <use xlink:href=\"#me10bc1f892\" x=\"235.525196\" y=\"78.085402\" style=\"fill: #ff0000; fill-opacity: 0.5; stroke: #ff0000; stroke-opacity: 0.5; stroke-linejoin: miter\"/>\n     <use xlink:href=\"#me10bc1f892\" x=\"207.784667\" y=\"126.134079\" style=\"fill: #ff0000; fill-opacity: 0.5; stroke: #ff0000; stroke-opacity: 0.5; stroke-linejoin: miter\"/>\n    </g>\n   </g>\n   <g id=\"patch_3\">\n    <path d=\"M 42.620313 299.518125 \nL 42.620313 22.318125 \n\" style=\"fill: none; stroke: #000000; stroke-width: 0.8; stroke-linejoin: miter; stroke-linecap: square\"/>\n   </g>\n   <g id=\"patch_4\">\n    <path d=\"M 321.620313 299.518125 \nL 321.620313 22.318125 \n\" style=\"fill: none; stroke: #000000; stroke-width: 0.8; stroke-linejoin: miter; stroke-linecap: square\"/>\n   </g>\n   <g id=\"patch_5\">\n    <path d=\"M 42.620313 299.518125 \nL 321.620312 299.518125 \n\" style=\"fill: none; stroke: #000000; stroke-width: 0.8; stroke-linejoin: miter; stroke-linecap: square\"/>\n   </g>\n   <g id=\"patch_6\">\n    <path d=\"M 42.620313 22.318125 \nL 321.620312 22.318125 \n\" style=\"fill: none; stroke: #000000; stroke-width: 0.8; stroke-linejoin: miter; stroke-linecap: square\"/>\n   </g>\n   <g id=\"text_20\">\n    <!-- The qwerties! -->\n    <g transform=\"translate(140.937813 16.318125) scale(0.12 -0.12)\">\n     <defs>\n      <path id=\"DejaVuSans-54\" d=\"M -19 4666 \nL 3928 4666 \nL 3928 4134 \nL 2272 4134 \nL 2272 0 \nL 1638 0 \nL 1638 4134 \nL -19 4134 \nL -19 4666 \nz\n\" transform=\"scale(0.015625)\"/>\n      <path id=\"DejaVuSans-68\" d=\"M 3513 2113 \nL 3513 0 \nL 2938 0 \nL 2938 2094 \nQ 2938 2591 2744 2837 \nQ 2550 3084 2163 3084 \nQ 1697 3084 1428 2787 \nQ 1159 2491 1159 1978 \nL 1159 0 \nL 581 0 \nL 581 4863 \nL 1159 4863 \nL 1159 2956 \nQ 1366 3272 1645 3428 \nQ 1925 3584 2291 3584 \nQ 2894 3584 3203 3211 \nQ 3513 2838 3513 2113 \nz\n\" transform=\"scale(0.015625)\"/>\n      <path id=\"DejaVuSans-21\" d=\"M 966 794 \nL 1600 794 \nL 1600 0 \nL 966 0 \nL 966 794 \nz\nM 966 4666 \nL 1600 4666 \nL 1600 2619 \nL 1538 1503 \nL 1031 1503 \nL 966 2619 \nL 966 4666 \nz\n\" transform=\"scale(0.015625)\"/>\n     </defs>\n     <use xlink:href=\"#DejaVuSans-54\"/>\n     <use xlink:href=\"#DejaVuSans-68\" x=\"61.083984\"/>\n     <use xlink:href=\"#DejaVuSans-65\" x=\"124.462891\"/>\n     <use xlink:href=\"#DejaVuSans-20\" x=\"185.986328\"/>\n     <use xlink:href=\"#DejaVuSans-71\" x=\"217.773438\"/>\n     <use xlink:href=\"#DejaVuSans-77\" x=\"281.25\"/>\n     <use xlink:href=\"#DejaVuSans-65\" x=\"363.037109\"/>\n     <use xlink:href=\"#DejaVuSans-72\" x=\"424.560547\"/>\n     <use xlink:href=\"#DejaVuSans-74\" x=\"465.673828\"/>\n     <use xlink:href=\"#DejaVuSans-69\" x=\"504.882812\"/>\n     <use xlink:href=\"#DejaVuSans-65\" x=\"532.666016\"/>\n     <use xlink:href=\"#DejaVuSans-73\" x=\"594.189453\"/>\n     <use xlink:href=\"#DejaVuSans-21\" x=\"646.289062\"/>\n    </g>\n   </g>\n  </g>\n </g>\n <defs>\n  <clipPath id=\"p8cd00eb3d0\">\n   <rect x=\"42.620313\" y=\"22.318125\" width=\"279\" height=\"277.2\"/>\n  </clipPath>\n </defs>\n</svg>\n"
     },
     "metadata": {}
    }
   ]
  },
  {
   "cell_type": "markdown",
   "metadata": {
    "id": "36x0DIWe3RkB"
   },
   "source": [
    "# Create the model"
   ]
  },
  {
   "cell_type": "code",
   "metadata": {
    "id": "z0YpD6f-j8dG",
    "executionInfo": {
     "status": "ok",
     "timestamp": 1690473134699,
     "user_tz": 240,
     "elapsed": 150,
     "user": {
      "displayName": "Mike X Cohen",
      "userId": "13901636194183843661"
     }
    }
   },
   "source": [
    "# create a class for the model\n",
    "def createTheQwertyNet(nUnits,nLayers):\n",
    "\n",
    "  class qwertyNet(nn.Module):\n",
    "    def __init__(self,nUnits,nLayers):\n",
    "      super().__init__()\n",
    "\n",
    "      # create dictionary to store the layers\n",
    "      self.layers = nn.ModuleDict()\n",
    "      self.nLayers = nLayers\n",
    "\n",
    "      ### input layer\n",
    "      self.layers['input'] = nn.Linear(2,nUnits)\n",
    "\n",
    "      ### hidden layers\n",
    "      for i in range(1,nLayers):\n",
    "        self.layers[f'hidden{i}'] = nn.Linear(nUnits,nUnits)\n",
    "\n",
    "      ### output layer\n",
    "      self.layers['output'] = nn.Linear(nUnits,3)\n",
    "\n",
    "\n",
    "    # forward pass\n",
    "    def forward(self,x):\n",
    "      # input layer\n",
    "      x = F.relu( self.layers['input'](x) )\n",
    "\n",
    "      # hidden layers\n",
    "      for i in range(1,self.nLayers):\n",
    "        x = F.relu( self.layers[f'hidden{i}'](x) )\n",
    "\n",
    "      # return output layer\n",
    "      x = self.layers['output'](x)\n",
    "      return x\n",
    "\n",
    "  # create the model instance\n",
    "  net = qwertyNet(nUnits,nLayers)\n",
    "\n",
    "  # loss function\n",
    "  lossfun = nn.CrossEntropyLoss()\n",
    "\n",
    "  # optimizer\n",
    "  optimizer = torch.optim.SGD(net.parameters(),lr=.01)\n",
    "\n",
    "  return net,lossfun,optimizer"
   ],
   "execution_count": 10,
   "outputs": []
  },
  {
   "cell_type": "code",
   "metadata": {
    "id": "krQeh5wYMNla",
    "colab": {
     "base_uri": "https://localhost:8080/"
    },
    "executionInfo": {
     "status": "ok",
     "timestamp": 1690473135190,
     "user_tz": 240,
     "elapsed": 2,
     "user": {
      "displayName": "Mike X Cohen",
      "userId": "13901636194183843661"
     }
    },
    "outputId": "eb278cda-b435-4e14-d627-49a35ddb2378"
   },
   "source": [
    "# test the model with fake input\n",
    "\n",
    "nUnitsPerLayer = 12\n",
    "nLayers = 4\n",
    "\n",
    "net,lossf,opt = createTheQwertyNet(nUnitsPerLayer,nLayers)\n",
    "print(net)\n",
    "\n",
    "# input is ten samples\n",
    "input = torch.rand(10,2)\n",
    "net(input)"
   ],
   "execution_count": 11,
   "outputs": [
    {
     "output_type": "stream",
     "name": "stdout",
     "text": [
      "qwertyNet(\n",
      "  (layers): ModuleDict(\n",
      "    (input): Linear(in_features=2, out_features=12, bias=True)\n",
      "    (hidden1): Linear(in_features=12, out_features=12, bias=True)\n",
      "    (hidden2): Linear(in_features=12, out_features=12, bias=True)\n",
      "    (hidden3): Linear(in_features=12, out_features=12, bias=True)\n",
      "    (output): Linear(in_features=12, out_features=3, bias=True)\n",
      "  )\n",
      ")\n"
     ]
    },
    {
     "output_type": "execute_result",
     "data": {
      "text/plain": [
       "tensor([[-0.0607, -0.2015, -0.3544],\n",
       "        [-0.0619, -0.2022, -0.3530],\n",
       "        [-0.0607, -0.2015, -0.3545],\n",
       "        [-0.0615, -0.1995, -0.3556],\n",
       "        [-0.0618, -0.2025, -0.3537],\n",
       "        [-0.0609, -0.2019, -0.3539],\n",
       "        [-0.0610, -0.2016, -0.3539],\n",
       "        [-0.0600, -0.1993, -0.3561],\n",
       "        [-0.0603, -0.2003, -0.3559],\n",
       "        [-0.0611, -0.2018, -0.3540]], grad_fn=<AddmmBackward0>)"
      ]
     },
     "metadata": {},
     "execution_count": 11
    }
   ]
  },
  {
   "cell_type": "markdown",
   "source": [
    "# Note:\n",
    "### There was a bug in the code I used in the video, which a student caught (see Q&A for this lecture).\n",
    "### This file is corrected, but it doesn't change the pattern or conclusion of the video.\n",
    "### The code cell below confirms that the model preserves the number of total units while varying the number of layers."
   ],
   "metadata": {
    "id": "TNKF2-H2qCU5"
   }
  },
  {
   "cell_type": "code",
   "source": [
    "# a function to count the number of units\n",
    "def count_units(model):\n",
    "  total_units = 0\n",
    "  for layer in model.modules():\n",
    "    if isinstance(layer, torch.nn.modules.linear.Linear):\n",
    "      total_units += layer.in_features\n",
    "  return total_units\n",
    "\n",
    "\n",
    "nNodesInModel = 80\n",
    "layersRange   = [ 1,5,10,20 ]\n",
    "\n",
    "# print out the model architectures\n",
    "for lidx,layers in enumerate(layersRange):\n",
    "\n",
    "  # create a model\n",
    "  unitsperlayer = int(nNodesInModel//layersRange[lidx])\n",
    "  net = createTheQwertyNet(unitsperlayer,layers)[0]\n",
    "\n",
    "  # count and print the results\n",
    "  print(f'Units/layer: {unitsperlayer}, layers: {layers}, Total count: {count_units(net)}')"
   ],
   "metadata": {
    "id": "lA033nNriLvm",
    "colab": {
     "base_uri": "https://localhost:8080/"
    },
    "executionInfo": {
     "status": "ok",
     "timestamp": 1690473136278,
     "user_tz": 240,
     "elapsed": 147,
     "user": {
      "displayName": "Mike X Cohen",
      "userId": "13901636194183843661"
     }
    },
    "outputId": "578e99a4-6fed-4afd-ca18-72147a9dce7f"
   },
   "execution_count": 12,
   "outputs": [
    {
     "output_type": "stream",
     "name": "stdout",
     "text": [
      "Units/layer: 80, layers: 1, Total count: 82\n",
      "Units/layer: 16, layers: 5, Total count: 82\n",
      "Units/layer: 8, layers: 10, Total count: 82\n",
      "Units/layer: 4, layers: 20, Total count: 82\n"
     ]
    }
   ]
  },
  {
   "cell_type": "markdown",
   "metadata": {
    "id": "l4TW9zEu3Ueh"
   },
   "source": [
    "# A function that trains the model"
   ]
  },
  {
   "cell_type": "code",
   "metadata": {
    "id": "7Q0nmoUPmu-5"
   },
   "source": [
    "def function2trainTheModel(nUnits,nLayers):\n",
    "\n",
    "  # number of epochs\n",
    "  numepochs = 50\n",
    "\n",
    "  # create a new model\n",
    "  net,lossfun,optimizer = createTheQwertyNet(nUnits,nLayers)\n",
    "\n",
    "  # initialize losses\n",
    "  losses   = torch.zeros(numepochs)\n",
    "  trainAcc = []\n",
    "  testAcc  = []\n",
    "\n",
    "  # loop over epochs\n",
    "  for epochi in range(numepochs):\n",
    "\n",
    "    # loop over training data batches\n",
    "    batchAcc  = []\n",
    "    batchLoss = []\n",
    "    for X,y in train_data:\n",
    "\n",
    "      # forward pass and loss\n",
    "      yHat = net(X)\n",
    "      loss = lossfun(yHat,y)\n",
    "\n",
    "      # backprop\n",
    "      optimizer.zero_grad()\n",
    "      loss.backward()\n",
    "      optimizer.step()\n",
    "\n",
    "      # loss from this batch\n",
    "      batchLoss.append(loss.item())\n",
    "\n",
    "      # compute accuracy\n",
    "      matches = torch.argmax(yHat,axis=1) == y     # booleans (false/true)\n",
    "      matchesNumeric = matches.float()             # convert to numbers (0/1)\n",
    "      accuracyPct = 100*torch.mean(matchesNumeric) # average and x100\n",
    "      batchAcc.append( accuracyPct )               # add to list of accuracies\n",
    "    # end of batch loop...\n",
    "\n",
    "    # now that we've trained through the batches, get their average training accuracy\n",
    "    trainAcc.append( np.mean(batchAcc) )\n",
    "\n",
    "    # and get average losses across the batches\n",
    "    losses[epochi] = np.mean(batchLoss)\n",
    "\n",
    "    # test accuracy\n",
    "    X,y = next(iter(test_data)) # extract X,y from test dataloader\n",
    "    with torch.no_grad(): # deactivates autograd\n",
    "      yHat = net(X)\n",
    "\n",
    "    # compare the following really long line of code to the training accuracy lines\n",
    "    testAcc.append( 100*torch.mean((torch.argmax(yHat,axis=1)==y).float()) )\n",
    "  # end epochs\n",
    "\n",
    "  # function output\n",
    "  return trainAcc,testAcc,losses,net\n"
   ],
   "execution_count": null,
   "outputs": []
  },
  {
   "cell_type": "code",
   "metadata": {
    "id": "of9E8ClxMNsD"
   },
   "source": [
    "### Test the model once with a bit of data, just to make sure the code works.\n",
    "\n",
    "# generate the data\n",
    "theData = createSomeData(200)\n",
    "train_data = theData['train_data']\n",
    "test_data  = theData['test_data']\n",
    "\n",
    "# run the model\n",
    "trainAcc,testAcc,losses,net = function2trainTheModel(80,1)\n",
    "\n",
    "\n",
    "\n",
    "# show the results!\n",
    "fig,ax = plt.subplots(1,2,figsize=(13,4))\n",
    "\n",
    "ax[0].plot(losses.detach())\n",
    "ax[0].set_ylabel('Loss')\n",
    "ax[0].set_xlabel('epoch')\n",
    "ax[0].set_title('Losses')\n",
    "\n",
    "ax[1].plot(trainAcc,label='Train')\n",
    "ax[1].plot(testAcc,label='Test')\n",
    "ax[1].set_ylabel('Accuracy (%)')\n",
    "ax[1].set_xlabel('Epoch')\n",
    "ax[1].set_title('Accuracy')\n",
    "ax[1].legend()\n",
    "plt.show()"
   ],
   "execution_count": null,
   "outputs": []
  },
  {
   "cell_type": "markdown",
   "metadata": {
    "id": "zmX6K49WMNuy"
   },
   "source": [
    "# Now for the experiment!"
   ]
  },
  {
   "cell_type": "code",
   "metadata": {
    "id": "196UnpfLYldk"
   },
   "source": [
    "# before the experiment, configure and confirm the metaparameters\n",
    "\n",
    "# specify the parameters for the model\n",
    "nNodesInModel = 80\n",
    "layersRange   = [ 1,5,10,20 ]\n",
    "nDatapoints   = np.arange(50,551,50)\n",
    "\n",
    "# create a legend for later plotting\n",
    "legend = []\n",
    "\n",
    "# print out the model architectures\n",
    "for lidx,layers in enumerate(layersRange):\n",
    "\n",
    "  # create a model\n",
    "  unitsperlayer = int(nNodesInModel/layersRange[lidx])\n",
    "  net = createTheQwertyNet(unitsperlayer,layers)[0]\n",
    "\n",
    "  # count its parameters (see lecture ANNs:Depth vs. breadth)\n",
    "  nparams = np.sum([ p.numel() for p in net.parameters() if p.requires_grad ])\n",
    "\n",
    "  legend.append( '%s layers, %s units, %s params' %(layers,unitsperlayer,nparams) )\n",
    "  print('This model will have %s layers, each with %s units, totalling %s parameters' %(layers,unitsperlayer,nparams))"
   ],
   "execution_count": null,
   "outputs": []
  },
  {
   "cell_type": "code",
   "metadata": {
    "id": "2J0jeXG3SnZZ"
   },
   "source": [
    "# note: takes ~5 mins\n",
    "\n",
    "# initialize results matrix\n",
    "results = np.zeros((len(nDatapoints),len(layersRange),2))\n",
    "\n",
    "for didx,pnts in enumerate(nDatapoints):\n",
    "\n",
    "  # create data (note: same data for each layer manipulation!)\n",
    "  theData = createSomeData(pnts)\n",
    "  train_data = theData['train_data']\n",
    "  test_data  = theData['test_data']\n",
    "\n",
    "\n",
    "  # now loop over layers\n",
    "  for lidx,layers in enumerate(layersRange):\n",
    "\n",
    "    unitsperlayer = int(nNodesInModel/layersRange[lidx])\n",
    "    trainAcc,testAcc,losses,net = function2trainTheModel(unitsperlayer,layers)\n",
    "\n",
    "    # average of last 5 accuracies and losses\n",
    "    results[didx,lidx,0] = np.mean( testAcc[-5:] )\n",
    "    results[didx,lidx,1] = torch.mean(losses[-5:]).item()"
   ],
   "execution_count": null,
   "outputs": []
  },
  {
   "cell_type": "code",
   "metadata": {
    "id": "hEegaXDsSnca"
   },
   "source": [
    "# show the results!\n",
    "\n",
    "fig,ax = plt.subplots(1,2,figsize=(15,5))\n",
    "ax[0].plot(nDatapoints,results[:,:,1],'s-')\n",
    "ax[0].set_ylabel('Loss')\n",
    "ax[0].set_xlabel('Number of data points')\n",
    "ax[0].legend(legend)\n",
    "ax[0].set_title('Losses')\n",
    "\n",
    "ax[1].plot(nDatapoints,results[:,:,0],'o-')\n",
    "ax[1].set_ylabel('Accuracy (%)')\n",
    "ax[1].set_xlabel('Number of data points')\n",
    "ax[1].set_title('Accuracy')\n",
    "ax[1].legend(legend)\n",
    "plt.show()\n"
   ],
   "execution_count": null,
   "outputs": []
  },
  {
   "cell_type": "code",
   "metadata": {
    "id": "LrzrWK39SniK"
   },
   "source": [
    "# Interpretation:\n",
    "#   Learning depends more on the architecture and the nature of the problem, than on the number of parameters."
   ],
   "execution_count": null,
   "outputs": []
  },
  {
   "cell_type": "code",
   "metadata": {
    "id": "fExGSRvqvnAl"
   },
   "source": [],
   "execution_count": null,
   "outputs": []
  },
  {
   "cell_type": "markdown",
   "metadata": {
    "id": "FLO0SxB-Snkq"
   },
   "source": [
    "# Additional explorations"
   ]
  },
  {
   "cell_type": "code",
   "metadata": {
    "id": "FOJhMXXISQ0J"
   },
   "source": [
    "# 1) The model learns faster and better with the Adam optimizer. In fact, I intentionally used SGD here to make the\n",
    "#    model worse for this demonstration! Change the optimizer to Adam. What do you think is a good learning rate?\n",
    "#    More importantly: Do the conclusions of this experiment hold for the Adam optimizer?\n",
    "#\n",
    "# 2) Add a timer to the experiment loop. Does the training duration relate to the number of layers or the number\n",
    "#    of parameters?\n",
    "#\n",
    "# 3) Do the two deepest models eventually learn if you increase the number of training epochs? (Note: because this\n",
    "#    question is only about the deepest models and because training time will increase, you need only test the two\n",
    "#    models, not all four.)\n",
    "#"
   ],
   "execution_count": null,
   "outputs": []
  }
 ]
}