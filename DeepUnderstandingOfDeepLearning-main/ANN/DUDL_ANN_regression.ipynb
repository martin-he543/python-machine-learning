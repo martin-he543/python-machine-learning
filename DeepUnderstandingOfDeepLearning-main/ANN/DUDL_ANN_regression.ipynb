{
 "nbformat": 4,
 "nbformat_minor": 0,
 "metadata": {
  "colab": {
   "name": "DUDL_ANN_regression.ipynb",
   "provenance": [
    {
     "file_id": "1FtQ99beHYcDFDywLdaPgFm-KjBeI8PvD",
     "timestamp": 1615884593383
    }
   ],
   "collapsed_sections": [],
   "authorship_tag": "ABX9TyOfbw74CIER4uMxvaGa9RbX"
  },
  "kernelspec": {
   "name": "python3",
   "display_name": "Python 3"
  }
 },
 "cells": [
  {
   "cell_type": "markdown",
   "metadata": {
    "id": "bhWV8oes-wKR"
   },
   "source": [
    "# COURSE: A deep understanding of deep learning\n",
    "## SECTION: ANNs\n",
    "### LECTURE: ANN for regression\n",
    "#### TEACHER: Mike X Cohen, sincxpress.com\n",
    "##### COURSE URL: udemy.com/course/deeplearning_x/?couponCode=202401"
   ]
  },
  {
   "cell_type": "code",
   "metadata": {
    "id": "j7-LiwqUMGYL"
   },
   "source": [
    "# import libraries\n",
    "import numpy as np\n",
    "import torch\n",
    "import torch.nn as nn\n",
    "import matplotlib.pyplot as plt\n",
    "import matplotlib_inline.backend_inline\n",
    "matplotlib_inline.backend_inline.set_matplotlib_formats('svg')"
   ],
   "execution_count": null,
   "outputs": []
  },
  {
   "cell_type": "code",
   "metadata": {
    "id": "j-SP8NPsMNRL"
   },
   "source": [
    "# create data\n",
    "\n",
    "N = 30\n",
    "x = torch.randn(N,1)\n",
    "y = x + torch.randn(N,1)/2\n",
    "\n",
    "# and plot\n",
    "plt.plot(x,y,'s')\n",
    "plt.show()"
   ],
   "execution_count": null,
   "outputs": []
  },
  {
   "cell_type": "code",
   "metadata": {
    "id": "krQeh5wYMNla"
   },
   "source": [
    "# build model\n",
    "ANNreg = nn.Sequential(\n",
    "    nn.Linear(1,1),  # input layer\n",
    "    nn.ReLU(),       # activation function\n",
    "    nn.Linear(1,1)   # output layer\n",
    "    )\n",
    "\n",
    "ANNreg"
   ],
   "execution_count": null,
   "outputs": []
  },
  {
   "cell_type": "code",
   "metadata": {
    "id": "dmHh7GrvMNoy"
   },
   "source": [
    "# learning rate\n",
    "learningRate = .05\n",
    "\n",
    "# loss function\n",
    "lossfun = nn.MSELoss()\n",
    "\n",
    "# optimizer (the flavor of gradient descent to implement)\n",
    "optimizer = torch.optim.SGD(ANNreg.parameters(),lr=learningRate)"
   ],
   "execution_count": null,
   "outputs": []
  },
  {
   "cell_type": "code",
   "metadata": {
    "id": "of9E8ClxMNsD"
   },
   "source": [
    "# train the model\n",
    "numepochs = 500\n",
    "losses = torch.zeros(numepochs)\n",
    "\n",
    "\n",
    "## Train the model!\n",
    "for epochi in range(numepochs):\n",
    "\n",
    "  # forward pass\n",
    "  yHat = ANNreg(x)\n",
    "\n",
    "  # compute loss\n",
    "  loss = lossfun(yHat,y)\n",
    "  losses[epochi] = loss\n",
    "\n",
    "  # backprop\n",
    "  optimizer.zero_grad()\n",
    "  loss.backward()\n",
    "  optimizer.step()"
   ],
   "execution_count": null,
   "outputs": []
  },
  {
   "cell_type": "code",
   "metadata": {
    "id": "zmX6K49WMNuy"
   },
   "source": [
    "# show the losses\n",
    "\n",
    "# manually compute losses\n",
    "# final forward pass\n",
    "predictions = ANNreg(x)\n",
    "\n",
    "# final loss (MSE)\n",
    "testloss = (predictions-y).pow(2).mean()\n",
    "\n",
    "plt.plot(losses.detach(),'o',markerfacecolor='w',linewidth=.1)\n",
    "plt.plot(numepochs,testloss.detach(),'ro')\n",
    "plt.xlabel('Epoch')\n",
    "plt.ylabel('Loss')\n",
    "plt.title('Final loss = %g' %testloss.item())\n",
    "plt.show()"
   ],
   "execution_count": null,
   "outputs": []
  },
  {
   "cell_type": "code",
   "metadata": {
    "id": "Lv_-DTq1LlDH"
   },
   "source": [
    "testloss.item()"
   ],
   "execution_count": null,
   "outputs": []
  },
  {
   "cell_type": "code",
   "metadata": {
    "id": "i1TCt0mpMNxC"
   },
   "source": [
    "# plot the data\n",
    "plt.plot(x,y,'bo',label='Real data')\n",
    "plt.plot(x,predictions.detach(),'rs',label='Predictions')\n",
    "plt.title(f'prediction-data r={np.corrcoef(y.T,predictions.detach().T)[0,1]:.2f}')\n",
    "plt.legend()\n",
    "plt.show()"
   ],
   "execution_count": null,
   "outputs": []
  },
  {
   "cell_type": "code",
   "metadata": {
    "id": "vGkQUzqhUFpq"
   },
   "source": [
    ""
   ],
   "execution_count": null,
   "outputs": []
  },
  {
   "cell_type": "markdown",
   "metadata": {
    "id": "JmraVzTcJ0x1"
   },
   "source": [
    "# Additional explorations"
   ]
  },
  {
   "cell_type": "code",
   "metadata": {
    "id": "pml6nCTcAMWC"
   },
   "source": [
    "# 1) How much data is \"enough\"? Try different values of N and see how low the loss gets. \n",
    "#    Do you still get low loss (\"low\" is subjective, but let's say loss<.25) with N=10? N=5?\n",
    "# \n",
    "# 2) Does your conclusion above depend on the amount of noise in the data? Try changing the noise level\n",
    "#    by changing the division (\"/2\") when creating y as x+randn.\n",
    "# \n",
    "# 3) Notice that the model doesn't always work well. Put the original code (that is, N=30 and /2 noise)\n",
    "#    into a function or a for-loop and repeat the training 100 times (each time using a fresh model instance).\n",
    "#    Then count the number of times the model had a loss>.25."
   ],
   "execution_count": null,
   "outputs": []
  }
 ]
}