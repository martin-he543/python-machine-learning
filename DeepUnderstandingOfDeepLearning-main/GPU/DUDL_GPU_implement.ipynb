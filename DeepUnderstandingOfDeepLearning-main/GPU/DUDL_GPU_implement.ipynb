{
 "nbformat": 4,
 "nbformat_minor": 0,
 "metadata": {
  "colab": {
   "name": "DUDL_GPU_implement.ipynb",
   "provenance": [],
   "collapsed_sections": [],
   "authorship_tag": "ABX9TyO6Sbwn18acQD5H5eD06W+E"
  },
  "kernelspec": {
   "name": "python3",
   "display_name": "Python 3"
  },
  "language_info": {
   "name": "python"
  },
  "accelerator": "GPU"
 },
 "cells": [
  {
   "cell_type": "markdown",
   "metadata": {
    "id": "bhWV8oes-wKR"
   },
   "source": [
    "# COURSE: A deep understanding of deep learning\n",
    "## SECTION: Running models on a GPU\n",
    "### LECTURE: Implementation\n",
    "#### TEACHER: Mike X Cohen, sincxpress.com\n",
    "##### COURSE URL: udemy.com/course/deeplearning_x/?couponCode=202401"
   ]
  },
  {
   "cell_type": "code",
   "metadata": {
    "id": "YeuAheYyhdZw"
   },
   "source": [
    "# import libraries\n",
    "import torch\n",
    "import torch.nn as nn\n",
    "import matplotlib.pyplot as plt\n",
    "import time"
   ],
   "execution_count": null,
   "outputs": []
  },
  {
   "cell_type": "markdown",
   "metadata": {
    "id": "g0O-zq4UiM0P"
   },
   "source": [
    "# Select the processor device"
   ]
  },
  {
   "cell_type": "code",
   "metadata": {
    "id": "03MycVnQiRqO"
   },
   "source": [
    "## Note: To run models on a GPU you must select from the menu:\n",
    "#   -> Runtime\n",
    "#     -> Change runtime type\n",
    "#       -> Hardware accelerator\n",
    "#         -> GPU"
   ],
   "execution_count": null,
   "outputs": []
  },
  {
   "cell_type": "code",
   "metadata": {
    "id": "cThPRuj_iJA2"
   },
   "source": [
    "# use GPU\n",
    "device = torch.device('cuda:0' if torch.cuda.is_available() else 'cpu')\n",
    "print(device)"
   ],
   "execution_count": null,
   "outputs": []
  },
  {
   "cell_type": "markdown",
   "metadata": {
    "id": "rcumdem5jtiD"
   },
   "source": [
    "# Build a simple model"
   ]
  },
  {
   "cell_type": "code",
   "metadata": {
    "id": "AMi1lQWOj09S"
   },
   "source": [
    "net = nn.Sequential(\n",
    "    nn.Linear(20,100),\n",
    "    nn.ReLU(),\n",
    "    nn.Linear(100,500),\n",
    "    nn.ReLU(),\n",
    "    nn.Linear(500,30),\n",
    "    nn.ReLU(),\n",
    "    nn.Linear(30,2)\n",
    "      )"
   ],
   "execution_count": null,
   "outputs": []
  },
  {
   "cell_type": "markdown",
   "metadata": {
    "id": "TTfiVpw5j6Mq"
   },
   "source": [
    "# Make some data"
   ]
  },
  {
   "cell_type": "code",
   "metadata": {
    "id": "A_AGHhXDj1UN"
   },
   "source": [
    "# just some random fluff\n",
    "data   = torch.randn((1000,20)) # samples X features\n",
    "labels = torch.randint(low=0,high=2,size=(1,1000))"
   ],
   "execution_count": null,
   "outputs": []
  },
  {
   "cell_type": "markdown",
   "metadata": {
    "id": "laT9cpQcmA1l"
   },
   "source": [
    "# Send the model and the data to the GPU"
   ]
  },
  {
   "cell_type": "code",
   "metadata": {
    "id": "nQzP_FXLj1QW"
   },
   "source": [
    "# model\n",
    "net.to(device)\n",
    "\n",
    "# data\n",
    "data   = data.to(device)\n",
    "labels = labels.to(device)"
   ],
   "execution_count": null,
   "outputs": []
  },
  {
   "cell_type": "code",
   "metadata": {
    "id": "b-uDroB7jPBe"
   },
   "source": [
    "data"
   ],
   "execution_count": null,
   "outputs": []
  },
  {
   "cell_type": "code",
   "metadata": {
    "id": "kCg4D6Hlfkgb"
   },
   "source": [
    "# you can also create data directly on the GPU\n",
    "dataG = torch.randn((1000,20),device=device)\n",
    "dataC = torch.randn((1000,20),device='cpu')\n",
    "\n",
    "print(data.device)\n",
    "print(dataG.device)\n",
    "print(dataC.device)"
   ],
   "execution_count": null,
   "outputs": []
  },
  {
   "cell_type": "markdown",
   "metadata": {
    "id": "9yrwlRyQj1dF"
   },
   "source": [
    "# Getting results from the model"
   ]
  },
  {
   "cell_type": "code",
   "metadata": {
    "id": "tryFiNSej1gF"
   },
   "source": [
    "output = net(data)"
   ],
   "execution_count": null,
   "outputs": []
  },
  {
   "cell_type": "code",
   "metadata": {
    "id": "_0-0zxQOj1it"
   },
   "source": [
    "output.device"
   ],
   "execution_count": null,
   "outputs": []
  },
  {
   "cell_type": "code",
   "metadata": {
    "id": "DQVKoRmWmUm5"
   },
   "source": [
    "# try to plot the data\n",
    "plt.plot(output.detach());\n",
    "\n",
    "# plt.plot(output.detach().cpu());"
   ],
   "execution_count": null,
   "outputs": []
  },
  {
   "cell_type": "markdown",
   "metadata": {
    "id": "VcNrG3HRnwms"
   },
   "source": [
    "# Experiment: Computation time"
   ]
  },
  {
   "cell_type": "code",
   "metadata": {
    "id": "4lJBOELHnyJf"
   },
   "source": [
    "# start the clock\n",
    "starttime = time.process_time()\n",
    "\n",
    "# move, run, retrieve\n",
    "device = 'cuda:0'\n",
    "net.to(device)\n",
    "data   = data.to(device)\n",
    "labels = labels.to(device)\n",
    "output = net(data).detach().cpu()\n",
    "\n",
    "# stop the clock\n",
    "GPUtime = 1000*(time.process_time() - starttime)"
   ],
   "execution_count": null,
   "outputs": []
  },
  {
   "cell_type": "code",
   "metadata": {
    "id": "a3o-SgmMnyMG"
   },
   "source": [
    "# start the clock\n",
    "starttime = time.process_time()\n",
    "\n",
    "# move, run, retrieve\n",
    "device = 'cpu'\n",
    "net.to(device)\n",
    "data   = data.to(device)\n",
    "labels = labels.to(device)\n",
    "output = net(data).detach().cpu()\n",
    "\n",
    "# stop the clock\n",
    "CPUtime = 1000*(time.process_time() - starttime)"
   ],
   "execution_count": null,
   "outputs": []
  },
  {
   "cell_type": "code",
   "metadata": {
    "id": "hzYccKwjnyOw"
   },
   "source": [
    "# time in ms\n",
    "[CPUtime,GPUtime]"
   ],
   "execution_count": null,
   "outputs": []
  },
  {
   "cell_type": "code",
   "metadata": {
    "id": "Bo5dt4Nipprn"
   },
   "source": [
    "# but maybe \"sending\" it to the CPU takes too much overhead?"
   ],
   "execution_count": null,
   "outputs": []
  },
  {
   "cell_type": "code",
   "metadata": {
    "id": "J-NvS5tvnyRX"
   },
   "source": [
    "# recreate network and data\n",
    "net  = nn.Sequential(nn.Linear(20,100),nn.ReLU(),nn.Linear(100,500),nn.ReLU(),nn.Linear(500,30),nn.ReLU(),nn.Linear(30,2))\n",
    "data = torch.randn((1000,20))\n",
    "\n",
    "# rerun the experiment\n",
    "starttime = time.process_time()\n",
    "output    = net(data).detach()\n",
    "CPUtime2  = 1000*(time.process_time() - starttime)\n",
    "\n",
    "# report the results\n",
    "[CPUtime2,CPUtime,GPUtime]"
   ],
   "execution_count": null,
   "outputs": []
  },
  {
   "cell_type": "code",
   "metadata": {
    "id": "dJ1p2lXWkSdl"
   },
   "source": [
    ""
   ],
   "execution_count": null,
   "outputs": []
  }
 ]
}